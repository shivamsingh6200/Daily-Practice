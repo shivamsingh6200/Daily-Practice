{
 "cells": [
  {
   "cell_type": "code",
   "execution_count": 1,
   "id": "8ef35afa",
   "metadata": {},
   "outputs": [],
   "source": [
    "def greet():\n",
    "    print(\"Hello  world\")"
   ]
  },
  {
   "cell_type": "code",
   "execution_count": 2,
   "id": "46083020",
   "metadata": {},
   "outputs": [
    {
     "name": "stdout",
     "output_type": "stream",
     "text": [
      "Hello  world\n"
     ]
    }
   ],
   "source": [
    "greet()"
   ]
  },
  {
   "cell_type": "code",
   "execution_count": 15,
   "id": "d7ce1235",
   "metadata": {},
   "outputs": [],
   "source": [
    "def addtwonumbers():\n",
    "    n1=input(\"Enter first no. : \")\n",
    "    n2=input(\"Enter second no. : \")\n",
    "    n3=int(n1)+int(n2)\n",
    "    print(\"sum : \",n3)"
   ]
  },
  {
   "cell_type": "code",
   "execution_count": 17,
   "id": "fdfc2053",
   "metadata": {},
   "outputs": [
    {
     "name": "stdout",
     "output_type": "stream",
     "text": [
      "Enter first no. : 9\n",
      "Enter second no. : 55\n",
      "sum :  64\n"
     ]
    }
   ],
   "source": [
    "addtwonumbers()"
   ]
  },
  {
   "cell_type": "code",
   "execution_count": 18,
   "id": "e611535c",
   "metadata": {},
   "outputs": [
    {
     "name": "stdout",
     "output_type": "stream",
     "text": [
      "Enter first no. : 6\n",
      "Enter second no. : 5\n",
      "sum :  11\n"
     ]
    }
   ],
   "source": [
    "addtwonumbers()"
   ]
  },
  {
   "cell_type": "code",
   "execution_count": 19,
   "id": "a8d9011e",
   "metadata": {},
   "outputs": [],
   "source": [
    "def multiplytwonumbers(m1,m2):\n",
    "    n1=m1\n",
    "    n2=m2\n",
    "    n3=n1*n2\n",
    "    print(\"product : \",n3)"
   ]
  },
  {
   "cell_type": "code",
   "execution_count": 20,
   "id": "d091fba2",
   "metadata": {},
   "outputs": [
    {
     "name": "stdout",
     "output_type": "stream",
     "text": [
      "product :  30\n"
     ]
    }
   ],
   "source": [
    "multiplytwonumbers(5,6)"
   ]
  },
  {
   "cell_type": "code",
   "execution_count": 21,
   "id": "6e7aaeb4",
   "metadata": {},
   "outputs": [
    {
     "name": "stdout",
     "output_type": "stream",
     "text": [
      "product :  48\n"
     ]
    }
   ],
   "source": [
    "multiplytwonumbers(8,6)"
   ]
  },
  {
   "cell_type": "code",
   "execution_count": 22,
   "id": "328d0d6c",
   "metadata": {},
   "outputs": [],
   "source": [
    "def introduction(name):\n",
    "    print(\"hi\",name)"
   ]
  },
  {
   "cell_type": "code",
   "execution_count": 23,
   "id": "810ea470",
   "metadata": {},
   "outputs": [
    {
     "name": "stdout",
     "output_type": "stream",
     "text": [
      "hi shivam\n"
     ]
    }
   ],
   "source": [
    "introduction(\"shivam\")"
   ]
  },
  {
   "cell_type": "code",
   "execution_count": 24,
   "id": "d21ed15e",
   "metadata": {},
   "outputs": [
    {
     "name": "stdout",
     "output_type": "stream",
     "text": [
      "hi raj\n"
     ]
    }
   ],
   "source": [
    "introduction(\"raj\")"
   ]
  },
  {
   "cell_type": "code",
   "execution_count": 29,
   "id": "a40db447",
   "metadata": {},
   "outputs": [],
   "source": [
    "def joinname():\n",
    "    fname=input(\"Enter your first name : \")\n",
    "    lname=input('Enter your last name : ')\n",
    "    print(\"Your full name is : \",fname+lname)"
   ]
  },
  {
   "cell_type": "code",
   "execution_count": 28,
   "id": "9dd04a11",
   "metadata": {},
   "outputs": [
    {
     "name": "stdout",
     "output_type": "stream",
     "text": [
      "Enter your first name : shivam\n",
      "Enter your last name : singh\n",
      "Your full name is :  shivamsingh\n"
     ]
    }
   ],
   "source": [
    "joinname()"
   ]
  },
  {
   "cell_type": "code",
   "execution_count": 30,
   "id": "6f52890d",
   "metadata": {},
   "outputs": [],
   "source": [
    "def absolute(n):\n",
    "    if n>=0:\n",
    "        print(n)\n",
    "    else:\n",
    "        print(-n)"
   ]
  },
  {
   "cell_type": "code",
   "execution_count": 32,
   "id": "f4f03cac",
   "metadata": {},
   "outputs": [
    {
     "name": "stdout",
     "output_type": "stream",
     "text": [
      "5\n"
     ]
    }
   ],
   "source": [
    "absolute(-5)"
   ]
  },
  {
   "cell_type": "code",
   "execution_count": 33,
   "id": "632ef377",
   "metadata": {},
   "outputs": [
    {
     "name": "stdout",
     "output_type": "stream",
     "text": [
      "105\n"
     ]
    }
   ],
   "source": [
    "absolute(-105)"
   ]
  },
  {
   "cell_type": "code",
   "execution_count": 34,
   "id": "3256d77e",
   "metadata": {},
   "outputs": [
    {
     "name": "stdout",
     "output_type": "stream",
     "text": [
      "925\n"
     ]
    }
   ],
   "source": [
    "absolute(925)"
   ]
  },
  {
   "cell_type": "code",
   "execution_count": 38,
   "id": "c4ab8629",
   "metadata": {},
   "outputs": [],
   "source": [
    "def fullname(a,b):\n",
    "    c=a+b\n",
    "    return c"
   ]
  },
  {
   "cell_type": "code",
   "execution_count": 40,
   "id": "c55a2a6f",
   "metadata": {},
   "outputs": [],
   "source": [
    "x=fullname(\"shivam\",\"singh\")"
   ]
  },
  {
   "cell_type": "code",
   "execution_count": 41,
   "id": "c9c77ac9",
   "metadata": {},
   "outputs": [
    {
     "data": {
      "text/plain": [
       "'shivamsingh'"
      ]
     },
     "execution_count": 41,
     "metadata": {},
     "output_type": "execute_result"
    }
   ],
   "source": [
    "x"
   ]
  },
  {
   "cell_type": "code",
   "execution_count": 44,
   "id": "30a78131",
   "metadata": {},
   "outputs": [],
   "source": [
    "def areaofcir(radius):\n",
    "    area=(3.14*(radius**2))\n",
    "    return area"
   ]
  },
  {
   "cell_type": "code",
   "execution_count": 45,
   "id": "05d629f9",
   "metadata": {},
   "outputs": [
    {
     "data": {
      "text/plain": [
       "78.5"
      ]
     },
     "execution_count": 45,
     "metadata": {},
     "output_type": "execute_result"
    }
   ],
   "source": [
    "areaofcir(5)"
   ]
  },
  {
   "cell_type": "code",
   "execution_count": 57,
   "id": "cb006a8a",
   "metadata": {},
   "outputs": [],
   "source": [
    "def print_even_number(a,b):\n",
    "    for i in range(a,b+1):\n",
    "        if i%2==0:\n",
    "            print(i,end=\" \")"
   ]
  },
  {
   "cell_type": "code",
   "execution_count": 58,
   "id": "89771b6c",
   "metadata": {},
   "outputs": [
    {
     "name": "stdout",
     "output_type": "stream",
     "text": [
      "14 16 18 20 "
     ]
    }
   ],
   "source": [
    "print_even_number(14,20)"
   ]
  },
  {
   "cell_type": "markdown",
   "id": "1f02393c",
   "metadata": {},
   "source": [
    "### Check right triangle"
   ]
  },
  {
   "cell_type": "code",
   "execution_count": 67,
   "id": "34019135",
   "metadata": {},
   "outputs": [],
   "source": [
    "def checkrighttriangle():\n",
    "    s1=int(input(\"Enter the first side of triangle : \"))\n",
    "    s2=int(input(\"Enter the second side of triangle : \"))\n",
    "    s3=int(input(\"Enter the third side of triangle : \"))\n",
    "    if s1**2 == s2**2 + s3**2 or s2**2 == s1**2 + s3**2 or s3**2 == s1**2 + s2**2:\n",
    "        print(\"Yes\")\n",
    "    else:\n",
    "        print(\"No\")"
   ]
  },
  {
   "cell_type": "code",
   "execution_count": 70,
   "id": "1dcd9ce2",
   "metadata": {},
   "outputs": [
    {
     "name": "stdout",
     "output_type": "stream",
     "text": [
      "Enter the first side of triangle : 5\n",
      "Enter the second side of triangle : 12\n",
      "Enter the third side of triangle : 13\n",
      "Yes\n"
     ]
    }
   ],
   "source": [
    "checkrighttriangle()"
   ]
  },
  {
   "cell_type": "markdown",
   "id": "10800e05",
   "metadata": {},
   "source": [
    "### Find even odd without \"%\""
   ]
  },
  {
   "cell_type": "code",
   "execution_count": 107,
   "id": "50cbab76",
   "metadata": {},
   "outputs": [],
   "source": [
    "def evenodd():   \n",
    "    num1=int(input(\"Enter a number : \"))\n",
    "    if ((num1/2 - num1//2) == 0.5 ):\n",
    "        print(\"Odd\")\n",
    "    else:\n",
    "        print('Even')"
   ]
  },
  {
   "cell_type": "code",
   "execution_count": 108,
   "id": "56e5af74",
   "metadata": {},
   "outputs": [
    {
     "name": "stdout",
     "output_type": "stream",
     "text": [
      "Enter a number : 55\n",
      "Odd\n"
     ]
    }
   ],
   "source": [
    "evenodd()"
   ]
  },
  {
   "cell_type": "code",
   "execution_count": 109,
   "id": "d1f76ede",
   "metadata": {},
   "outputs": [
    {
     "name": "stdout",
     "output_type": "stream",
     "text": [
      "Enter a number : 54\n",
      "Even\n"
     ]
    }
   ],
   "source": [
    "evenodd()"
   ]
  },
  {
   "cell_type": "code",
   "execution_count": null,
   "id": "e94a9acc",
   "metadata": {},
   "outputs": [],
   "source": []
  },
  {
   "cell_type": "code",
   "execution_count": null,
   "id": "854ef7bb",
   "metadata": {},
   "outputs": [],
   "source": []
  }
 ],
 "metadata": {
  "kernelspec": {
   "display_name": "Python 3 (ipykernel)",
   "language": "python",
   "name": "python3"
  },
  "language_info": {
   "codemirror_mode": {
    "name": "ipython",
    "version": 3
   },
   "file_extension": ".py",
   "mimetype": "text/x-python",
   "name": "python",
   "nbconvert_exporter": "python",
   "pygments_lexer": "ipython3",
   "version": "3.9.13"
  }
 },
 "nbformat": 4,
 "nbformat_minor": 5
}
