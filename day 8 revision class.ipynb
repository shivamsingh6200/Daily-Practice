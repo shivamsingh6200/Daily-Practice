{
 "cells": [
  {
   "cell_type": "code",
   "execution_count": 1,
   "id": "e3ee6567",
   "metadata": {},
   "outputs": [],
   "source": [
    "def test():\n",
    "    return(2+3)"
   ]
  },
  {
   "cell_type": "code",
   "execution_count": 2,
   "id": "9be76d5a",
   "metadata": {},
   "outputs": [
    {
     "data": {
      "text/plain": [
       "5"
      ]
     },
     "execution_count": 2,
     "metadata": {},
     "output_type": "execute_result"
    }
   ],
   "source": [
    "test()"
   ]
  },
  {
   "cell_type": "code",
   "execution_count": 3,
   "id": "493a33d1",
   "metadata": {},
   "outputs": [
    {
     "data": {
      "text/plain": [
       "10"
      ]
     },
     "execution_count": 3,
     "metadata": {},
     "output_type": "execute_result"
    }
   ],
   "source": [
    "test()+5"
   ]
  },
  {
   "cell_type": "code",
   "execution_count": 4,
   "id": "5f7cd685",
   "metadata": {},
   "outputs": [],
   "source": [
    "def test1():\n",
    "    return 1,\"shivam\",True,[1,2,3,4,5,6]"
   ]
  },
  {
   "cell_type": "code",
   "execution_count": 5,
   "id": "272cb5a4",
   "metadata": {},
   "outputs": [
    {
     "data": {
      "text/plain": [
       "(1, 'shivam', True, [1, 2, 3, 4, 5, 6])"
      ]
     },
     "execution_count": 5,
     "metadata": {},
     "output_type": "execute_result"
    }
   ],
   "source": [
    "test1()"
   ]
  },
  {
   "cell_type": "code",
   "execution_count": 7,
   "id": "99fc970e",
   "metadata": {},
   "outputs": [],
   "source": [
    "m,n,o,p=test1()"
   ]
  },
  {
   "cell_type": "code",
   "execution_count": 9,
   "id": "3b5e0151",
   "metadata": {},
   "outputs": [
    {
     "data": {
      "text/plain": [
       "1"
      ]
     },
     "execution_count": 9,
     "metadata": {},
     "output_type": "execute_result"
    }
   ],
   "source": [
    "m"
   ]
  },
  {
   "cell_type": "code",
   "execution_count": 10,
   "id": "b51cdc51",
   "metadata": {},
   "outputs": [
    {
     "data": {
      "text/plain": [
       "'shivam'"
      ]
     },
     "execution_count": 10,
     "metadata": {},
     "output_type": "execute_result"
    }
   ],
   "source": [
    "n"
   ]
  },
  {
   "cell_type": "code",
   "execution_count": 11,
   "id": "e59056ed",
   "metadata": {},
   "outputs": [
    {
     "data": {
      "text/plain": [
       "True"
      ]
     },
     "execution_count": 11,
     "metadata": {},
     "output_type": "execute_result"
    }
   ],
   "source": [
    "o"
   ]
  },
  {
   "cell_type": "code",
   "execution_count": 12,
   "id": "d890182c",
   "metadata": {},
   "outputs": [
    {
     "data": {
      "text/plain": [
       "[1, 2, 3, 4, 5, 6]"
      ]
     },
     "execution_count": 12,
     "metadata": {},
     "output_type": "execute_result"
    }
   ],
   "source": [
    "p"
   ]
  },
  {
   "cell_type": "code",
   "execution_count": 13,
   "id": "48aa3356",
   "metadata": {},
   "outputs": [],
   "source": [
    "def test2(*args):\n",
    "    return args"
   ]
  },
  {
   "cell_type": "code",
   "execution_count": 14,
   "id": "6949c0d1",
   "metadata": {},
   "outputs": [
    {
     "data": {
      "text/plain": [
       "()"
      ]
     },
     "execution_count": 14,
     "metadata": {},
     "output_type": "execute_result"
    }
   ],
   "source": [
    "test2()"
   ]
  },
  {
   "cell_type": "code",
   "execution_count": 15,
   "id": "934454da",
   "metadata": {},
   "outputs": [
    {
     "data": {
      "text/plain": [
       "(1, 2, 3, 4, 5, 6, 7, 8, 9)"
      ]
     },
     "execution_count": 15,
     "metadata": {},
     "output_type": "execute_result"
    }
   ],
   "source": [
    "test2(1,2,3,4,5,6,7,8,9)"
   ]
  },
  {
   "cell_type": "code",
   "execution_count": 18,
   "id": "08cfb8d1",
   "metadata": {},
   "outputs": [],
   "source": [
    "def test3(**kwargs):\n",
    "    return kwargs"
   ]
  },
  {
   "cell_type": "code",
   "execution_count": 19,
   "id": "f273833d",
   "metadata": {},
   "outputs": [
    {
     "data": {
      "text/plain": [
       "{'a': 1, 'b': 3, 'c': 5}"
      ]
     },
     "execution_count": 19,
     "metadata": {},
     "output_type": "execute_result"
    }
   ],
   "source": [
    "test3(a=1,b=3,c=5)"
   ]
  },
  {
   "cell_type": "code",
   "execution_count": 21,
   "id": "4222928b",
   "metadata": {},
   "outputs": [
    {
     "data": {
      "text/plain": [
       "{'n': {'a': 1, 'b': 2, 'c': 3}}"
      ]
     },
     "execution_count": 21,
     "metadata": {},
     "output_type": "execute_result"
    }
   ],
   "source": [
    "test3(n={\"a\":1,\"b\":2,\"c\":3})"
   ]
  },
  {
   "cell_type": "code",
   "execution_count": 22,
   "id": "13119051",
   "metadata": {},
   "outputs": [],
   "source": [
    "m=lambda a,b : a+b"
   ]
  },
  {
   "cell_type": "code",
   "execution_count": 23,
   "id": "a9e881c5",
   "metadata": {},
   "outputs": [
    {
     "data": {
      "text/plain": [
       "11"
      ]
     },
     "execution_count": 23,
     "metadata": {},
     "output_type": "execute_result"
    }
   ],
   "source": [
    "m(5,6)"
   ]
  },
  {
   "cell_type": "code",
   "execution_count": 1,
   "id": "403106c4",
   "metadata": {},
   "outputs": [],
   "source": [
    "#sum of odds in a list using lambda\n",
    "l1=[1,2,3,4,5,6]"
   ]
  },
  {
   "cell_type": "code",
   "execution_count": 2,
   "id": "99826d61",
   "metadata": {},
   "outputs": [
    {
     "data": {
      "text/plain": [
       "21"
      ]
     },
     "execution_count": 2,
     "metadata": {},
     "output_type": "execute_result"
    }
   ],
   "source": [
    "sum(l1)"
   ]
  },
  {
   "cell_type": "code",
   "execution_count": 7,
   "id": "276fc116",
   "metadata": {},
   "outputs": [],
   "source": [
    "sum_of_odd = lambda b : sum([i for i in b if i%2!=0])"
   ]
  },
  {
   "cell_type": "code",
   "execution_count": 8,
   "id": "d5049fca",
   "metadata": {},
   "outputs": [
    {
     "data": {
      "text/plain": [
       "9"
      ]
     },
     "execution_count": 8,
     "metadata": {},
     "output_type": "execute_result"
    }
   ],
   "source": [
    "sum_of_odd(l1)"
   ]
  },
  {
   "cell_type": "markdown",
   "id": "cd639a37",
   "metadata": {},
   "source": [
    "### factorial"
   ]
  },
  {
   "cell_type": "code",
   "execution_count": 13,
   "id": "31a48226",
   "metadata": {},
   "outputs": [],
   "source": [
    "def factorial(x):\n",
    "    if x==0:\n",
    "        return 1\n",
    "    else:\n",
    "        fact=1\n",
    "        for i in range(1,x+1):\n",
    "            fact=i*fact\n",
    "        return fact"
   ]
  },
  {
   "cell_type": "code",
   "execution_count": 14,
   "id": "a3dde934",
   "metadata": {},
   "outputs": [
    {
     "data": {
      "text/plain": [
       "120"
      ]
     },
     "execution_count": 14,
     "metadata": {},
     "output_type": "execute_result"
    }
   ],
   "source": [
    "factorial(5)"
   ]
  },
  {
   "cell_type": "code",
   "execution_count": 15,
   "id": "8954f62e",
   "metadata": {},
   "outputs": [],
   "source": [
    "def fact_rec(n):\n",
    "    if n==0:\n",
    "        return 1 \n",
    "    else:\n",
    "        return n*fact_rec(n-1)"
   ]
  },
  {
   "cell_type": "code",
   "execution_count": 16,
   "id": "9f577275",
   "metadata": {},
   "outputs": [
    {
     "data": {
      "text/plain": [
       "120"
      ]
     },
     "execution_count": 16,
     "metadata": {},
     "output_type": "execute_result"
    }
   ],
   "source": [
    "fact_rec(5)"
   ]
  },
  {
   "cell_type": "code",
   "execution_count": 17,
   "id": "13983f14",
   "metadata": {},
   "outputs": [],
   "source": [
    "fact_lambda = lambda n : 1 if n==0 else n*fact_lambda(n-1)"
   ]
  },
  {
   "cell_type": "code",
   "execution_count": 18,
   "id": "96bc9b8f",
   "metadata": {},
   "outputs": [
    {
     "data": {
      "text/plain": [
       "120"
      ]
     },
     "execution_count": 18,
     "metadata": {},
     "output_type": "execute_result"
    }
   ],
   "source": [
    "fact_lambda(5)"
   ]
  },
  {
   "cell_type": "markdown",
   "id": "e3ed21c6",
   "metadata": {},
   "source": [
    "### map"
   ]
  },
  {
   "cell_type": "code",
   "execution_count": 23,
   "id": "6dcb2c81",
   "metadata": {},
   "outputs": [],
   "source": [
    "#adding 2 in every element in a list \n",
    "l1=[5,7,2,67,44]\n",
    "l2=[]"
   ]
  },
  {
   "cell_type": "code",
   "execution_count": 24,
   "id": "dab24161",
   "metadata": {},
   "outputs": [],
   "source": [
    "def add_two(m):\n",
    "    for i in m:\n",
    "        l2.append(i+2)\n",
    "    return l2"
   ]
  },
  {
   "cell_type": "code",
   "execution_count": 25,
   "id": "e726da37",
   "metadata": {},
   "outputs": [
    {
     "data": {
      "text/plain": [
       "[7, 9, 4, 69, 46]"
      ]
     },
     "execution_count": 25,
     "metadata": {},
     "output_type": "execute_result"
    }
   ],
   "source": [
    "add_two(l1)"
   ]
  },
  {
   "cell_type": "code",
   "execution_count": 26,
   "id": "dd054e91",
   "metadata": {},
   "outputs": [
    {
     "data": {
      "text/plain": [
       "[7, 9, 4, 69, 46]"
      ]
     },
     "execution_count": 26,
     "metadata": {},
     "output_type": "execute_result"
    }
   ],
   "source": [
    "list(map(lambda a:a+2,l1))"
   ]
  },
  {
   "cell_type": "code",
   "execution_count": 27,
   "id": "469eac66",
   "metadata": {},
   "outputs": [],
   "source": [
    "def test32(c):\n",
    "    return c+2"
   ]
  },
  {
   "cell_type": "code",
   "execution_count": 28,
   "id": "c9c22d6f",
   "metadata": {},
   "outputs": [
    {
     "data": {
      "text/plain": [
       "[7, 9, 4, 69, 46]"
      ]
     },
     "execution_count": 28,
     "metadata": {},
     "output_type": "execute_result"
    }
   ],
   "source": [
    "list(map(test32,l1))"
   ]
  },
  {
   "cell_type": "code",
   "execution_count": 29,
   "id": "b99d79e6",
   "metadata": {},
   "outputs": [],
   "source": [
    "#counting length of every element in a list\n",
    "l3=[\"shivam\",\"singh\",\"rohan\"]"
   ]
  },
  {
   "cell_type": "code",
   "execution_count": 30,
   "id": "54bda0a2",
   "metadata": {},
   "outputs": [],
   "source": [
    "def length_str(d):\n",
    "    return len(d)"
   ]
  },
  {
   "cell_type": "code",
   "execution_count": 31,
   "id": "fd54feb1",
   "metadata": {},
   "outputs": [
    {
     "data": {
      "text/plain": [
       "[6, 5, 5]"
      ]
     },
     "execution_count": 31,
     "metadata": {},
     "output_type": "execute_result"
    }
   ],
   "source": [
    "list(map(length_str,l3))"
   ]
  },
  {
   "cell_type": "code",
   "execution_count": 33,
   "id": "90728ec8",
   "metadata": {},
   "outputs": [
    {
     "data": {
      "text/plain": [
       "[6, 5, 5]"
      ]
     },
     "execution_count": 33,
     "metadata": {},
     "output_type": "execute_result"
    }
   ],
   "source": [
    "list(map(lambda d : len(d),l3))"
   ]
  },
  {
   "cell_type": "code",
   "execution_count": 34,
   "id": "f03f70ab",
   "metadata": {},
   "outputs": [
    {
     "data": {
      "text/plain": [
       "[6, 5, 5]"
      ]
     },
     "execution_count": 34,
     "metadata": {},
     "output_type": "execute_result"
    }
   ],
   "source": [
    "list(map(len,l3))"
   ]
  },
  {
   "cell_type": "code",
   "execution_count": 35,
   "id": "4a5d8bfc",
   "metadata": {},
   "outputs": [
    {
     "data": {
      "text/plain": [
       "['shivam', 'singh', 'rohan']"
      ]
     },
     "execution_count": 35,
     "metadata": {},
     "output_type": "execute_result"
    }
   ],
   "source": [
    "#reversing every element in a list\n",
    "l3"
   ]
  },
  {
   "cell_type": "code",
   "execution_count": 36,
   "id": "2a8dcdf1",
   "metadata": {},
   "outputs": [
    {
     "data": {
      "text/plain": [
       "['mavihs', 'hgnis', 'nahor']"
      ]
     },
     "execution_count": 36,
     "metadata": {},
     "output_type": "execute_result"
    }
   ],
   "source": [
    "list(map(lambda d : d[::-1],l3))"
   ]
  },
  {
   "cell_type": "markdown",
   "id": "d250967a",
   "metadata": {},
   "source": [
    "### reduce"
   ]
  },
  {
   "cell_type": "code",
   "execution_count": 53,
   "id": "87fa4a9d",
   "metadata": {},
   "outputs": [],
   "source": [
    "#multiplying every element of a list\n",
    "l1=[1,2,3,4,5]"
   ]
  },
  {
   "cell_type": "code",
   "execution_count": 54,
   "id": "be823c89",
   "metadata": {},
   "outputs": [],
   "source": [
    "def multiplyall(d):\n",
    "    product=1\n",
    "    for i in d:\n",
    "        product = product*i\n",
    "    return product"
   ]
  },
  {
   "cell_type": "code",
   "execution_count": 55,
   "id": "8191a937",
   "metadata": {},
   "outputs": [
    {
     "data": {
      "text/plain": [
       "120"
      ]
     },
     "execution_count": 55,
     "metadata": {},
     "output_type": "execute_result"
    }
   ],
   "source": [
    "multiplyall(l1)"
   ]
  },
  {
   "cell_type": "code",
   "execution_count": 56,
   "id": "3c995716",
   "metadata": {},
   "outputs": [],
   "source": [
    "from functools import reduce"
   ]
  },
  {
   "cell_type": "code",
   "execution_count": 57,
   "id": "cce0e4bd",
   "metadata": {},
   "outputs": [
    {
     "data": {
      "text/plain": [
       "120"
      ]
     },
     "execution_count": 57,
     "metadata": {},
     "output_type": "execute_result"
    }
   ],
   "source": [
    "reduce(lambda a,b : a*b,l1)"
   ]
  },
  {
   "cell_type": "code",
   "execution_count": 58,
   "id": "49efc393",
   "metadata": {},
   "outputs": [
    {
     "data": {
      "text/plain": [
       "15"
      ]
     },
     "execution_count": 58,
     "metadata": {},
     "output_type": "execute_result"
    }
   ],
   "source": [
    "#adding every element of a list\n",
    "reduce(lambda a,b : a+b,l1)"
   ]
  },
  {
   "cell_type": "code",
   "execution_count": 60,
   "id": "a39c1402",
   "metadata": {},
   "outputs": [],
   "source": [
    "#finding smallest element from a list\n",
    "l2=[44,66,10,45,99]"
   ]
  },
  {
   "cell_type": "code",
   "execution_count": 62,
   "id": "aafc4d71",
   "metadata": {},
   "outputs": [
    {
     "data": {
      "text/plain": [
       "10"
      ]
     },
     "execution_count": 62,
     "metadata": {},
     "output_type": "execute_result"
    }
   ],
   "source": [
    "reduce(lambda a,b : a if a<b else b,l2)"
   ]
  },
  {
   "cell_type": "code",
   "execution_count": 63,
   "id": "f0918518",
   "metadata": {},
   "outputs": [
    {
     "data": {
      "text/plain": [
       "99"
      ]
     },
     "execution_count": 63,
     "metadata": {},
     "output_type": "execute_result"
    }
   ],
   "source": [
    "#finding largest element from a list\n",
    "reduce(lambda a,b : a if a>b else b,l2)"
   ]
  },
  {
   "cell_type": "code",
   "execution_count": 66,
   "id": "71132db2",
   "metadata": {},
   "outputs": [],
   "source": [
    "# factorial using reduce\n",
    "n=5\n",
    "fact=reduce(lambda a,b : a*b,range(1,n+1))"
   ]
  },
  {
   "cell_type": "code",
   "execution_count": 67,
   "id": "ca8c427e",
   "metadata": {},
   "outputs": [
    {
     "data": {
      "text/plain": [
       "120"
      ]
     },
     "execution_count": 67,
     "metadata": {},
     "output_type": "execute_result"
    }
   ],
   "source": [
    "fact"
   ]
  },
  {
   "cell_type": "code",
   "execution_count": 68,
   "id": "aa28bc14",
   "metadata": {},
   "outputs": [],
   "source": [
    "def test11(a,b):\n",
    "    return a*b"
   ]
  },
  {
   "cell_type": "code",
   "execution_count": 69,
   "id": "9b830aca",
   "metadata": {},
   "outputs": [
    {
     "data": {
      "text/plain": [
       "120"
      ]
     },
     "execution_count": 69,
     "metadata": {},
     "output_type": "execute_result"
    }
   ],
   "source": [
    "reduce(test11,range(1,n+1))"
   ]
  },
  {
   "cell_type": "code",
   "execution_count": 71,
   "id": "bef1325f",
   "metadata": {},
   "outputs": [],
   "source": [
    "#multiply even numbers of a list\n",
    "l4=[2,3,2,1,4]"
   ]
  },
  {
   "cell_type": "code",
   "execution_count": 72,
   "id": "57bc0d00",
   "metadata": {},
   "outputs": [],
   "source": [
    "def mult_even(a,b):\n",
    "    if a%2!=0:\n",
    "        a=1\n",
    "    if b%2!=0:\n",
    "        b=1\n",
    "    return a*b"
   ]
  },
  {
   "cell_type": "code",
   "execution_count": 73,
   "id": "e6b4c482",
   "metadata": {},
   "outputs": [
    {
     "data": {
      "text/plain": [
       "16"
      ]
     },
     "execution_count": 73,
     "metadata": {},
     "output_type": "execute_result"
    }
   ],
   "source": [
    "reduce(mult_even,l4)"
   ]
  },
  {
   "cell_type": "code",
   "execution_count": 75,
   "id": "669f482d",
   "metadata": {},
   "outputs": [
    {
     "data": {
      "text/plain": [
       "16"
      ]
     },
     "execution_count": 75,
     "metadata": {},
     "output_type": "execute_result"
    }
   ],
   "source": [
    "reduce(lambda a,b: a*b ,[i for i in l4 if i%2==0])"
   ]
  },
  {
   "cell_type": "markdown",
   "id": "d6bd9f17",
   "metadata": {},
   "source": [
    "### filter"
   ]
  },
  {
   "cell_type": "code",
   "execution_count": 76,
   "id": "fe61e990",
   "metadata": {},
   "outputs": [],
   "source": [
    "#make list of even no.\n",
    "l5=[1,2,3,4,5,6,7,8,9,10]"
   ]
  },
  {
   "cell_type": "code",
   "execution_count": 78,
   "id": "85b500f5",
   "metadata": {},
   "outputs": [
    {
     "data": {
      "text/plain": [
       "[2, 4, 6, 8, 10]"
      ]
     },
     "execution_count": 78,
     "metadata": {},
     "output_type": "execute_result"
    }
   ],
   "source": [
    "list(filter(lambda a:a%2==0,l5))"
   ]
  },
  {
   "cell_type": "code",
   "execution_count": 79,
   "id": "11830c13",
   "metadata": {},
   "outputs": [
    {
     "data": {
      "text/plain": [
       "[1, 3, 5, 7, 9]"
      ]
     },
     "execution_count": 79,
     "metadata": {},
     "output_type": "execute_result"
    }
   ],
   "source": [
    "#make list of odd no.''\n",
    "list(filter(lambda a:a%2!=0,l5))"
   ]
  },
  {
   "cell_type": "code",
   "execution_count": 80,
   "id": "b1cbdcc7",
   "metadata": {},
   "outputs": [],
   "source": [
    "#find lower case data\n",
    "s=\"Shivam Singh\""
   ]
  },
  {
   "cell_type": "code",
   "execution_count": 83,
   "id": "9346e877",
   "metadata": {},
   "outputs": [
    {
     "data": {
      "text/plain": [
       "['h', 'i', 'v', 'a', 'm', 'i', 'n', 'g', 'h']"
      ]
     },
     "execution_count": 83,
     "metadata": {},
     "output_type": "execute_result"
    }
   ],
   "source": [
    "list(filter(lambda a:a.islower(),s))"
   ]
  },
  {
   "cell_type": "code",
   "execution_count": 84,
   "id": "be3fb369",
   "metadata": {},
   "outputs": [
    {
     "data": {
      "text/plain": [
       "['S', 'S']"
      ]
     },
     "execution_count": 84,
     "metadata": {},
     "output_type": "execute_result"
    }
   ],
   "source": [
    "#find upper case data\n",
    "list(filter(lambda a:a.isupper(),s))"
   ]
  },
  {
   "cell_type": "code",
   "execution_count": 88,
   "id": "aca9dbfd",
   "metadata": {},
   "outputs": [],
   "source": [
    "#filter data whose length is lesser equal 5\n",
    "l6=[\"shivam\",\"singh\",\"pw\",\"rahulraj\",\"raj\"]"
   ]
  },
  {
   "cell_type": "code",
   "execution_count": 89,
   "id": "ebc42259",
   "metadata": {},
   "outputs": [
    {
     "data": {
      "text/plain": [
       "['singh', 'pw', 'raj']"
      ]
     },
     "execution_count": 89,
     "metadata": {},
     "output_type": "execute_result"
    }
   ],
   "source": [
    "list(filter(lambda a : len(a)<=5,l6))"
   ]
  },
  {
   "cell_type": "code",
   "execution_count": 91,
   "id": "35aa0018",
   "metadata": {},
   "outputs": [
    {
     "data": {
      "text/plain": [
       "['shivam', 'singh']"
      ]
     },
     "execution_count": 91,
     "metadata": {},
     "output_type": "execute_result"
    }
   ],
   "source": [
    "#filter data whose starting with s\n",
    "list(filter(lambda a : a[0]==\"s\",l6))"
   ]
  },
  {
   "cell_type": "markdown",
   "id": "0fe246f6",
   "metadata": {},
   "source": [
    "### fibonacci"
   ]
  },
  {
   "cell_type": "code",
   "execution_count": 101,
   "id": "690370ef",
   "metadata": {},
   "outputs": [],
   "source": [
    "def fibo(n):\n",
    "    a=0\n",
    "    b=1\n",
    "    for i in range(1,n+1):\n",
    "        print(a,end=\" \")\n",
    "        c=a+b\n",
    "        a=b\n",
    "        b=c"
   ]
  },
  {
   "cell_type": "code",
   "execution_count": 102,
   "id": "32b95f2f",
   "metadata": {},
   "outputs": [
    {
     "name": "stdout",
     "output_type": "stream",
     "text": [
      "0 1 1 2 3 5 8 13 21 34 "
     ]
    }
   ],
   "source": [
    "fibo(10)"
   ]
  },
  {
   "cell_type": "markdown",
   "id": "a0861333",
   "metadata": {},
   "source": [
    "### recurssion"
   ]
  },
  {
   "cell_type": "code",
   "execution_count": 103,
   "id": "223d638c",
   "metadata": {},
   "outputs": [],
   "source": [
    "#sum till n"
   ]
  },
  {
   "cell_type": "code",
   "execution_count": 104,
   "id": "1641cd57",
   "metadata": {},
   "outputs": [],
   "source": [
    "def sum_till_n(n):\n",
    "    if n==1:\n",
    "        return n\n",
    "    else:\n",
    "        return n+sum_till_n(n-1)"
   ]
  },
  {
   "cell_type": "code",
   "execution_count": 108,
   "id": "6b8f1a64",
   "metadata": {},
   "outputs": [
    {
     "data": {
      "text/plain": [
       "15"
      ]
     },
     "execution_count": 108,
     "metadata": {},
     "output_type": "execute_result"
    }
   ],
   "source": [
    "sum_till_n(5)"
   ]
  },
  {
   "cell_type": "code",
   "execution_count": 114,
   "id": "c0a375a3",
   "metadata": {},
   "outputs": [
    {
     "name": "stdout",
     "output_type": "stream",
     "text": [
      "Fibonacci sequence:\n",
      "0 1 1 2 3 5 8 13 21 34 "
     ]
    }
   ],
   "source": [
    "#Fibonacci sequence\n",
    "\n",
    "def recur_fibo(n):\n",
    "    if n <= 1:\n",
    "        return n\n",
    "    else:\n",
    "        return(recur_fibo(n-1) + recur_fibo(n-2))\n",
    "\n",
    "nterms = 10\n",
    "print(\"Fibonacci sequence:\")\n",
    "for i in range(nterms):\n",
    "    print(recur_fibo(i),end=\" \")"
   ]
  },
  {
   "cell_type": "code",
   "execution_count": null,
   "id": "d9e9edb6",
   "metadata": {},
   "outputs": [],
   "source": []
  },
  {
   "cell_type": "code",
   "execution_count": null,
   "id": "b3edf376",
   "metadata": {},
   "outputs": [],
   "source": []
  }
 ],
 "metadata": {
  "kernelspec": {
   "display_name": "Python 3 (ipykernel)",
   "language": "python",
   "name": "python3"
  },
  "language_info": {
   "codemirror_mode": {
    "name": "ipython",
    "version": 3
   },
   "file_extension": ".py",
   "mimetype": "text/x-python",
   "name": "python",
   "nbconvert_exporter": "python",
   "pygments_lexer": "ipython3",
   "version": "3.9.13"
  }
 },
 "nbformat": 4,
 "nbformat_minor": 5
}
