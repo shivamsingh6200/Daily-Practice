{
 "cells": [
  {
   "cell_type": "markdown",
   "id": "6ef4e0f2",
   "metadata": {},
   "source": [
    "### Operation in List  \"[ ]\""
   ]
  },
  {
   "cell_type": "code",
   "execution_count": 1,
   "id": "18bd10a4",
   "metadata": {},
   "outputs": [],
   "source": [
    "l =[]"
   ]
  },
  {
   "cell_type": "code",
   "execution_count": 2,
   "id": "0eca678e",
   "metadata": {},
   "outputs": [
    {
     "data": {
      "text/plain": [
       "list"
      ]
     },
     "execution_count": 2,
     "metadata": {},
     "output_type": "execute_result"
    }
   ],
   "source": [
    "type(l)"
   ]
  },
  {
   "cell_type": "code",
   "execution_count": 8,
   "id": "ead3e468",
   "metadata": {},
   "outputs": [],
   "source": [
    "l1=[1,2,3,4,\"shivam\",5+6j,True,55.66,[1,3,4,True,\"hello\"]]"
   ]
  },
  {
   "cell_type": "code",
   "execution_count": 9,
   "id": "c0309f9b",
   "metadata": {},
   "outputs": [
    {
     "data": {
      "text/plain": [
       "[1, 2, 3, 4, 'shivam', (5+6j), True, 55.66, [1, 3, 4, True, 'hello']]"
      ]
     },
     "execution_count": 9,
     "metadata": {},
     "output_type": "execute_result"
    }
   ],
   "source": [
    "l1"
   ]
  },
  {
   "cell_type": "code",
   "execution_count": 16,
   "id": "86a3cb04",
   "metadata": {},
   "outputs": [
    {
     "data": {
      "text/plain": [
       "list"
      ]
     },
     "execution_count": 16,
     "metadata": {},
     "output_type": "execute_result"
    }
   ],
   "source": [
    "type(l1)"
   ]
  },
  {
   "cell_type": "code",
   "execution_count": 17,
   "id": "b4f17f69",
   "metadata": {},
   "outputs": [
    {
     "data": {
      "text/plain": [
       "'shivam'"
      ]
     },
     "execution_count": 17,
     "metadata": {},
     "output_type": "execute_result"
    }
   ],
   "source": [
    "l1[4]"
   ]
  },
  {
   "cell_type": "code",
   "execution_count": 19,
   "id": "300afeea",
   "metadata": {},
   "outputs": [
    {
     "data": {
      "text/plain": [
       "str"
      ]
     },
     "execution_count": 19,
     "metadata": {},
     "output_type": "execute_result"
    }
   ],
   "source": [
    "type(l1[4])"
   ]
  },
  {
   "cell_type": "code",
   "execution_count": 20,
   "id": "9034e1f9",
   "metadata": {},
   "outputs": [
    {
     "data": {
      "text/plain": [
       "int"
      ]
     },
     "execution_count": 20,
     "metadata": {},
     "output_type": "execute_result"
    }
   ],
   "source": [
    "type(l1[2])"
   ]
  },
  {
   "cell_type": "code",
   "execution_count": 21,
   "id": "673f9105",
   "metadata": {},
   "outputs": [
    {
     "data": {
      "text/plain": [
       "'hello'"
      ]
     },
     "execution_count": 21,
     "metadata": {},
     "output_type": "execute_result"
    }
   ],
   "source": [
    "l1[-1][-1]"
   ]
  },
  {
   "cell_type": "code",
   "execution_count": 24,
   "id": "5f49207d",
   "metadata": {},
   "outputs": [
    {
     "data": {
      "text/plain": [
       "[1, 2, 3, 4, 'shivam']"
      ]
     },
     "execution_count": 24,
     "metadata": {},
     "output_type": "execute_result"
    }
   ],
   "source": [
    "l1[0:5]"
   ]
  },
  {
   "cell_type": "code",
   "execution_count": 71,
   "id": "d5f94d78",
   "metadata": {},
   "outputs": [],
   "source": [
    "l2=[5,6,7,8,\"singh\"]"
   ]
  },
  {
   "cell_type": "code",
   "execution_count": 72,
   "id": "8f8cc526",
   "metadata": {
    "scrolled": true
   },
   "outputs": [
    {
     "data": {
      "text/plain": [
       "[200,\n",
       " 2,\n",
       " 3,\n",
       " 4,\n",
       " 'shivam',\n",
       " (5+6j),\n",
       " True,\n",
       " 55.66,\n",
       " [1, 3, 4, True, 'hello'],\n",
       " 5,\n",
       " 6,\n",
       " 7,\n",
       " 8,\n",
       " 'singh']"
      ]
     },
     "execution_count": 72,
     "metadata": {},
     "output_type": "execute_result"
    }
   ],
   "source": [
    "l1+l2"
   ]
  },
  {
   "cell_type": "code",
   "execution_count": 73,
   "id": "042e4bba",
   "metadata": {
    "scrolled": true
   },
   "outputs": [
    {
     "data": {
      "text/plain": [
       "['S', 'h', 'i', 'v', 'a', 'm']"
      ]
     },
     "execution_count": 73,
     "metadata": {},
     "output_type": "execute_result"
    }
   ],
   "source": [
    "list(\"Shivam\")"
   ]
  },
  {
   "cell_type": "code",
   "execution_count": 74,
   "id": "ed249c92",
   "metadata": {},
   "outputs": [],
   "source": [
    "l3=list(\"shivam\")"
   ]
  },
  {
   "cell_type": "code",
   "execution_count": 75,
   "id": "8b4fc26d",
   "metadata": {},
   "outputs": [
    {
     "data": {
      "text/plain": [
       "['s', 'h', 'i', 'v', 'a', 'm']"
      ]
     },
     "execution_count": 75,
     "metadata": {},
     "output_type": "execute_result"
    }
   ],
   "source": [
    "l3"
   ]
  },
  {
   "cell_type": "code",
   "execution_count": 76,
   "id": "bbbe41e2",
   "metadata": {},
   "outputs": [
    {
     "data": {
      "text/plain": [
       "['s', 'h', 'i', 'v', 'a', 'm', 's', 'h', 'i', 'v', 'a', 'm']"
      ]
     },
     "execution_count": 76,
     "metadata": {},
     "output_type": "execute_result"
    }
   ],
   "source": [
    "l3*2"
   ]
  },
  {
   "cell_type": "code",
   "execution_count": 77,
   "id": "19fe577d",
   "metadata": {},
   "outputs": [
    {
     "data": {
      "text/plain": [
       "[200, 2, 3, 4, 'shivam', (5+6j), True, 55.66, [1, 3, 4, True, 'hello']]"
      ]
     },
     "execution_count": 77,
     "metadata": {},
     "output_type": "execute_result"
    }
   ],
   "source": [
    "l1"
   ]
  },
  {
   "cell_type": "code",
   "execution_count": 78,
   "id": "a28dd56b",
   "metadata": {},
   "outputs": [],
   "source": [
    "l1[0] = 200"
   ]
  },
  {
   "cell_type": "code",
   "execution_count": 79,
   "id": "43303d61",
   "metadata": {},
   "outputs": [
    {
     "data": {
      "text/plain": [
       "[200, 2, 3, 4, 'shivam', (5+6j), True, 55.66, [1, 3, 4, True, 'hello']]"
      ]
     },
     "execution_count": 79,
     "metadata": {},
     "output_type": "execute_result"
    }
   ],
   "source": [
    "l1"
   ]
  },
  {
   "cell_type": "markdown",
   "id": "5350f24c",
   "metadata": {},
   "source": [
    "### tuple \"( )\" - it is just like list but in touple we cannot change data  "
   ]
  },
  {
   "cell_type": "code",
   "execution_count": 39,
   "id": "d5bda4f6",
   "metadata": {},
   "outputs": [],
   "source": [
    "t=(1,2,3,4,\"shivam\",True)"
   ]
  },
  {
   "cell_type": "code",
   "execution_count": 40,
   "id": "f4b3784e",
   "metadata": {},
   "outputs": [
    {
     "data": {
      "text/plain": [
       "(1, 2, 3, 4, 'shivam', True)"
      ]
     },
     "execution_count": 40,
     "metadata": {},
     "output_type": "execute_result"
    }
   ],
   "source": [
    "t"
   ]
  },
  {
   "cell_type": "code",
   "execution_count": 41,
   "id": "0f88b22f",
   "metadata": {},
   "outputs": [
    {
     "data": {
      "text/plain": [
       "tuple"
      ]
     },
     "execution_count": 41,
     "metadata": {},
     "output_type": "execute_result"
    }
   ],
   "source": [
    "type(t)"
   ]
  },
  {
   "cell_type": "code",
   "execution_count": 42,
   "id": "b1c8700d",
   "metadata": {},
   "outputs": [
    {
     "data": {
      "text/plain": [
       "(True, 'shivam', 4, 3, 2, 1)"
      ]
     },
     "execution_count": 42,
     "metadata": {},
     "output_type": "execute_result"
    }
   ],
   "source": [
    "t[::-1]"
   ]
  },
  {
   "cell_type": "code",
   "execution_count": 43,
   "id": "b9c1007f",
   "metadata": {},
   "outputs": [],
   "source": [
    "t1=(6,7,0,8,)"
   ]
  },
  {
   "cell_type": "code",
   "execution_count": 44,
   "id": "97bc553a",
   "metadata": {},
   "outputs": [
    {
     "data": {
      "text/plain": [
       "(1, 2, 3, 4, 'shivam', True, 6, 7, 0, 8)"
      ]
     },
     "execution_count": 44,
     "metadata": {},
     "output_type": "execute_result"
    }
   ],
   "source": [
    "t+t1"
   ]
  },
  {
   "cell_type": "code",
   "execution_count": 45,
   "id": "c89ec47d",
   "metadata": {},
   "outputs": [
    {
     "data": {
      "text/plain": [
       "(1, 2, 3, 4, 'shivam', True, 1, 2, 3, 4, 'shivam', True)"
      ]
     },
     "execution_count": 45,
     "metadata": {},
     "output_type": "execute_result"
    }
   ],
   "source": [
    "t*2"
   ]
  },
  {
   "cell_type": "markdown",
   "id": "86010c79",
   "metadata": {},
   "source": [
    "### List to tuple and tuple to list"
   ]
  },
  {
   "cell_type": "code",
   "execution_count": 46,
   "id": "94ba94f5",
   "metadata": {},
   "outputs": [
    {
     "data": {
      "text/plain": [
       "[1, 2, 3, 4, 'shivam', True]"
      ]
     },
     "execution_count": 46,
     "metadata": {},
     "output_type": "execute_result"
    }
   ],
   "source": [
    "list(t)"
   ]
  },
  {
   "cell_type": "code",
   "execution_count": 48,
   "id": "fda60300",
   "metadata": {},
   "outputs": [
    {
     "data": {
      "text/plain": [
       "[5, 6, 7, 8, 'singh', [0, 9, 8, 7]]"
      ]
     },
     "execution_count": 48,
     "metadata": {},
     "output_type": "execute_result"
    }
   ],
   "source": [
    "l2"
   ]
  },
  {
   "cell_type": "code",
   "execution_count": 52,
   "id": "ee48fe7c",
   "metadata": {},
   "outputs": [
    {
     "data": {
      "text/plain": [
       "(5, 6, 7, 8, 'singh', [0, 9, 8, 7])"
      ]
     },
     "execution_count": 52,
     "metadata": {},
     "output_type": "execute_result"
    }
   ],
   "source": [
    "tuple(l2)"
   ]
  },
  {
   "cell_type": "markdown",
   "id": "85607ca1",
   "metadata": {},
   "source": [
    "### len() - to find the length"
   ]
  },
  {
   "cell_type": "code",
   "execution_count": 54,
   "id": "c30c7173",
   "metadata": {},
   "outputs": [
    {
     "data": {
      "text/plain": [
       "6"
      ]
     },
     "execution_count": 54,
     "metadata": {},
     "output_type": "execute_result"
    }
   ],
   "source": [
    "len(t)"
   ]
  },
  {
   "cell_type": "code",
   "execution_count": 56,
   "id": "cae8d5d1",
   "metadata": {},
   "outputs": [
    {
     "data": {
      "text/plain": [
       "6"
      ]
     },
     "execution_count": 56,
     "metadata": {},
     "output_type": "execute_result"
    }
   ],
   "source": [
    "len(\"Shivam\")"
   ]
  },
  {
   "cell_type": "code",
   "execution_count": 57,
   "id": "826349a0",
   "metadata": {},
   "outputs": [
    {
     "data": {
      "text/plain": [
       "9"
      ]
     },
     "execution_count": 57,
     "metadata": {},
     "output_type": "execute_result"
    }
   ],
   "source": [
    "len(l1)"
   ]
  },
  {
   "cell_type": "markdown",
   "id": "21356b2e",
   "metadata": {},
   "source": [
    "### Set  \"{ }' removes duplicate"
   ]
  },
  {
   "cell_type": "code",
   "execution_count": 58,
   "id": "2a873076",
   "metadata": {},
   "outputs": [],
   "source": [
    "s={}"
   ]
  },
  {
   "cell_type": "code",
   "execution_count": 59,
   "id": "127ea602",
   "metadata": {},
   "outputs": [
    {
     "data": {
      "text/plain": [
       "dict"
      ]
     },
     "execution_count": 59,
     "metadata": {},
     "output_type": "execute_result"
    }
   ],
   "source": [
    "type(s)"
   ]
  },
  {
   "cell_type": "code",
   "execution_count": 60,
   "id": "1aabf022",
   "metadata": {},
   "outputs": [],
   "source": [
    "s={1,2,3,4,5,5,5,6,6}"
   ]
  },
  {
   "cell_type": "code",
   "execution_count": 61,
   "id": "eefdcf04",
   "metadata": {},
   "outputs": [
    {
     "data": {
      "text/plain": [
       "set"
      ]
     },
     "execution_count": 61,
     "metadata": {},
     "output_type": "execute_result"
    }
   ],
   "source": [
    "type(s)"
   ]
  },
  {
   "cell_type": "code",
   "execution_count": 62,
   "id": "a1c16a9e",
   "metadata": {},
   "outputs": [
    {
     "data": {
      "text/plain": [
       "{1, 2, 3, 4, 5, 6}"
      ]
     },
     "execution_count": 62,
     "metadata": {},
     "output_type": "execute_result"
    }
   ],
   "source": [
    "s"
   ]
  },
  {
   "cell_type": "code",
   "execution_count": 65,
   "id": "ea406012",
   "metadata": {},
   "outputs": [],
   "source": [
    "s2={\"shivam\",\"shivam\",\"Shivam\",2,3,4,3,2,5,7,6,1,0,9,88,8,8,8,7,9,9}"
   ]
  },
  {
   "cell_type": "code",
   "execution_count": 64,
   "id": "22e59da1",
   "metadata": {},
   "outputs": [
    {
     "data": {
      "text/plain": [
       "{0, 1, 2, 3, 4, 5, 6, 7, 8, 88, 9, 'Shivam', 'shivam'}"
      ]
     },
     "execution_count": 64,
     "metadata": {},
     "output_type": "execute_result"
    }
   ],
   "source": [
    "s2"
   ]
  },
  {
   "cell_type": "markdown",
   "id": "f0480cb4",
   "metadata": {},
   "source": [
    "### Set to list & list to set & set to tuple & tuple to set"
   ]
  },
  {
   "cell_type": "code",
   "execution_count": 67,
   "id": "0f241c35",
   "metadata": {},
   "outputs": [
    {
     "data": {
      "text/plain": [
       "[0, 1, 2, 3, 4, 5, 6, 7, 8, 9, 'Shivam', 88, 'shivam']"
      ]
     },
     "execution_count": 67,
     "metadata": {},
     "output_type": "execute_result"
    }
   ],
   "source": [
    "list(s2)"
   ]
  },
  {
   "cell_type": "code",
   "execution_count": 80,
   "id": "ea93a8d5",
   "metadata": {},
   "outputs": [
    {
     "data": {
      "text/plain": [
       "[5, 6, 7, 8, 'singh']"
      ]
     },
     "execution_count": 80,
     "metadata": {},
     "output_type": "execute_result"
    }
   ],
   "source": [
    "l2"
   ]
  },
  {
   "cell_type": "code",
   "execution_count": 81,
   "id": "1d835f74",
   "metadata": {},
   "outputs": [
    {
     "data": {
      "text/plain": [
       "{5, 6, 7, 8, 'singh'}"
      ]
     },
     "execution_count": 81,
     "metadata": {},
     "output_type": "execute_result"
    }
   ],
   "source": [
    "set(l2)"
   ]
  },
  {
   "cell_type": "code",
   "execution_count": 82,
   "id": "184f4cfd",
   "metadata": {},
   "outputs": [
    {
     "data": {
      "text/plain": [
       "(1, 2, 3, 4, 'shivam', True)"
      ]
     },
     "execution_count": 82,
     "metadata": {},
     "output_type": "execute_result"
    }
   ],
   "source": [
    "t"
   ]
  },
  {
   "cell_type": "code",
   "execution_count": 83,
   "id": "c0075c2d",
   "metadata": {},
   "outputs": [
    {
     "data": {
      "text/plain": [
       "{1, 2, 3, 4, 'shivam'}"
      ]
     },
     "execution_count": 83,
     "metadata": {},
     "output_type": "execute_result"
    }
   ],
   "source": [
    "set(t)"
   ]
  },
  {
   "cell_type": "code",
   "execution_count": 84,
   "id": "20ff1322",
   "metadata": {},
   "outputs": [
    {
     "data": {
      "text/plain": [
       "(1, 2, 3, 4, 5, 6)"
      ]
     },
     "execution_count": 84,
     "metadata": {},
     "output_type": "execute_result"
    }
   ],
   "source": [
    "tuple(s)"
   ]
  },
  {
   "cell_type": "markdown",
   "id": "4baf3953",
   "metadata": {},
   "source": [
    "### Dictionary \"{}\""
   ]
  },
  {
   "cell_type": "code",
   "execution_count": 85,
   "id": "6d64d081",
   "metadata": {},
   "outputs": [],
   "source": [
    "d={}"
   ]
  },
  {
   "cell_type": "code",
   "execution_count": 86,
   "id": "316889d1",
   "metadata": {},
   "outputs": [
    {
     "data": {
      "text/plain": [
       "dict"
      ]
     },
     "execution_count": 86,
     "metadata": {},
     "output_type": "execute_result"
    }
   ],
   "source": [
    "type(d)"
   ]
  },
  {
   "cell_type": "code",
   "execution_count": 89,
   "id": "6dde5711",
   "metadata": {},
   "outputs": [],
   "source": [
    "d={\"name\":\"Shivam Singh\",\"roll\":12345875,\"number\":1234657890,\"friend\":[\"Pritam\",\"Sahil\",\"Abhay\",\"Gaurav\"]}"
   ]
  },
  {
   "cell_type": "code",
   "execution_count": 90,
   "id": "bc743336",
   "metadata": {},
   "outputs": [
    {
     "data": {
      "text/plain": [
       "{'name': 'Shivam Singh',\n",
       " 'roll': 12345875,\n",
       " 'number': 1234657890,\n",
       " 'friend': ['Pritam', 'Sahil', 'Abhay', 'Gaurav']}"
      ]
     },
     "execution_count": 90,
     "metadata": {},
     "output_type": "execute_result"
    }
   ],
   "source": [
    "d"
   ]
  },
  {
   "cell_type": "code",
   "execution_count": 91,
   "id": "a40ffdf2",
   "metadata": {},
   "outputs": [],
   "source": [
    "d2={1234:\"RAJ\"}"
   ]
  },
  {
   "cell_type": "code",
   "execution_count": 92,
   "id": "3aa4e870",
   "metadata": {},
   "outputs": [
    {
     "data": {
      "text/plain": [
       "{1234: 'RAJ'}"
      ]
     },
     "execution_count": 92,
     "metadata": {},
     "output_type": "execute_result"
    }
   ],
   "source": [
    "d2"
   ]
  },
  {
   "cell_type": "code",
   "execution_count": 93,
   "id": "de13ec5a",
   "metadata": {},
   "outputs": [],
   "source": [
    "d3={(1,2,3,4):\"RAJA\"}"
   ]
  },
  {
   "cell_type": "code",
   "execution_count": 94,
   "id": "a9a52aaf",
   "metadata": {},
   "outputs": [
    {
     "data": {
      "text/plain": [
       "{(1, 2, 3, 4): 'RAJA'}"
      ]
     },
     "execution_count": 94,
     "metadata": {},
     "output_type": "execute_result"
    }
   ],
   "source": [
    "d3"
   ]
  },
  {
   "cell_type": "code",
   "execution_count": 99,
   "id": "7dbfabe6",
   "metadata": {},
   "outputs": [],
   "source": [
    "d4={\"course\":[\"dsa\",'java','python','cloud','blockchain'],\"mentor\":(\"prable kr. sahu\",\"parimita manan\",\"manas\",\"km hussain\",\"sudhanshu\"),\n",
    "   'price':{2000,4000,5000,6000,7000},\"duration\":1,'acess':1,\"sylabus\":{'python':['pandas','core python','oops'],'ml':['supervised','unsupervised','semisupervised']}}"
   ]
  },
  {
   "cell_type": "code",
   "execution_count": 100,
   "id": "16bac061",
   "metadata": {
    "scrolled": true
   },
   "outputs": [
    {
     "data": {
      "text/plain": [
       "{'course': ['dsa', 'java', 'python', 'cloud', 'blockchain'],\n",
       " 'mentor': ('prable kr. sahu',\n",
       "  'parimita manan',\n",
       "  'manas',\n",
       "  'km hussain',\n",
       "  'sudhanshu'),\n",
       " 'price': {2000, 4000, 5000, 6000, 7000},\n",
       " 'duration': 1,\n",
       " 'acess': 1,\n",
       " 'sylabus': {'python': ['pandas', 'core python', 'oops'],\n",
       "  'ml': ['supervised', 'unsupervised', 'semisupervised']}}"
      ]
     },
     "execution_count": 100,
     "metadata": {},
     "output_type": "execute_result"
    }
   ],
   "source": [
    "d4"
   ]
  },
  {
   "cell_type": "code",
   "execution_count": 98,
   "id": "d30d76e7",
   "metadata": {
    "scrolled": true
   },
   "outputs": [
    {
     "data": {
      "text/plain": [
       "['dsa', 'java', 'python', 'cloud', 'blockchain']"
      ]
     },
     "execution_count": 98,
     "metadata": {},
     "output_type": "execute_result"
    }
   ],
   "source": [
    "d4['course']"
   ]
  },
  {
   "cell_type": "code",
   "execution_count": 150,
   "id": "454fc809",
   "metadata": {},
   "outputs": [
    {
     "data": {
      "text/plain": [
       "dict_keys(['course', 'mentor', 'price', 'duration', 'acess', 'sylabus'])"
      ]
     },
     "execution_count": 150,
     "metadata": {},
     "output_type": "execute_result"
    }
   ],
   "source": [
    "d4.keys()"
   ]
  },
  {
   "cell_type": "code",
   "execution_count": 151,
   "id": "89dfd69d",
   "metadata": {},
   "outputs": [
    {
     "data": {
      "text/plain": [
       "dict_values([['dsa', 'java', 'python', 'cloud', 'blockchain'], ('prable kr. sahu', 'parimita manan', 'manas', 'km hussain', 'sudhanshu'), {4000, 6000, 2000, 7000, 5000}, 1, 1, {'python': ['pandas', 'core python', 'oops'], 'ml': ['supervised', 'unsupervised', 'semisupervised']}])"
      ]
     },
     "execution_count": 151,
     "metadata": {},
     "output_type": "execute_result"
    }
   ],
   "source": [
    "d4.values()"
   ]
  },
  {
   "cell_type": "code",
   "execution_count": 153,
   "id": "7470c59e",
   "metadata": {},
   "outputs": [
    {
     "data": {
      "text/plain": [
       "[('course', ['dsa', 'java', 'python', 'cloud', 'blockchain']),\n",
       " ('mentor',\n",
       "  ('prable kr. sahu', 'parimita manan', 'manas', 'km hussain', 'sudhanshu')),\n",
       " ('price', {2000, 4000, 5000, 6000, 7000}),\n",
       " ('duration', 1),\n",
       " ('acess', 1),\n",
       " ('sylabus',\n",
       "  {'python': ['pandas', 'core python', 'oops'],\n",
       "   'ml': ['supervised', 'unsupervised', 'semisupervised']})]"
      ]
     },
     "execution_count": 153,
     "metadata": {},
     "output_type": "execute_result"
    }
   ],
   "source": [
    "list(d4.items())"
   ]
  },
  {
   "cell_type": "code",
   "execution_count": 156,
   "id": "63119e2e",
   "metadata": {},
   "outputs": [
    {
     "data": {
      "text/plain": [
       "['dsa', 'java', 'python', 'cloud', 'blockchain']"
      ]
     },
     "execution_count": 156,
     "metadata": {},
     "output_type": "execute_result"
    }
   ],
   "source": [
    "d4.get(\"course\")"
   ]
  },
  {
   "cell_type": "markdown",
   "id": "26256700",
   "metadata": {},
   "source": [
    "### Adding new values in dict"
   ]
  },
  {
   "cell_type": "code",
   "execution_count": 118,
   "id": "94f968e5",
   "metadata": {},
   "outputs": [],
   "source": [
    "d5={\"name\":\"shivam\"}"
   ]
  },
  {
   "cell_type": "code",
   "execution_count": 119,
   "id": "84d9aad0",
   "metadata": {},
   "outputs": [
    {
     "data": {
      "text/plain": [
       "{'name': 'shivam'}"
      ]
     },
     "execution_count": 119,
     "metadata": {},
     "output_type": "execute_result"
    }
   ],
   "source": [
    "d5"
   ]
  },
  {
   "cell_type": "code",
   "execution_count": 120,
   "id": "eb14cac7",
   "metadata": {},
   "outputs": [],
   "source": [
    "d5[\"phone number\"] = 1234567890"
   ]
  },
  {
   "cell_type": "code",
   "execution_count": 121,
   "id": "80ef5c70",
   "metadata": {},
   "outputs": [
    {
     "data": {
      "text/plain": [
       "{'name': 'shivam', 'phone number': 1234567890}"
      ]
     },
     "execution_count": 121,
     "metadata": {},
     "output_type": "execute_result"
    }
   ],
   "source": [
    "d5"
   ]
  },
  {
   "cell_type": "code",
   "execution_count": 122,
   "id": "287f87be",
   "metadata": {},
   "outputs": [],
   "source": [
    "d5['name']=\"Raj\""
   ]
  },
  {
   "cell_type": "code",
   "execution_count": 123,
   "id": "caa8b7c4",
   "metadata": {},
   "outputs": [
    {
     "data": {
      "text/plain": [
       "{'name': 'Raj', 'phone number': 1234567890}"
      ]
     },
     "execution_count": 123,
     "metadata": {},
     "output_type": "execute_result"
    }
   ],
   "source": [
    "d5"
   ]
  },
  {
   "cell_type": "markdown",
   "id": "3a6ff5fa",
   "metadata": {},
   "source": [
    "### preloaded functions (press tab after \".\")"
   ]
  },
  {
   "cell_type": "code",
   "execution_count": 131,
   "id": "f0e1dbbf",
   "metadata": {},
   "outputs": [],
   "source": [
    "s1=\"shivam singh chauhan\""
   ]
  },
  {
   "cell_type": "code",
   "execution_count": 135,
   "id": "f123a9a8",
   "metadata": {},
   "outputs": [
    {
     "data": {
      "text/plain": [
       "['shivam', 'singh', 'chauhan']"
      ]
     },
     "execution_count": 135,
     "metadata": {},
     "output_type": "execute_result"
    }
   ],
   "source": [
    "s1.split()"
   ]
  },
  {
   "cell_type": "code",
   "execution_count": 137,
   "id": "2b92bbbb",
   "metadata": {},
   "outputs": [
    {
     "data": {
      "text/plain": [
       "['', 'hivam ', 'ingh chauhan']"
      ]
     },
     "execution_count": 137,
     "metadata": {},
     "output_type": "execute_result"
    }
   ],
   "source": [
    "s1.split(\"s\")"
   ]
  },
  {
   "cell_type": "code",
   "execution_count": 138,
   "id": "67268c23",
   "metadata": {},
   "outputs": [],
   "source": [
    "s2=\"My name is Shivam. I am the student of btech\""
   ]
  },
  {
   "cell_type": "code",
   "execution_count": 139,
   "id": "aa6cbb81",
   "metadata": {},
   "outputs": [
    {
     "data": {
      "text/plain": [
       "['My name is Shivam', ' I am the student of btech']"
      ]
     },
     "execution_count": 139,
     "metadata": {},
     "output_type": "execute_result"
    }
   ],
   "source": [
    "s2.split(\".\")"
   ]
  },
  {
   "cell_type": "code",
   "execution_count": 140,
   "id": "94a157a9",
   "metadata": {},
   "outputs": [
    {
     "data": {
      "text/plain": [
       "'My name is Shivam'"
      ]
     },
     "execution_count": 140,
     "metadata": {},
     "output_type": "execute_result"
    }
   ],
   "source": [
    "s2.split(\".\")[0]"
   ]
  },
  {
   "cell_type": "code",
   "execution_count": 141,
   "id": "a6ac0dea",
   "metadata": {},
   "outputs": [
    {
     "data": {
      "text/plain": [
       "' I am the student of btech'"
      ]
     },
     "execution_count": 141,
     "metadata": {},
     "output_type": "execute_result"
    }
   ],
   "source": [
    "s2.split(\".\")[1]"
   ]
  },
  {
   "cell_type": "code",
   "execution_count": 142,
   "id": "3c094ad1",
   "metadata": {},
   "outputs": [
    {
     "data": {
      "text/plain": [
       "'My Name Is Shivam. I Am The Student Of Btech'"
      ]
     },
     "execution_count": 142,
     "metadata": {},
     "output_type": "execute_result"
    }
   ],
   "source": [
    "s2.title()"
   ]
  },
  {
   "cell_type": "code",
   "execution_count": 145,
   "id": "4cd38aad",
   "metadata": {},
   "outputs": [
    {
     "data": {
      "text/plain": [
       "'_______________shivam singh chauhan_______________'"
      ]
     },
     "execution_count": 145,
     "metadata": {},
     "output_type": "execute_result"
    }
   ],
   "source": [
    "s1.center(50,'_')"
   ]
  },
  {
   "cell_type": "markdown",
   "id": "a810d59a",
   "metadata": {},
   "source": [
    "### del function"
   ]
  },
  {
   "cell_type": "code",
   "execution_count": 146,
   "id": "96174a14",
   "metadata": {},
   "outputs": [],
   "source": [
    "s5=\"ram\""
   ]
  },
  {
   "cell_type": "code",
   "execution_count": 147,
   "id": "4458a327",
   "metadata": {},
   "outputs": [
    {
     "data": {
      "text/plain": [
       "'ram'"
      ]
     },
     "execution_count": 147,
     "metadata": {},
     "output_type": "execute_result"
    }
   ],
   "source": [
    "s5"
   ]
  },
  {
   "cell_type": "code",
   "execution_count": 148,
   "id": "f6bc8fdf",
   "metadata": {},
   "outputs": [],
   "source": [
    "del s5"
   ]
  },
  {
   "cell_type": "code",
   "execution_count": 149,
   "id": "3fc4e6bd",
   "metadata": {},
   "outputs": [
    {
     "ename": "NameError",
     "evalue": "name 's5' is not defined",
     "output_type": "error",
     "traceback": [
      "\u001b[1;31m---------------------------------------------------------------------------\u001b[0m",
      "\u001b[1;31mNameError\u001b[0m                                 Traceback (most recent call last)",
      "\u001b[1;32m~\\AppData\\Local\\Temp\\ipykernel_12648\\1999419283.py\u001b[0m in \u001b[0;36m<module>\u001b[1;34m\u001b[0m\n\u001b[1;32m----> 1\u001b[1;33m \u001b[0ms5\u001b[0m\u001b[1;33m\u001b[0m\u001b[1;33m\u001b[0m\u001b[0m\n\u001b[0m",
      "\u001b[1;31mNameError\u001b[0m: name 's5' is not defined"
     ]
    }
   ],
   "source": [
    "s5"
   ]
  },
  {
   "cell_type": "code",
   "execution_count": null,
   "id": "d0c63336",
   "metadata": {},
   "outputs": [],
   "source": []
  }
 ],
 "metadata": {
  "kernelspec": {
   "display_name": "Python 3 (ipykernel)",
   "language": "python",
   "name": "python3"
  },
  "language_info": {
   "codemirror_mode": {
    "name": "ipython",
    "version": 3
   },
   "file_extension": ".py",
   "mimetype": "text/x-python",
   "name": "python",
   "nbconvert_exporter": "python",
   "pygments_lexer": "ipython3",
   "version": "3.9.13"
  }
 },
 "nbformat": 4,
 "nbformat_minor": 5
}
