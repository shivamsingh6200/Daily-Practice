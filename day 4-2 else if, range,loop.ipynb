{
 "cells": [
  {
   "cell_type": "markdown",
   "id": "786e07cb",
   "metadata": {},
   "source": [
    "### else if conditions"
   ]
  },
  {
   "cell_type": "code",
   "execution_count": 9,
   "id": "c62f5c4d",
   "metadata": {},
   "outputs": [
    {
     "name": "stdout",
     "output_type": "stream",
     "text": [
      "Enter your age : 18\n"
     ]
    }
   ],
   "source": [
    "a=int(input(\"Enter your age : \"))"
   ]
  },
  {
   "cell_type": "code",
   "execution_count": null,
   "id": "8c298b98",
   "metadata": {},
   "outputs": [],
   "source": []
  },
  {
   "cell_type": "code",
   "execution_count": 11,
   "id": "fe01c24d",
   "metadata": {},
   "outputs": [
    {
     "name": "stdout",
     "output_type": "stream",
     "text": [
      "You can drive\n"
     ]
    }
   ],
   "source": [
    "if a>=18:\n",
    "    print(\"You can drive\")\n",
    "else :\n",
    "    print(\"You cannot drive\")"
   ]
  },
  {
   "cell_type": "code",
   "execution_count": 17,
   "id": "681e5570",
   "metadata": {},
   "outputs": [
    {
     "name": "stdout",
     "output_type": "stream",
     "text": [
      "Enter the time : 8\n",
      "Morning\n"
     ]
    }
   ],
   "source": [
    "time=int(input(\"Enter the time : \"))\n",
    "if time < 0:\n",
    "    print(\"Invalid Input\")\n",
    "elif 0 <= time <= 5:\n",
    "    print(\"Night\")\n",
    "elif 6 <= time <= 11:\n",
    "    print(\"Morning\")\n",
    "elif 12 <= time <= 17:\n",
    "    print(\"Afternoon\")\n",
    "elif 18 <= time <= 23:\n",
    "    print(\"Evening\")\n",
    "else:\n",
    "    print(\"Invalid Input\")"
   ]
  },
  {
   "cell_type": "code",
   "execution_count": 27,
   "id": "737dbf91",
   "metadata": {},
   "outputs": [
    {
     "name": "stdout",
     "output_type": "stream",
     "text": [
      "Enter First no. : 55\n",
      "Enter Second no. : 96\n",
      "Enter Third no. : 88\n",
      "The greatest no. is : 96\n"
     ]
    }
   ],
   "source": [
    "#find the largest no. from 3 given number\n",
    "\n",
    "n1=int(input(\"Enter First no. : \"))\n",
    "n2=int(input(\"Enter Second no. : \"))\n",
    "n3=int(input(\"Enter Third no. : \"))\n",
    "if (n1>n2) and (n1>n3):\n",
    "    largest=n1\n",
    "elif (n2>n1) and (n2>n3):\n",
    "    largest=n2\n",
    "else:\n",
    "    largest=n3\n",
    "print(\"The greatest no. is :\",largest)"
   ]
  },
  {
   "cell_type": "code",
   "execution_count": 41,
   "id": "94fbe4a7",
   "metadata": {},
   "outputs": [
    {
     "name": "stdout",
     "output_type": "stream",
     "text": [
      "Press '1' for addition\n",
      "Press '2' for substraction\n",
      "Press '3' for multiplication\n",
      "Press '4' for division\n",
      "3\n",
      "Enter First no. : 2\n",
      "Enter Second no. : 3\n",
      "Product is : 6\n"
     ]
    }
   ],
   "source": [
    "#simple calculator\n",
    "\n",
    "operation=int(input(\"Press '1' for addition\\nPress '2' for substraction\\nPress '3' for multiplication\\nPress '4' for division\\n\"))\n",
    "if (operation<1) or (operation>4):\n",
    "    print(\"Invalid Input\")\n",
    "else:\n",
    "    n4=int(input(\"Enter First no. : \"))\n",
    "    n5=int(input(\"Enter Second no. : \"))\n",
    "    if operation == 1:\n",
    "        print(\"Sum is :\",n4+n5)\n",
    "    elif operation == 2:\n",
    "        print(\"Difference is :\",n4-n5)\n",
    "    elif operation == 3:\n",
    "        print(\"Product is :\",n4*n5)\n",
    "    else:\n",
    "        print(\"Quotient is :\",n4/n5)"
   ]
  },
  {
   "cell_type": "markdown",
   "id": "ca7bb4c0",
   "metadata": {},
   "source": [
    "### range(start,stop,step)"
   ]
  },
  {
   "cell_type": "code",
   "execution_count": 42,
   "id": "fc6c2457",
   "metadata": {},
   "outputs": [
    {
     "data": {
      "text/plain": [
       "range(0, 5)"
      ]
     },
     "execution_count": 42,
     "metadata": {},
     "output_type": "execute_result"
    }
   ],
   "source": [
    "range(5)"
   ]
  },
  {
   "cell_type": "code",
   "execution_count": 43,
   "id": "35f4c257",
   "metadata": {},
   "outputs": [
    {
     "data": {
      "text/plain": [
       "[0, 1, 2, 3, 4]"
      ]
     },
     "execution_count": 43,
     "metadata": {},
     "output_type": "execute_result"
    }
   ],
   "source": [
    "list(range(5))"
   ]
  },
  {
   "cell_type": "code",
   "execution_count": 44,
   "id": "dd1cc5b5",
   "metadata": {},
   "outputs": [
    {
     "data": {
      "text/plain": [
       "[2, 3, 4, 5, 6, 7, 8, 9]"
      ]
     },
     "execution_count": 44,
     "metadata": {},
     "output_type": "execute_result"
    }
   ],
   "source": [
    "list(range(2,10))"
   ]
  },
  {
   "cell_type": "code",
   "execution_count": 45,
   "id": "eadbaf5f",
   "metadata": {},
   "outputs": [
    {
     "data": {
      "text/plain": [
       "[2, 4, 6, 8]"
      ]
     },
     "execution_count": 45,
     "metadata": {},
     "output_type": "execute_result"
    }
   ],
   "source": [
    "list(range(2,10,2))"
   ]
  },
  {
   "cell_type": "markdown",
   "id": "97d0d0e4",
   "metadata": {},
   "source": [
    "### for loop"
   ]
  },
  {
   "cell_type": "code",
   "execution_count": 46,
   "id": "c20af97c",
   "metadata": {},
   "outputs": [
    {
     "name": "stdout",
     "output_type": "stream",
     "text": [
      "0\n",
      "1\n",
      "2\n",
      "3\n",
      "4\n"
     ]
    }
   ],
   "source": [
    "for i in range(5):\n",
    "    print(i)"
   ]
  },
  {
   "cell_type": "code",
   "execution_count": 48,
   "id": "38472ca6",
   "metadata": {},
   "outputs": [
    {
     "name": "stdout",
     "output_type": "stream",
     "text": [
      "s\n",
      "h\n",
      "i\n",
      "v\n",
      "a\n",
      "m\n"
     ]
    }
   ],
   "source": [
    "for i in \"shivam\":\n",
    "    print(i)"
   ]
  },
  {
   "cell_type": "code",
   "execution_count": 50,
   "id": "e47cafaa",
   "metadata": {},
   "outputs": [],
   "source": [
    "dic={\"name\":\"Shivam\",\"city\":\"BIHAR\"}"
   ]
  },
  {
   "cell_type": "code",
   "execution_count": 51,
   "id": "cf14ed7f",
   "metadata": {},
   "outputs": [
    {
     "name": "stdout",
     "output_type": "stream",
     "text": [
      "Shivam\n",
      "BIHAR\n"
     ]
    }
   ],
   "source": [
    "for i in dic.values():\n",
    "    print(i)"
   ]
  },
  {
   "cell_type": "code",
   "execution_count": 52,
   "id": "596c9cca",
   "metadata": {},
   "outputs": [
    {
     "name": "stdout",
     "output_type": "stream",
     "text": [
      "name Shivam\n",
      "city BIHAR\n"
     ]
    }
   ],
   "source": [
    "for key in dic:\n",
    "    print(key,dic[key])"
   ]
  },
  {
   "cell_type": "code",
   "execution_count": 53,
   "id": "cfac2d12",
   "metadata": {},
   "outputs": [
    {
     "name": "stdout",
     "output_type": "stream",
     "text": [
      "hi\n",
      "shivam\n",
      "wow\n"
     ]
    }
   ],
   "source": [
    "print(\"hi\")\n",
    "print(\"shivam\")\n",
    "print(\"wow\")"
   ]
  },
  {
   "cell_type": "code",
   "execution_count": 55,
   "id": "a8bfb77e",
   "metadata": {},
   "outputs": [
    {
     "name": "stdout",
     "output_type": "stream",
     "text": [
      "hi shivam wow\n"
     ]
    }
   ],
   "source": [
    "print(\"hi\",end = ' ')\n",
    "print(\"shivam\",end = ' ')\n",
    "print(\"wow\")"
   ]
  },
  {
   "cell_type": "code",
   "execution_count": 57,
   "id": "03c38ca1",
   "metadata": {},
   "outputs": [
    {
     "name": "stdout",
     "output_type": "stream",
     "text": [
      "0 1 2 3 4 5 6 7 8 9 "
     ]
    }
   ],
   "source": [
    "for i in range(10):\n",
    "    print(i,end=' ')"
   ]
  },
  {
   "cell_type": "code",
   "execution_count": 58,
   "id": "8b65c9c7",
   "metadata": {},
   "outputs": [
    {
     "name": "stdout",
     "output_type": "stream",
     "text": [
      "0 1 2 3 4 done\n"
     ]
    }
   ],
   "source": [
    "for i in range(5):\n",
    "    print(i,end=' ')\n",
    "else:\n",
    "    print(\"done\")"
   ]
  },
  {
   "cell_type": "code",
   "execution_count": 64,
   "id": "573d0dc8",
   "metadata": {},
   "outputs": [
    {
     "name": "stdout",
     "output_type": "stream",
     "text": [
      "* \n",
      "* * \n",
      "* * * \n",
      "* * * * \n",
      "* * * * * \n"
     ]
    }
   ],
   "source": [
    "#star pattern\n",
    "\n",
    "for i in range(5):\n",
    "    for j in range(i+1):\n",
    "        print(\"*\",end=\" \")\n",
    "    print()"
   ]
  },
  {
   "cell_type": "code",
   "execution_count": 67,
   "id": "ff40126c",
   "metadata": {},
   "outputs": [
    {
     "name": "stdout",
     "output_type": "stream",
     "text": [
      "* * * * * \n",
      "* * * * \n",
      "* * * \n",
      "* * \n",
      "* \n"
     ]
    }
   ],
   "source": [
    "for i in range(5,0,-1):\n",
    "    for j in range(i,0,-1):\n",
    "        print(\"*\",end=\" \")\n",
    "    print()"
   ]
  },
  {
   "cell_type": "code",
   "execution_count": 79,
   "id": "a7dea8dc",
   "metadata": {},
   "outputs": [
    {
     "name": "stdout",
     "output_type": "stream",
     "text": [
      "1 2 3 4 5 \n",
      "2 4 6 8 10 \n",
      "3 6 9 12 15 \n",
      "4 8 12 16 20 \n",
      "5 10 15 20 25 \n"
     ]
    }
   ],
   "source": [
    "for i in range(1,6):\n",
    "    for j in range(1,6):\n",
    "        print(i*j,end=\" \")\n",
    "    print()"
   ]
  },
  {
   "cell_type": "markdown",
   "id": "65ac0b50",
   "metadata": {},
   "source": [
    "### While Loop"
   ]
  },
  {
   "cell_type": "code",
   "execution_count": 81,
   "id": "f7950904",
   "metadata": {},
   "outputs": [
    {
     "name": "stdout",
     "output_type": "stream",
     "text": [
      "0\n",
      "1\n",
      "2\n",
      "3\n",
      "4\n",
      "5\n"
     ]
    }
   ],
   "source": [
    "count=0\n",
    "\n",
    "while count <=5:\n",
    "    print(count)\n",
    "    count +=1"
   ]
  },
  {
   "cell_type": "code",
   "execution_count": 83,
   "id": "8e25d9c4",
   "metadata": {},
   "outputs": [
    {
     "name": "stdout",
     "output_type": "stream",
     "text": [
      "Enter 'quit' word to exit the loop : hello\n",
      "You enterd :  hello\n",
      "Enter 'quit' word to exit the loop : quit\n",
      "You enterd :  quit\n"
     ]
    }
   ],
   "source": [
    "text=\" \"\n",
    "while text !=\"quit\":\n",
    "    text=input(\"Enter 'quit' word to exit the loop : \")\n",
    "    print(\"You enterd : \",text)"
   ]
  },
  {
   "cell_type": "code",
   "execution_count": null,
   "id": "25c5157f",
   "metadata": {},
   "outputs": [],
   "source": []
  }
 ],
 "metadata": {
  "kernelspec": {
   "display_name": "Python 3 (ipykernel)",
   "language": "python",
   "name": "python3"
  },
  "language_info": {
   "codemirror_mode": {
    "name": "ipython",
    "version": 3
   },
   "file_extension": ".py",
   "mimetype": "text/x-python",
   "name": "python",
   "nbconvert_exporter": "python",
   "pygments_lexer": "ipython3",
   "version": "3.9.13"
  }
 },
 "nbformat": 4,
 "nbformat_minor": 5
}
