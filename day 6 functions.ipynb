{
 "cells": [
  {
   "cell_type": "code",
   "execution_count": 6,
   "id": "453b33a1",
   "metadata": {},
   "outputs": [],
   "source": [
    "testglobal=10\n",
    "def testadd():\n",
    "    y=10\n",
    "    print(\"Local : \",y)\n",
    "    print(\"Global : \",testglobal)\n",
    "    "
   ]
  },
  {
   "cell_type": "code",
   "execution_count": 7,
   "id": "caaf79bd",
   "metadata": {},
   "outputs": [
    {
     "name": "stdout",
     "output_type": "stream",
     "text": [
      "Local :  10\n",
      "Global :  10\n"
     ]
    }
   ],
   "source": [
    "testadd()"
   ]
  },
  {
   "cell_type": "markdown",
   "id": "d3a736d6",
   "metadata": {},
   "source": [
    "### Function arguments"
   ]
  },
  {
   "cell_type": "markdown",
   "id": "84a7e67e",
   "metadata": {},
   "source": [
    "### Positional arguments"
   ]
  },
  {
   "cell_type": "code",
   "execution_count": 8,
   "id": "25eb5d24",
   "metadata": {},
   "outputs": [],
   "source": [
    "def add_numbers(x,y):\n",
    "    z=x+y\n",
    "    print(\"Sum : \",z)"
   ]
  },
  {
   "cell_type": "code",
   "execution_count": 10,
   "id": "73491a20",
   "metadata": {},
   "outputs": [
    {
     "name": "stdout",
     "output_type": "stream",
     "text": [
      "Sum :  15\n"
     ]
    }
   ],
   "source": [
    "add_numbers(7,8)"
   ]
  },
  {
   "cell_type": "markdown",
   "id": "4936f176",
   "metadata": {},
   "source": [
    "### Default arguments"
   ]
  },
  {
   "cell_type": "code",
   "execution_count": 13,
   "id": "9791341a",
   "metadata": {},
   "outputs": [],
   "source": [
    "def add_numbers1(x=10,y=20):\n",
    "    z=x+y\n",
    "    print(\"Sum : \",z)"
   ]
  },
  {
   "cell_type": "code",
   "execution_count": 14,
   "id": "e7bb205e",
   "metadata": {},
   "outputs": [
    {
     "name": "stdout",
     "output_type": "stream",
     "text": [
      "Sum :  30\n"
     ]
    }
   ],
   "source": [
    "add_numbers1()"
   ]
  },
  {
   "cell_type": "code",
   "execution_count": 15,
   "id": "88f59f02",
   "metadata": {},
   "outputs": [
    {
     "name": "stdout",
     "output_type": "stream",
     "text": [
      "Sum :  15\n"
     ]
    }
   ],
   "source": [
    "add_numbers1(5,10)"
   ]
  },
  {
   "cell_type": "markdown",
   "id": "774294cf",
   "metadata": {},
   "source": [
    "### Keyword arguments"
   ]
  },
  {
   "cell_type": "code",
   "execution_count": 16,
   "id": "0e25f968",
   "metadata": {},
   "outputs": [],
   "source": [
    "def display_info(first_name,last_name):\n",
    "    print(\"First name : \",first_name)\n",
    "    print(\"Last name : \",last_name)"
   ]
  },
  {
   "cell_type": "code",
   "execution_count": 17,
   "id": "abd7fc12",
   "metadata": {},
   "outputs": [
    {
     "name": "stdout",
     "output_type": "stream",
     "text": [
      "First name :  shivam\n",
      "Last name :  singh\n"
     ]
    }
   ],
   "source": [
    "display_info(first_name=\"shivam\",last_name=\"singh\")"
   ]
  },
  {
   "cell_type": "code",
   "execution_count": 18,
   "id": "f526f555",
   "metadata": {
    "scrolled": true
   },
   "outputs": [
    {
     "name": "stdout",
     "output_type": "stream",
     "text": [
      "First name :  shivam\n",
      "Last name :  singh\n"
     ]
    }
   ],
   "source": [
    "display_info(last_name=\"singh\",first_name=\"shivam\")"
   ]
  },
  {
   "cell_type": "markdown",
   "id": "ab6046ce",
   "metadata": {},
   "source": [
    "### variable arguments"
   ]
  },
  {
   "cell_type": "code",
   "execution_count": 19,
   "id": "7c4ed827",
   "metadata": {},
   "outputs": [],
   "source": [
    "#*args and **kargs"
   ]
  },
  {
   "cell_type": "code",
   "execution_count": 24,
   "id": "0f30d785",
   "metadata": {},
   "outputs": [],
   "source": [
    "def find_sum(*numbers):\n",
    "    sum=0\n",
    "    for num in numbers:\n",
    "        sum=sum+num\n",
    "    print(\"sum = \",sum)"
   ]
  },
  {
   "cell_type": "code",
   "execution_count": 25,
   "id": "31f533b8",
   "metadata": {},
   "outputs": [
    {
     "name": "stdout",
     "output_type": "stream",
     "text": [
      "sum =  0\n"
     ]
    }
   ],
   "source": [
    "find_sum()"
   ]
  },
  {
   "cell_type": "code",
   "execution_count": 27,
   "id": "3cd2c2d4",
   "metadata": {},
   "outputs": [
    {
     "name": "stdout",
     "output_type": "stream",
     "text": [
      "sum =  45\n"
     ]
    }
   ],
   "source": [
    "find_sum(1,2,3,4,5,6,7,8,9)"
   ]
  },
  {
   "cell_type": "code",
   "execution_count": 34,
   "id": "84504d18",
   "metadata": {},
   "outputs": [],
   "source": [
    "def info(**data):\n",
    "    print(\"data type : \",type(data))\n",
    "    \n",
    "    for key,value in data.items() :\n",
    "        print(key,value)"
   ]
  },
  {
   "cell_type": "code",
   "execution_count": 35,
   "id": "48086cfb",
   "metadata": {},
   "outputs": [
    {
     "name": "stdout",
     "output_type": "stream",
     "text": [
      "data type :  <class 'dict'>\n",
      "firstname Shivam\n",
      "lastname singh\n"
     ]
    }
   ],
   "source": [
    "info(firstname=\"Shivam\",lastname=\"singh\")"
   ]
  },
  {
   "cell_type": "code",
   "execution_count": 36,
   "id": "555accea",
   "metadata": {},
   "outputs": [],
   "source": [
    "def simple(**x):\n",
    "    print(x)"
   ]
  },
  {
   "cell_type": "code",
   "execution_count": 38,
   "id": "f4d84c9f",
   "metadata": {},
   "outputs": [
    {
     "name": "stdout",
     "output_type": "stream",
     "text": [
      "{'name': 'shivam', 'age': '20', 'id_no': '1200065546'}\n"
     ]
    }
   ],
   "source": [
    "simple(name=\"shivam\",age=\"20\",id_no=\"1200065546\")"
   ]
  },
  {
   "cell_type": "markdown",
   "id": "1e00d2d6",
   "metadata": {},
   "source": [
    "### Lambda Functions"
   ]
  },
  {
   "cell_type": "code",
   "execution_count": 39,
   "id": "7953f8ff",
   "metadata": {},
   "outputs": [],
   "source": [
    "x=lambda:print(\"Hello world\")"
   ]
  },
  {
   "cell_type": "code",
   "execution_count": 40,
   "id": "798d770b",
   "metadata": {},
   "outputs": [
    {
     "name": "stdout",
     "output_type": "stream",
     "text": [
      "Hello world\n"
     ]
    }
   ],
   "source": [
    "x()"
   ]
  },
  {
   "cell_type": "code",
   "execution_count": 41,
   "id": "d7b0247c",
   "metadata": {},
   "outputs": [],
   "source": [
    "add_numbe=lambda a,b : a+b"
   ]
  },
  {
   "cell_type": "code",
   "execution_count": 42,
   "id": "371cdc81",
   "metadata": {},
   "outputs": [
    {
     "data": {
      "text/plain": [
       "11"
      ]
     },
     "execution_count": 42,
     "metadata": {},
     "output_type": "execute_result"
    }
   ],
   "source": [
    "add_numbe(5,6)"
   ]
  },
  {
   "cell_type": "code",
   "execution_count": 43,
   "id": "7cbe787b",
   "metadata": {},
   "outputs": [
    {
     "name": "stdout",
     "output_type": "stream",
     "text": [
      "Enter 1st number : 5\n",
      "Enter 2nd number : 6\n",
      "(25, 36)\n"
     ]
    }
   ],
   "source": [
    "a=int(input(\"Enter 1st number : \"))\n",
    "b=int(input(\"Enter 2nd number : \"))\n",
    "square=lambda a,b : (a**2,b**2)\n",
    "print(square(a,b))"
   ]
  },
  {
   "cell_type": "code",
   "execution_count": 44,
   "id": "2d17f214",
   "metadata": {},
   "outputs": [],
   "source": [
    "#even odd\n",
    "num1=lambda n : \"Even\" if n%2==0 else \"Odd\""
   ]
  },
  {
   "cell_type": "code",
   "execution_count": 45,
   "id": "fb38e7f3",
   "metadata": {},
   "outputs": [
    {
     "data": {
      "text/plain": [
       "'Even'"
      ]
     },
     "execution_count": 45,
     "metadata": {},
     "output_type": "execute_result"
    }
   ],
   "source": [
    "num1(2)"
   ]
  },
  {
   "cell_type": "code",
   "execution_count": 46,
   "id": "31b90ea0",
   "metadata": {},
   "outputs": [
    {
     "data": {
      "text/plain": [
       "'Odd'"
      ]
     },
     "execution_count": 46,
     "metadata": {},
     "output_type": "execute_result"
    }
   ],
   "source": [
    "num1(3)"
   ]
  },
  {
   "cell_type": "code",
   "execution_count": 62,
   "id": "c7458da5",
   "metadata": {},
   "outputs": [],
   "source": [
    "#greater \n",
    "greater=lambda a,b : a if a>b else b"
   ]
  },
  {
   "cell_type": "code",
   "execution_count": 64,
   "id": "5008dceb",
   "metadata": {},
   "outputs": [
    {
     "data": {
      "text/plain": [
       "5"
      ]
     },
     "execution_count": 64,
     "metadata": {},
     "output_type": "execute_result"
    }
   ],
   "source": [
    "greater(5,3)"
   ]
  },
  {
   "cell_type": "code",
   "execution_count": 80,
   "id": "460eea01",
   "metadata": {},
   "outputs": [],
   "source": [
    "products = [\n",
    "    {'name':'product1','price':80},\n",
    "    {'name':'product2','price':10},\n",
    "    {'name':'product3','price':50},\n",
    "    {'name':'product4','price':70}\n",
    "]\n",
    "sorted_products = sorted(products, key=lambda x:x['price'])"
   ]
  },
  {
   "cell_type": "code",
   "execution_count": 81,
   "id": "96357dab",
   "metadata": {},
   "outputs": [
    {
     "name": "stdout",
     "output_type": "stream",
     "text": [
      "{'name': 'product2', 'price': 10}\n",
      "{'name': 'product3', 'price': 50}\n",
      "{'name': 'product4', 'price': 70}\n",
      "{'name': 'product1', 'price': 80}\n"
     ]
    }
   ],
   "source": [
    "for i in sorted_products:\n",
    "    print(i)"
   ]
  },
  {
   "cell_type": "code",
   "execution_count": 82,
   "id": "a7c5b239",
   "metadata": {},
   "outputs": [],
   "source": [
    "products = [\n",
    "    {'name':'product1','price':80},\n",
    "    {'name':'product2','price':10},\n",
    "    {'name':'product3','price':50},\n",
    "    {'name':'product4','price':70}\n",
    "]\n",
    "sorted_products = sorted(products, key=lambda x:x['price'],reverse=True)"
   ]
  },
  {
   "cell_type": "code",
   "execution_count": 83,
   "id": "03535a90",
   "metadata": {},
   "outputs": [
    {
     "name": "stdout",
     "output_type": "stream",
     "text": [
      "{'name': 'product1', 'price': 80}\n",
      "{'name': 'product4', 'price': 70}\n",
      "{'name': 'product3', 'price': 50}\n",
      "{'name': 'product2', 'price': 10}\n"
     ]
    }
   ],
   "source": [
    "for i in sorted_products:\n",
    "    print(i)"
   ]
  },
  {
   "cell_type": "markdown",
   "id": "bf351d6f",
   "metadata": {},
   "source": [
    "### list comprihention [output collection condition]"
   ]
  },
  {
   "cell_type": "code",
   "execution_count": 86,
   "id": "bf82509e",
   "metadata": {},
   "outputs": [],
   "source": [
    "lst=[1,2,3,4,5,6,7,8,9,10]\n",
    "a=[x for x in lst]"
   ]
  },
  {
   "cell_type": "code",
   "execution_count": 87,
   "id": "73c6351d",
   "metadata": {},
   "outputs": [
    {
     "data": {
      "text/plain": [
       "[1, 2, 3, 4, 5, 6, 7, 8, 9, 10]"
      ]
     },
     "execution_count": 87,
     "metadata": {},
     "output_type": "execute_result"
    }
   ],
   "source": [
    "a"
   ]
  },
  {
   "cell_type": "code",
   "execution_count": 88,
   "id": "d31f3303",
   "metadata": {},
   "outputs": [],
   "source": [
    "lst=[1,2,3,4,5,6,7,8,9,10]\n",
    "a=[x+1 for x in lst]"
   ]
  },
  {
   "cell_type": "code",
   "execution_count": 89,
   "id": "bed6e66c",
   "metadata": {},
   "outputs": [
    {
     "data": {
      "text/plain": [
       "[2, 3, 4, 5, 6, 7, 8, 9, 10, 11]"
      ]
     },
     "execution_count": 89,
     "metadata": {},
     "output_type": "execute_result"
    }
   ],
   "source": [
    "a"
   ]
  },
  {
   "cell_type": "code",
   "execution_count": 90,
   "id": "bda250b5",
   "metadata": {},
   "outputs": [],
   "source": [
    "lst=[1,2,3,4,5,6,7,8,9,10]\n",
    "a=[x for x in lst if x%2==0]"
   ]
  },
  {
   "cell_type": "code",
   "execution_count": 91,
   "id": "18eb169a",
   "metadata": {},
   "outputs": [
    {
     "data": {
      "text/plain": [
       "[2, 4, 6, 8, 10]"
      ]
     },
     "execution_count": 91,
     "metadata": {},
     "output_type": "execute_result"
    }
   ],
   "source": [
    "a"
   ]
  },
  {
   "cell_type": "code",
   "execution_count": 92,
   "id": "b3a7d195",
   "metadata": {},
   "outputs": [],
   "source": [
    "lst=[1,2,3,4,5,6,7,8,9,10]\n",
    "a=[x for x in lst if x%2==0 if x>4]"
   ]
  },
  {
   "cell_type": "code",
   "execution_count": 93,
   "id": "5e47eb9a",
   "metadata": {},
   "outputs": [
    {
     "data": {
      "text/plain": [
       "[6, 8, 10]"
      ]
     },
     "execution_count": 93,
     "metadata": {},
     "output_type": "execute_result"
    }
   ],
   "source": [
    "a"
   ]
  },
  {
   "cell_type": "code",
   "execution_count": null,
   "id": "a725cc66",
   "metadata": {},
   "outputs": [],
   "source": []
  }
 ],
 "metadata": {
  "kernelspec": {
   "display_name": "Python 3 (ipykernel)",
   "language": "python",
   "name": "python3"
  },
  "language_info": {
   "codemirror_mode": {
    "name": "ipython",
    "version": 3
   },
   "file_extension": ".py",
   "mimetype": "text/x-python",
   "name": "python",
   "nbconvert_exporter": "python",
   "pygments_lexer": "ipython3",
   "version": "3.9.13"
  }
 },
 "nbformat": 4,
 "nbformat_minor": 5
}
