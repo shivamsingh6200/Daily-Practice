{
 "cells": [
  {
   "cell_type": "code",
   "execution_count": 2,
   "id": "5f252c2f",
   "metadata": {},
   "outputs": [
    {
     "name": "stdout",
     "output_type": "stream",
     "text": [
      "Enter Your Name Shivam\n"
     ]
    }
   ],
   "source": [
    "x=input(\"Enter Your Name \")"
   ]
  },
  {
   "cell_type": "code",
   "execution_count": 3,
   "id": "769285b1",
   "metadata": {},
   "outputs": [
    {
     "name": "stdout",
     "output_type": "stream",
     "text": [
      "my name is Shivam\n"
     ]
    }
   ],
   "source": [
    "print(\"my name is \" + x)"
   ]
  },
  {
   "cell_type": "markdown",
   "id": "7e5fa99e",
   "metadata": {},
   "source": [
    "### f string formate"
   ]
  },
  {
   "cell_type": "code",
   "execution_count": 6,
   "id": "d380f7a4",
   "metadata": {
    "scrolled": true
   },
   "outputs": [
    {
     "name": "stdout",
     "output_type": "stream",
     "text": [
      "hi ok BRO\n"
     ]
    }
   ],
   "source": [
    "x=\"hi\"\n",
    "y=\"BRO\"\n",
    "print(f\"{x} ok {y}\")"
   ]
  },
  {
   "cell_type": "code",
   "execution_count": 10,
   "id": "4d68d8ce",
   "metadata": {},
   "outputs": [
    {
     "name": "stdout",
     "output_type": "stream",
     "text": [
      "BRO hi BRO\n"
     ]
    }
   ],
   "source": [
    "x=\"hi\"\n",
    "y=\"BRO\"\n",
    "print(f\"{y} {x} {y}\")"
   ]
  },
  {
   "cell_type": "markdown",
   "id": "1385c253",
   "metadata": {},
   "source": [
    "### dot format"
   ]
  },
  {
   "cell_type": "code",
   "execution_count": 7,
   "id": "72f66ebc",
   "metadata": {},
   "outputs": [
    {
     "name": "stdout",
     "output_type": "stream",
     "text": [
      "pw and skills\n"
     ]
    }
   ],
   "source": [
    "print(\"{0} and {1}\".format(\"pw\",\"skills\"))"
   ]
  },
  {
   "cell_type": "code",
   "execution_count": 9,
   "id": "1331426e",
   "metadata": {},
   "outputs": [
    {
     "name": "stdout",
     "output_type": "stream",
     "text": [
      "skills and pw and skills\n"
     ]
    }
   ],
   "source": [
    "print(\"{1} and {0} and {1}\".format(\"pw\",\"skills\"))"
   ]
  },
  {
   "cell_type": "markdown",
   "id": "b6b2cda3",
   "metadata": {},
   "source": [
    "### operator"
   ]
  },
  {
   "cell_type": "code",
   "execution_count": 11,
   "id": "b36722ea",
   "metadata": {},
   "outputs": [],
   "source": [
    "a=10"
   ]
  },
  {
   "cell_type": "code",
   "execution_count": 12,
   "id": "b4a05288",
   "metadata": {},
   "outputs": [],
   "source": [
    "b=10"
   ]
  },
  {
   "cell_type": "code",
   "execution_count": 13,
   "id": "ebb06c3a",
   "metadata": {},
   "outputs": [
    {
     "data": {
      "text/plain": [
       "True"
      ]
     },
     "execution_count": 13,
     "metadata": {},
     "output_type": "execute_result"
    }
   ],
   "source": [
    "a==b"
   ]
  },
  {
   "cell_type": "code",
   "execution_count": 14,
   "id": "fac34d2c",
   "metadata": {},
   "outputs": [
    {
     "data": {
      "text/plain": [
       "True"
      ]
     },
     "execution_count": 14,
     "metadata": {},
     "output_type": "execute_result"
    }
   ],
   "source": [
    "a is b"
   ]
  },
  {
   "cell_type": "code",
   "execution_count": 15,
   "id": "38ad5a67",
   "metadata": {},
   "outputs": [
    {
     "data": {
      "text/plain": [
       "2232283130448"
      ]
     },
     "execution_count": 15,
     "metadata": {},
     "output_type": "execute_result"
    }
   ],
   "source": [
    "id(a)"
   ]
  },
  {
   "cell_type": "code",
   "execution_count": 16,
   "id": "b6622f8d",
   "metadata": {},
   "outputs": [
    {
     "data": {
      "text/plain": [
       "2232283130448"
      ]
     },
     "execution_count": 16,
     "metadata": {},
     "output_type": "execute_result"
    }
   ],
   "source": [
    "id(b)"
   ]
  },
  {
   "cell_type": "code",
   "execution_count": 17,
   "id": "fa1e35ab",
   "metadata": {},
   "outputs": [
    {
     "data": {
      "text/plain": [
       "False"
      ]
     },
     "execution_count": 17,
     "metadata": {},
     "output_type": "execute_result"
    }
   ],
   "source": [
    "a!=b"
   ]
  },
  {
   "cell_type": "code",
   "execution_count": 18,
   "id": "d1eb4147",
   "metadata": {},
   "outputs": [],
   "source": [
    "a=[1,2,3]"
   ]
  },
  {
   "cell_type": "code",
   "execution_count": 19,
   "id": "d181f47f",
   "metadata": {},
   "outputs": [],
   "source": [
    "b=[1,2,3]"
   ]
  },
  {
   "cell_type": "code",
   "execution_count": 26,
   "id": "7ee7b361",
   "metadata": {},
   "outputs": [
    {
     "data": {
      "text/plain": [
       "2232366551616"
      ]
     },
     "execution_count": 26,
     "metadata": {},
     "output_type": "execute_result"
    }
   ],
   "source": [
    "id(a)"
   ]
  },
  {
   "cell_type": "code",
   "execution_count": 27,
   "id": "7830dc5b",
   "metadata": {},
   "outputs": [
    {
     "data": {
      "text/plain": [
       "2232366815872"
      ]
     },
     "execution_count": 27,
     "metadata": {},
     "output_type": "execute_result"
    }
   ],
   "source": [
    "id(b)"
   ]
  },
  {
   "cell_type": "code",
   "execution_count": 20,
   "id": "f07ce782",
   "metadata": {},
   "outputs": [
    {
     "data": {
      "text/plain": [
       "True"
      ]
     },
     "execution_count": 20,
     "metadata": {},
     "output_type": "execute_result"
    }
   ],
   "source": [
    "a==b"
   ]
  },
  {
   "cell_type": "code",
   "execution_count": 22,
   "id": "d798061f",
   "metadata": {},
   "outputs": [
    {
     "data": {
      "text/plain": [
       "False"
      ]
     },
     "execution_count": 22,
     "metadata": {},
     "output_type": "execute_result"
    }
   ],
   "source": [
    "a is b\n",
    "# is operator check the value as well as the address of the variable"
   ]
  },
  {
   "cell_type": "code",
   "execution_count": 23,
   "id": "bcbf2f6c",
   "metadata": {},
   "outputs": [],
   "source": [
    "c=[1,2,3]"
   ]
  },
  {
   "cell_type": "code",
   "execution_count": 25,
   "id": "12d7e95c",
   "metadata": {},
   "outputs": [],
   "source": [
    "d=c"
   ]
  },
  {
   "cell_type": "code",
   "execution_count": 30,
   "id": "f7f25337",
   "metadata": {},
   "outputs": [
    {
     "data": {
      "text/plain": [
       "2232366861184"
      ]
     },
     "execution_count": 30,
     "metadata": {},
     "output_type": "execute_result"
    }
   ],
   "source": [
    "id(c)"
   ]
  },
  {
   "cell_type": "code",
   "execution_count": 31,
   "id": "e2ad1778",
   "metadata": {},
   "outputs": [
    {
     "data": {
      "text/plain": [
       "2232366861184"
      ]
     },
     "execution_count": 31,
     "metadata": {},
     "output_type": "execute_result"
    }
   ],
   "source": [
    "id(d)"
   ]
  },
  {
   "cell_type": "code",
   "execution_count": 33,
   "id": "4286fd9e",
   "metadata": {},
   "outputs": [
    {
     "data": {
      "text/plain": [
       "True"
      ]
     },
     "execution_count": 33,
     "metadata": {},
     "output_type": "execute_result"
    }
   ],
   "source": [
    "c==d"
   ]
  },
  {
   "cell_type": "code",
   "execution_count": 34,
   "id": "c3fffab3",
   "metadata": {},
   "outputs": [
    {
     "data": {
      "text/plain": [
       "True"
      ]
     },
     "execution_count": 34,
     "metadata": {},
     "output_type": "execute_result"
    }
   ],
   "source": [
    "c is d"
   ]
  },
  {
   "cell_type": "code",
   "execution_count": 36,
   "id": "5c8dac88",
   "metadata": {},
   "outputs": [
    {
     "name": "stdout",
     "output_type": "stream",
     "text": [
      "Enter a no. 10\n"
     ]
    }
   ],
   "source": [
    "x=int(input(\"Enter a no. \"))"
   ]
  },
  {
   "cell_type": "code",
   "execution_count": 53,
   "id": "fd7b62c3",
   "metadata": {},
   "outputs": [
    {
     "name": "stdout",
     "output_type": "stream",
     "text": [
      "5003154509899970\n"
     ]
    }
   ],
   "source": [
    "print(3**35//x)"
   ]
  },
  {
   "cell_type": "markdown",
   "id": "c9ea5809",
   "metadata": {},
   "source": [
    "### square root"
   ]
  },
  {
   "cell_type": "code",
   "execution_count": 48,
   "id": "a548e715",
   "metadata": {},
   "outputs": [
    {
     "name": "stdout",
     "output_type": "stream",
     "text": [
      "4\n"
     ]
    }
   ],
   "source": [
    "y=int(input())"
   ]
  },
  {
   "cell_type": "code",
   "execution_count": 52,
   "id": "4e987672",
   "metadata": {},
   "outputs": [
    {
     "name": "stdout",
     "output_type": "stream",
     "text": [
      "2.0\n"
     ]
    }
   ],
   "source": [
    "print(y**(1/2))"
   ]
  },
  {
   "cell_type": "markdown",
   "id": "74cdcfb4",
   "metadata": {},
   "source": [
    "### greater and smaller"
   ]
  },
  {
   "cell_type": "code",
   "execution_count": 54,
   "id": "0f4eafd5",
   "metadata": {},
   "outputs": [],
   "source": [
    "a=10"
   ]
  },
  {
   "cell_type": "code",
   "execution_count": 55,
   "id": "2932e042",
   "metadata": {},
   "outputs": [],
   "source": [
    "b=20"
   ]
  },
  {
   "cell_type": "code",
   "execution_count": 56,
   "id": "aac75b6e",
   "metadata": {},
   "outputs": [
    {
     "data": {
      "text/plain": [
       "True"
      ]
     },
     "execution_count": 56,
     "metadata": {},
     "output_type": "execute_result"
    }
   ],
   "source": [
    "a<b"
   ]
  },
  {
   "cell_type": "code",
   "execution_count": 57,
   "id": "4cf3aa42",
   "metadata": {},
   "outputs": [
    {
     "data": {
      "text/plain": [
       "False"
      ]
     },
     "execution_count": 57,
     "metadata": {},
     "output_type": "execute_result"
    }
   ],
   "source": [
    "a>b"
   ]
  },
  {
   "cell_type": "markdown",
   "id": "4db28842",
   "metadata": {},
   "source": [
    "### Logical operator"
   ]
  },
  {
   "cell_type": "code",
   "execution_count": 58,
   "id": "a360812b",
   "metadata": {},
   "outputs": [],
   "source": [
    "a=10"
   ]
  },
  {
   "cell_type": "code",
   "execution_count": 59,
   "id": "bafb175e",
   "metadata": {},
   "outputs": [],
   "source": [
    "b=4"
   ]
  },
  {
   "cell_type": "code",
   "execution_count": 60,
   "id": "60ae82ae",
   "metadata": {},
   "outputs": [
    {
     "data": {
      "text/plain": [
       "'0b1010'"
      ]
     },
     "execution_count": 60,
     "metadata": {},
     "output_type": "execute_result"
    }
   ],
   "source": [
    "bin(a)"
   ]
  },
  {
   "cell_type": "code",
   "execution_count": 61,
   "id": "ac881614",
   "metadata": {},
   "outputs": [
    {
     "data": {
      "text/plain": [
       "'0b100'"
      ]
     },
     "execution_count": 61,
     "metadata": {},
     "output_type": "execute_result"
    }
   ],
   "source": [
    "bin(b)"
   ]
  },
  {
   "cell_type": "code",
   "execution_count": 62,
   "id": "37553067",
   "metadata": {},
   "outputs": [
    {
     "data": {
      "text/plain": [
       "0"
      ]
     },
     "execution_count": 62,
     "metadata": {},
     "output_type": "execute_result"
    }
   ],
   "source": [
    "a & b\n",
    "#and operator"
   ]
  },
  {
   "cell_type": "code",
   "execution_count": 64,
   "id": "c213ac31",
   "metadata": {},
   "outputs": [
    {
     "data": {
      "text/plain": [
       "14"
      ]
     },
     "execution_count": 64,
     "metadata": {},
     "output_type": "execute_result"
    }
   ],
   "source": [
    "a | b\n",
    "# or opeartor"
   ]
  },
  {
   "cell_type": "code",
   "execution_count": 65,
   "id": "1386e10a",
   "metadata": {},
   "outputs": [
    {
     "data": {
      "text/plain": [
       "-11"
      ]
     },
     "execution_count": 65,
     "metadata": {},
     "output_type": "execute_result"
    }
   ],
   "source": [
    "~a\n",
    "#not operator"
   ]
  },
  {
   "cell_type": "code",
   "execution_count": 69,
   "id": "e951104e",
   "metadata": {},
   "outputs": [
    {
     "data": {
      "text/plain": [
       "14"
      ]
     },
     "execution_count": 69,
     "metadata": {},
     "output_type": "execute_result"
    }
   ],
   "source": [
    "a ^ b\n",
    "# xor operator"
   ]
  },
  {
   "cell_type": "code",
   "execution_count": 74,
   "id": "896cbfae",
   "metadata": {},
   "outputs": [
    {
     "data": {
      "text/plain": [
       "20"
      ]
     },
     "execution_count": 74,
     "metadata": {},
     "output_type": "execute_result"
    }
   ],
   "source": [
    "a << 1\n",
    "#right shift"
   ]
  },
  {
   "cell_type": "code",
   "execution_count": 75,
   "id": "b3b95413",
   "metadata": {},
   "outputs": [
    {
     "data": {
      "text/plain": [
       "5"
      ]
     },
     "execution_count": 75,
     "metadata": {},
     "output_type": "execute_result"
    }
   ],
   "source": [
    "a>>1\n",
    "#left shift"
   ]
  },
  {
   "cell_type": "code",
   "execution_count": 79,
   "id": "180d1e6f",
   "metadata": {},
   "outputs": [],
   "source": [
    "a=10"
   ]
  },
  {
   "cell_type": "code",
   "execution_count": 82,
   "id": "51179c19",
   "metadata": {},
   "outputs": [],
   "source": [
    "a=a+3"
   ]
  },
  {
   "cell_type": "code",
   "execution_count": 83,
   "id": "0dbe8e38",
   "metadata": {
    "scrolled": true
   },
   "outputs": [
    {
     "data": {
      "text/plain": [
       "13"
      ]
     },
     "execution_count": 83,
     "metadata": {},
     "output_type": "execute_result"
    }
   ],
   "source": [
    "a"
   ]
  },
  {
   "cell_type": "code",
   "execution_count": 89,
   "id": "43a6e78c",
   "metadata": {},
   "outputs": [],
   "source": [
    "a=10"
   ]
  },
  {
   "cell_type": "code",
   "execution_count": 90,
   "id": "9277003c",
   "metadata": {},
   "outputs": [],
   "source": [
    "a+=3"
   ]
  },
  {
   "cell_type": "code",
   "execution_count": 91,
   "id": "7d3c8987",
   "metadata": {},
   "outputs": [
    {
     "data": {
      "text/plain": [
       "13"
      ]
     },
     "execution_count": 91,
     "metadata": {},
     "output_type": "execute_result"
    }
   ],
   "source": [
    "a"
   ]
  },
  {
   "cell_type": "code",
   "execution_count": null,
   "id": "2b8f0064",
   "metadata": {},
   "outputs": [],
   "source": []
  }
 ],
 "metadata": {
  "kernelspec": {
   "display_name": "Python 3 (ipykernel)",
   "language": "python",
   "name": "python3"
  },
  "language_info": {
   "codemirror_mode": {
    "name": "ipython",
    "version": 3
   },
   "file_extension": ".py",
   "mimetype": "text/x-python",
   "name": "python",
   "nbconvert_exporter": "python",
   "pygments_lexer": "ipython3",
   "version": "3.9.13"
  }
 },
 "nbformat": 4,
 "nbformat_minor": 5
}
