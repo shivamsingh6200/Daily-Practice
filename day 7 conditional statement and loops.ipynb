{
 "cells": [
  {
   "cell_type": "code",
   "execution_count": 1,
   "id": "59ab0491",
   "metadata": {},
   "outputs": [],
   "source": [
    "price=450"
   ]
  },
  {
   "cell_type": "code",
   "execution_count": 2,
   "id": "0d9caeb7",
   "metadata": {},
   "outputs": [
    {
     "data": {
      "text/plain": [
       "True"
      ]
     },
     "execution_count": 2,
     "metadata": {},
     "output_type": "execute_result"
    }
   ],
   "source": [
    "price<=500"
   ]
  },
  {
   "cell_type": "code",
   "execution_count": 7,
   "id": "801e45e5",
   "metadata": {},
   "outputs": [
    {
     "name": "stdout",
     "output_type": "stream",
     "text": [
      "Enter username : shivam727\n",
      "Enter password : shivam@6200\n",
      "you have logged in sucessfully \n"
     ]
    }
   ],
   "source": [
    "user_name=\"shivam727\"\n",
    "user_password=\"shivam@6200\"\n",
    "if user_name == input(\"Enter username : \") and user_password == input(\"Enter password : \"):\n",
    "    print(\"you have logged in sucessfully \")\n",
    "else:\n",
    "    print(\"Check your username and password again\")"
   ]
  },
  {
   "cell_type": "markdown",
   "id": "e03011d6",
   "metadata": {},
   "source": [
    "### username password problem"
   ]
  },
  {
   "cell_type": "code",
   "execution_count": 24,
   "id": "af598da6",
   "metadata": {},
   "outputs": [
    {
     "name": "stdout",
     "output_type": "stream",
     "text": [
      "Enter the user id : rahul\n",
      "Enter the password : rahul@123\n",
      "You have successfully logged in\n"
     ]
    }
   ],
   "source": [
    "usernames=[\"shivam727\",\"rahul\",\"ratan\"]\n",
    "passwords=[\"shivam@6200\",\"rahul@123\",\"ratan@321\"]\n",
    "user_id=input(\"Enter the user id : \")\n",
    "password=input(\"Enter the password : \")\n",
    "if user_id in usernames:\n",
    "    id_index=usernames.index(user_id)\n",
    "    if password==passwords[id_index]:\n",
    "        print(\"You have successfully logged in\")\n",
    "    else:\n",
    "        print(\"Enterd id or password is incorrect\")\n",
    "else:\n",
    "    print(\"Enterd id or password is incorrect\")"
   ]
  },
  {
   "cell_type": "markdown",
   "id": "6751883a",
   "metadata": {},
   "source": [
    "### username password problem with registration option"
   ]
  },
  {
   "cell_type": "code",
   "execution_count": 33,
   "id": "6c97a31a",
   "metadata": {},
   "outputs": [
    {
     "name": "stdout",
     "output_type": "stream",
     "text": [
      "Press '1' for loggin\n",
      "Press '2' for register\n",
      "Enter your choice : 1\n",
      "Enter the user id : rahul\n",
      "Enter the password : shivam@6200\n",
      "Enterd id or password is incorrect\n"
     ]
    }
   ],
   "source": [
    "usernames=[\"shivam727\",\"rahul\",\"ratan\"]\n",
    "passwords=[\"shivam@6200\",\"rahul@123\",\"ratan@321\"]\n",
    "x=0\n",
    "while x!=1:\n",
    "    print(\"Press '1' for loggin\\nPress '2' for register\")\n",
    "    x=int(input(\"Enter your choice : \"))\n",
    "    if x==1:\n",
    "        user_id=input(\"Enter the user id : \")\n",
    "        password=input(\"Enter the password : \")\n",
    "        if user_id in usernames:\n",
    "            id_index=usernames.index(user_id)\n",
    "             if password==passwords[id_index]:\n",
    "                print(\"You have successfully logged in\")\n",
    "            else:\n",
    "                print(\"Entered id or password is incorrect\")\n",
    "        else:\n",
    "            print(\"Entered id or password is incorrect\")\n",
    "    elif x==2:\n",
    "        user_id=input(\"Enter the user id you want to register : \")\n",
    "        password=input(\"Enter the password : \")\n",
    "        usernames.append(user_id)\n",
    "        passwords.append(password)\n",
    "    else:\n",
    "        print(\"Invalid input\")"
   ]
  },
  {
   "cell_type": "code",
   "execution_count": null,
   "id": "a5dbdc72",
   "metadata": {},
   "outputs": [],
   "source": []
  },
  {
   "cell_type": "code",
   "execution_count": null,
   "id": "e0261b14",
   "metadata": {},
   "outputs": [],
   "source": []
  },
  {
   "cell_type": "code",
   "execution_count": null,
   "id": "c55cb6e9",
   "metadata": {},
   "outputs": [],
   "source": []
  },
  {
   "cell_type": "code",
   "execution_count": null,
   "id": "6b196fae",
   "metadata": {},
   "outputs": [],
   "source": [
    "\n"
   ]
  },
  {
   "cell_type": "code",
   "execution_count": null,
   "id": "0dda9f0f",
   "metadata": {},
   "outputs": [],
   "source": []
  }
 ],
 "metadata": {
  "kernelspec": {
   "display_name": "Python 3 (ipykernel)",
   "language": "python",
   "name": "python3"
  },
  "language_info": {
   "codemirror_mode": {
    "name": "ipython",
    "version": 3
   },
   "file_extension": ".py",
   "mimetype": "text/x-python",
   "name": "python",
   "nbconvert_exporter": "python",
   "pygments_lexer": "ipython3",
   "version": "3.9.13"
  }
 },
 "nbformat": 4,
 "nbformat_minor": 5
}
