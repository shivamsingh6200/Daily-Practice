{
 "cells": [
  {
   "cell_type": "markdown",
   "id": "3bc36e85",
   "metadata": {},
   "source": [
    "# Polymorphism"
   ]
  },
  {
   "cell_type": "raw",
   "id": "c6dd84d5",
   "metadata": {},
   "source": [
    "poly=many\n",
    "morphism = types or variety\n",
    "object behave diff in diff situation"
   ]
  },
  {
   "cell_type": "code",
   "execution_count": 2,
   "id": "8dffbfa4",
   "metadata": {},
   "outputs": [],
   "source": [
    "def test1(a,b):\n",
    "    return a+b"
   ]
  },
  {
   "cell_type": "code",
   "execution_count": 3,
   "id": "bf1a8188",
   "metadata": {},
   "outputs": [
    {
     "data": {
      "text/plain": [
       "11"
      ]
     },
     "execution_count": 3,
     "metadata": {},
     "output_type": "execute_result"
    }
   ],
   "source": [
    "test1(5,6)"
   ]
  },
  {
   "cell_type": "code",
   "execution_count": 4,
   "id": "c2d93180",
   "metadata": {},
   "outputs": [
    {
     "data": {
      "text/plain": [
       "'shivamsingh'"
      ]
     },
     "execution_count": 4,
     "metadata": {},
     "output_type": "execute_result"
    }
   ],
   "source": [
    "test1(\"shivam\",\"singh\")"
   ]
  },
  {
   "cell_type": "markdown",
   "id": "6bc2e249",
   "metadata": {},
   "source": [
    "### Polymorphism by overriding"
   ]
  },
  {
   "cell_type": "code",
   "execution_count": 5,
   "id": "b4bd5527",
   "metadata": {},
   "outputs": [
    {
     "name": "stdout",
     "output_type": "stream",
     "text": [
      "this will give details about datascience\n",
      "this will give details about dsa\n"
     ]
    }
   ],
   "source": [
    "class pwskills:\n",
    "    def student(self):\n",
    "        pass\n",
    "class datascience(pwskills):\n",
    "    def student(self):\n",
    "        print(\"this will give details about datascience\")\n",
    "class dsa(pwskills):\n",
    "    def student(self):\n",
    "        print(\"this will give details about dsa\")\n",
    "        \n",
    "yash=datascience()\n",
    "rahul=dsa()\n",
    "\n",
    "yash.student()\n",
    "rahul.student()"
   ]
  },
  {
   "cell_type": "markdown",
   "id": "3c121f10",
   "metadata": {},
   "source": [
    "### Polymorphism by overloading"
   ]
  },
  {
   "cell_type": "code",
   "execution_count": 9,
   "id": "d87db66f",
   "metadata": {},
   "outputs": [
    {
     "name": "stdout",
     "output_type": "stream",
     "text": [
      "3 22\n"
     ]
    }
   ],
   "source": [
    "class bigdata:\n",
    "    def __init__(self,no_class,no_student):\n",
    "        self.no_class=no_class\n",
    "        self.no_student=no_student\n",
    "        \n",
    "    def __add__(self,other):\n",
    "        return bigdata(self.no_class + other.no_class , self.no_student + other.no_student)\n",
    "\n",
    "c1=bigdata(1,10)\n",
    "c2=bigdata(2,12)\n",
    "result=c1+c2\n",
    "print(result.no_class,result.no_student)"
   ]
  },
  {
   "cell_type": "code",
   "execution_count": null,
   "id": "6bd3d92a",
   "metadata": {},
   "outputs": [],
   "source": []
  },
  {
   "cell_type": "code",
   "execution_count": 10,
   "id": "2530f805",
   "metadata": {},
   "outputs": [],
   "source": [
    "class datascience:\n",
    "    def student(self):\n",
    "        print(\"this will give details about datascience\")\n",
    "class dsa:\n",
    "    def student(self):\n",
    "        print(\"this will give details about dsa\")\n",
    "        \n",
    "        \n",
    "def output_class(class_obj):\n",
    "    return class_obj.student()"
   ]
  },
  {
   "cell_type": "code",
   "execution_count": 13,
   "id": "399be690",
   "metadata": {},
   "outputs": [],
   "source": [
    "shiv=datascience()\n",
    "raj=dsa()"
   ]
  },
  {
   "cell_type": "code",
   "execution_count": 15,
   "id": "673afaa2",
   "metadata": {
    "scrolled": true
   },
   "outputs": [
    {
     "name": "stdout",
     "output_type": "stream",
     "text": [
      "this will give details about datascience\n",
      "this will give details about dsa\n"
     ]
    }
   ],
   "source": [
    "output_class(shiv)\n",
    "output_class(raj)"
   ]
  },
  {
   "cell_type": "code",
   "execution_count": null,
   "id": "d121fb2c",
   "metadata": {},
   "outputs": [],
   "source": []
  },
  {
   "cell_type": "markdown",
   "id": "5b19f7a2",
   "metadata": {},
   "source": [
    "# Encapsulation"
   ]
  },
  {
   "cell_type": "raw",
   "id": "70f9b688",
   "metadata": {},
   "source": [
    "Hiding a detail"
   ]
  },
  {
   "cell_type": "code",
   "execution_count": 25,
   "id": "0fede863",
   "metadata": {},
   "outputs": [],
   "source": [
    "class test:\n",
    "    def __init__(self):\n",
    "        self.__x=\"shivam\"\n",
    "        self.y=\"hello\"\n",
    "        self.z=\"raj\"\n",
    "    \n",
    "    def __test_meth(self):\n",
    "        return \"This is just a test\"\n",
    "    \n",
    "    def access_var(self):\n",
    "        return self.__x\n",
    "    \n",
    "    def update_var(self,data):\n",
    "        self.__x=data"
   ]
  },
  {
   "cell_type": "code",
   "execution_count": 26,
   "id": "7461d690",
   "metadata": {},
   "outputs": [],
   "source": [
    "c3=test()"
   ]
  },
  {
   "cell_type": "code",
   "execution_count": 27,
   "id": "7d62561f",
   "metadata": {},
   "outputs": [
    {
     "data": {
      "text/plain": [
       "'shivam'"
      ]
     },
     "execution_count": 27,
     "metadata": {},
     "output_type": "execute_result"
    }
   ],
   "source": [
    "c3.access_var()"
   ]
  },
  {
   "cell_type": "code",
   "execution_count": 29,
   "id": "7e2be8b4",
   "metadata": {},
   "outputs": [],
   "source": [
    "c3.update_var(\"yo_boy\")"
   ]
  },
  {
   "cell_type": "code",
   "execution_count": 30,
   "id": "7cd01a7d",
   "metadata": {},
   "outputs": [
    {
     "data": {
      "text/plain": [
       "'yo_boy'"
      ]
     },
     "execution_count": 30,
     "metadata": {},
     "output_type": "execute_result"
    }
   ],
   "source": [
    "c3.access_var()"
   ]
  },
  {
   "cell_type": "code",
   "execution_count": null,
   "id": "330c67a6",
   "metadata": {},
   "outputs": [],
   "source": []
  },
  {
   "cell_type": "code",
   "execution_count": 34,
   "id": "35337502",
   "metadata": {},
   "outputs": [
    {
     "data": {
      "text/plain": [
       "98656"
      ]
     },
     "execution_count": 34,
     "metadata": {},
     "output_type": "execute_result"
    }
   ],
   "source": [
    "class bank:\n",
    "    def __init__(self,acc_num,balance):\n",
    "        self._acc_num=acc_num\n",
    "        self.__balance=balance\n",
    "        \n",
    "    def check_balance(self,password):\n",
    "        if password==\"shivam\":\n",
    "            return self.__balance\n",
    "        else:\n",
    "            return \"Incorrect Password\"\n",
    "        \n",
    "shiv=bank(123456789,98656)\n",
    "shiv.check_balance(\"shivam\")"
   ]
  },
  {
   "cell_type": "code",
   "execution_count": null,
   "id": "eeb7c79c",
   "metadata": {},
   "outputs": [],
   "source": []
  },
  {
   "cell_type": "markdown",
   "id": "3919be09",
   "metadata": {},
   "source": [
    "# Abstraction"
   ]
  },
  {
   "cell_type": "raw",
   "id": "d5c6e9b6",
   "metadata": {},
   "source": [
    "creating a skelton"
   ]
  },
  {
   "cell_type": "code",
   "execution_count": 35,
   "id": "26de5c1d",
   "metadata": {},
   "outputs": [],
   "source": [
    "from abc import ABC,abstractmethod\n",
    "\n",
    "class pwskills(ABC):\n",
    "    \n",
    "    @abstractmethod\n",
    "    def databaseconnect(self):\n",
    "        pass\n",
    "    @abstractmethod\n",
    "    def checkuserenrollment(self,user_mail_id):\n",
    "        pass\n",
    "    @abstractmethod    \n",
    "    def check_completed_lec(self,user_id,class_id):\n",
    "        pass\n",
    "    @abstractmethod\n",
    "    def check_lab_usases(self,user_id):\n",
    "        pass\n",
    "    @abstractmethod\n",
    "    def check_internship(self,user_id):\n",
    "        pass\n",
    "    "
   ]
  },
  {
   "cell_type": "code",
   "execution_count": 38,
   "id": "01769f4a",
   "metadata": {},
   "outputs": [],
   "source": [
    "class databaseconnect(pwskills):\n",
    "    def databaseconnect(self):\n",
    "        print(\"this is the implementation of database connect\")\n",
    "    def checkuserenrollment(self,user_mail_id):\n",
    "        return \"test\" \n",
    "    def check_completed_lec(self,user_id,class_id):\n",
    "        return \"test\"\n",
    "    def check_lab_usases(self,user_id):\n",
    "        return \"test\"\n",
    "    def check_internship(self,user_id):\n",
    "        return \"test\""
   ]
  },
  {
   "cell_type": "code",
   "execution_count": 39,
   "id": "5bfc9e98",
   "metadata": {},
   "outputs": [],
   "source": [
    "d1=databaseconnect()"
   ]
  },
  {
   "cell_type": "code",
   "execution_count": 40,
   "id": "795f729d",
   "metadata": {},
   "outputs": [
    {
     "name": "stdout",
     "output_type": "stream",
     "text": [
      "this is the implementation of database connect\n"
     ]
    }
   ],
   "source": [
    "d1.databaseconnect()"
   ]
  },
  {
   "cell_type": "code",
   "execution_count": null,
   "id": "c015a4d5",
   "metadata": {},
   "outputs": [],
   "source": []
  },
  {
   "cell_type": "code",
   "execution_count": 50,
   "id": "6a8786d3",
   "metadata": {},
   "outputs": [],
   "source": [
    "class calculation:\n",
    "    @staticmethod\n",
    "    def add(a,b):\n",
    "        return a+b\n",
    "    @staticmethod\n",
    "    def sub(a,b):\n",
    "        return a-b\n",
    "    \n",
    "    def div(self,a,b):\n",
    "        return a/b"
   ]
  },
  {
   "cell_type": "code",
   "execution_count": 51,
   "id": "3a93d245",
   "metadata": {},
   "outputs": [],
   "source": [
    "class cal(calculation):\n",
    "    pass"
   ]
  },
  {
   "cell_type": "code",
   "execution_count": 52,
   "id": "9225732e",
   "metadata": {},
   "outputs": [],
   "source": [
    "c1=cal()"
   ]
  },
  {
   "cell_type": "code",
   "execution_count": 53,
   "id": "ab02afe4",
   "metadata": {},
   "outputs": [
    {
     "data": {
      "text/plain": [
       "11"
      ]
     },
     "execution_count": 53,
     "metadata": {},
     "output_type": "execute_result"
    }
   ],
   "source": [
    "c1.add(5,6)"
   ]
  },
  {
   "cell_type": "code",
   "execution_count": 54,
   "id": "d03d68cd",
   "metadata": {},
   "outputs": [
    {
     "data": {
      "text/plain": [
       "11"
      ]
     },
     "execution_count": 54,
     "metadata": {},
     "output_type": "execute_result"
    }
   ],
   "source": [
    "cal.add(5,6)"
   ]
  },
  {
   "cell_type": "code",
   "execution_count": 43,
   "id": "a93e6c4c",
   "metadata": {},
   "outputs": [],
   "source": [
    "opp=calculation()"
   ]
  },
  {
   "cell_type": "code",
   "execution_count": 44,
   "id": "dc35b7f7",
   "metadata": {},
   "outputs": [
    {
     "data": {
      "text/plain": [
       "0.8"
      ]
     },
     "execution_count": 44,
     "metadata": {},
     "output_type": "execute_result"
    }
   ],
   "source": [
    "opp.div(4,5)"
   ]
  },
  {
   "cell_type": "code",
   "execution_count": 46,
   "id": "2c669f1a",
   "metadata": {},
   "outputs": [
    {
     "data": {
      "text/plain": [
       "7"
      ]
     },
     "execution_count": 46,
     "metadata": {},
     "output_type": "execute_result"
    }
   ],
   "source": [
    "calculation.add(3,4)"
   ]
  },
  {
   "cell_type": "code",
   "execution_count": null,
   "id": "3067fb77",
   "metadata": {},
   "outputs": [],
   "source": []
  },
  {
   "cell_type": "code",
   "execution_count": null,
   "id": "f7d162f7",
   "metadata": {},
   "outputs": [],
   "source": []
  },
  {
   "cell_type": "markdown",
   "id": "557c5dbb",
   "metadata": {},
   "source": [
    "# Composition"
   ]
  },
  {
   "cell_type": "code",
   "execution_count": 55,
   "id": "e84ce8a1",
   "metadata": {},
   "outputs": [],
   "source": [
    "class pwskill:\n",
    "    def student(self):\n",
    "        return \"student details\"\n",
    "\n",
    "class datascience:\n",
    "    def __init__(self):\n",
    "        self.student=pwskill()"
   ]
  },
  {
   "cell_type": "code",
   "execution_count": 56,
   "id": "5f44b595",
   "metadata": {},
   "outputs": [],
   "source": [
    "shiva=datascience()"
   ]
  },
  {
   "cell_type": "code",
   "execution_count": 58,
   "id": "f3cb7435",
   "metadata": {},
   "outputs": [
    {
     "data": {
      "text/plain": [
       "'student details'"
      ]
     },
     "execution_count": 58,
     "metadata": {},
     "output_type": "execute_result"
    }
   ],
   "source": [
    "shiva.student.student()"
   ]
  },
  {
   "cell_type": "code",
   "execution_count": null,
   "id": "5c3a3e39",
   "metadata": {},
   "outputs": [],
   "source": []
  },
  {
   "cell_type": "code",
   "execution_count": 65,
   "id": "37b36490",
   "metadata": {},
   "outputs": [],
   "source": [
    "class data:\n",
    "    def __init__(self,mentor_name):\n",
    "        self.mentor_name=mentor_name\n",
    "        \n",
    "class webdev:\n",
    "    def __init__(self,mentor,lecture_name):\n",
    "        self.mentor=mentor\n",
    "        self.lecture_name=lecture_name"
   ]
  },
  {
   "cell_type": "code",
   "execution_count": 66,
   "id": "1bb22775",
   "metadata": {},
   "outputs": [],
   "source": [
    "d=data(\"shiv\")\n",
    "w=webdev(d,\"css\")"
   ]
  },
  {
   "cell_type": "code",
   "execution_count": 67,
   "id": "5dbf0328",
   "metadata": {},
   "outputs": [
    {
     "data": {
      "text/plain": [
       "'shiv'"
      ]
     },
     "execution_count": 67,
     "metadata": {},
     "output_type": "execute_result"
    }
   ],
   "source": [
    "d.mentor_name"
   ]
  },
  {
   "cell_type": "code",
   "execution_count": 73,
   "id": "4843a05e",
   "metadata": {},
   "outputs": [
    {
     "data": {
      "text/plain": [
       "'shiv'"
      ]
     },
     "execution_count": 73,
     "metadata": {},
     "output_type": "execute_result"
    }
   ],
   "source": [
    "w.mentor.mentor_name"
   ]
  },
  {
   "cell_type": "code",
   "execution_count": null,
   "id": "99dfb531",
   "metadata": {},
   "outputs": [],
   "source": []
  },
  {
   "cell_type": "code",
   "execution_count": null,
   "id": "bf0ff747",
   "metadata": {},
   "outputs": [],
   "source": []
  }
 ],
 "metadata": {
  "kernelspec": {
   "display_name": "Python 3 (ipykernel)",
   "language": "python",
   "name": "python3"
  },
  "language_info": {
   "codemirror_mode": {
    "name": "ipython",
    "version": 3
   },
   "file_extension": ".py",
   "mimetype": "text/x-python",
   "name": "python",
   "nbconvert_exporter": "python",
   "pygments_lexer": "ipython3",
   "version": "3.11.5"
  }
 },
 "nbformat": 4,
 "nbformat_minor": 5
}
