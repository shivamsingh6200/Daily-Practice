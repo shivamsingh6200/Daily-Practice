{
 "cells": [
  {
   "cell_type": "markdown",
   "id": "197789b0",
   "metadata": {},
   "source": [
    "# Oops"
   ]
  },
  {
   "cell_type": "code",
   "execution_count": 2,
   "id": "0918b528",
   "metadata": {},
   "outputs": [],
   "source": [
    "class bankaccount:\n",
    "    \n",
    "    def openaccount(self,name,email):\n",
    "        print(\"open account by taking email\")\n",
    "        return name+email\n",
    "    \n",
    "    def deposite(self,amount):\n",
    "        print(\"trying to deposite an amount in my account\")\n",
    "        \n",
    "    def withdrawl(self,amt_wit):\n",
    "        print(\"trying to withdrawl an amount\")\n",
    "    \n",
    "    def update_details(self,name_up,email_up):\n",
    "        print(\"this will update the details\")"
   ]
  },
  {
   "cell_type": "code",
   "execution_count": 3,
   "id": "8695a147",
   "metadata": {},
   "outputs": [],
   "source": [
    "shiv = bankaccount()"
   ]
  },
  {
   "cell_type": "code",
   "execution_count": 4,
   "id": "4bd41ad9",
   "metadata": {},
   "outputs": [
    {
     "name": "stdout",
     "output_type": "stream",
     "text": [
      "trying to deposite an amount in my account\n"
     ]
    }
   ],
   "source": [
    "shiv.deposite(500)"
   ]
  },
  {
   "cell_type": "code",
   "execution_count": 5,
   "id": "338750a1",
   "metadata": {},
   "outputs": [
    {
     "name": "stdout",
     "output_type": "stream",
     "text": [
      "open account by taking email\n"
     ]
    },
    {
     "data": {
      "text/plain": [
       "'shivamshivam@gmail.com'"
      ]
     },
     "execution_count": 5,
     "metadata": {},
     "output_type": "execute_result"
    }
   ],
   "source": [
    "shiv.openaccount(\"shivam\",\"shivam@gmail.com\")"
   ]
  },
  {
   "cell_type": "code",
   "execution_count": 6,
   "id": "55eaf222",
   "metadata": {},
   "outputs": [
    {
     "name": "stdout",
     "output_type": "stream",
     "text": [
      "trying to withdrawl an amount\n"
     ]
    }
   ],
   "source": [
    "shiv.withdrawl(5000)"
   ]
  },
  {
   "cell_type": "code",
   "execution_count": null,
   "id": "339abf97",
   "metadata": {},
   "outputs": [],
   "source": []
  },
  {
   "cell_type": "code",
   "execution_count": 9,
   "id": "9175d8a4",
   "metadata": {},
   "outputs": [],
   "source": [
    "class list_ops:\n",
    "    \n",
    "    l1=[2,4,1,5,1,2,3,4,5,6]\n",
    "    \n",
    "    def exractfromindex(self,l,index):\n",
    "        return l[index]\n",
    "    \n",
    "    def exractrangedata(self,l,start,end):\n",
    "        return l[start:end]\n",
    "    \n",
    "    def exracteven(self,l):\n",
    "        l1=[]\n",
    "        for i in l:\n",
    "            if i%2==0:\n",
    "                l1.append(i)\n",
    "        return l1"
   ]
  },
  {
   "cell_type": "code",
   "execution_count": 10,
   "id": "e9b44653",
   "metadata": {},
   "outputs": [],
   "source": [
    "first_obj = list_ops()"
   ]
  },
  {
   "cell_type": "code",
   "execution_count": 11,
   "id": "aceab742",
   "metadata": {},
   "outputs": [
    {
     "data": {
      "text/plain": [
       "1"
      ]
     },
     "execution_count": 11,
     "metadata": {},
     "output_type": "execute_result"
    }
   ],
   "source": [
    "first_obj.exractfromindex([2,4,1,5,7,2,3],2)"
   ]
  },
  {
   "cell_type": "code",
   "execution_count": 12,
   "id": "975cb242",
   "metadata": {},
   "outputs": [
    {
     "data": {
      "text/plain": [
       "[2, 4, 2, 4, 6]"
      ]
     },
     "execution_count": 12,
     "metadata": {},
     "output_type": "execute_result"
    }
   ],
   "source": [
    "first_obj.exracteven(first_obj.l1)"
   ]
  },
  {
   "cell_type": "code",
   "execution_count": 13,
   "id": "756b2705",
   "metadata": {},
   "outputs": [
    {
     "data": {
      "text/plain": [
       "[1, 3, 6]"
      ]
     },
     "execution_count": 13,
     "metadata": {},
     "output_type": "execute_result"
    }
   ],
   "source": [
    "first_obj.exractrangedata([2,5,1,3,6,4,7,2],2,5)"
   ]
  },
  {
   "cell_type": "code",
   "execution_count": 19,
   "id": "282c9095",
   "metadata": {},
   "outputs": [],
   "source": [
    "class list_ops2:\n",
    "    \n",
    "    l2=[2,4,1,5,1,2,3,4,5,6]\n",
    "    \n",
    "    def __init__(self,l):\n",
    "            self.l3=l\n",
    "    \n",
    "    def exractfromindex(self,l,index):\n",
    "        return l[index]\n",
    "    \n",
    "    def exractrangedata(self,l,start,end):\n",
    "        return l[start:end]\n",
    "    \n",
    "    def exracteven(self,l):\n",
    "        l1=[]\n",
    "        for i in l:\n",
    "            if i%2==0:\n",
    "                l1.append(i)\n",
    "        return l1"
   ]
  },
  {
   "cell_type": "code",
   "execution_count": 20,
   "id": "d8867b03",
   "metadata": {},
   "outputs": [],
   "source": [
    "second_obj=list_ops2([1,2,3,4,5,6,7,8,9])"
   ]
  },
  {
   "cell_type": "code",
   "execution_count": 21,
   "id": "ed550edc",
   "metadata": {},
   "outputs": [
    {
     "data": {
      "text/plain": [
       "[1, 2, 3, 4, 5, 6, 7, 8, 9]"
      ]
     },
     "execution_count": 21,
     "metadata": {},
     "output_type": "execute_result"
    }
   ],
   "source": [
    "second_obj.l3"
   ]
  },
  {
   "cell_type": "code",
   "execution_count": 22,
   "id": "0abcbab0",
   "metadata": {},
   "outputs": [],
   "source": [
    "third_obj=list_ops2([8,6,5,4,3,2,1])"
   ]
  },
  {
   "cell_type": "code",
   "execution_count": 23,
   "id": "980a9e8e",
   "metadata": {},
   "outputs": [
    {
     "data": {
      "text/plain": [
       "[8, 6, 5, 4, 3, 2, 1]"
      ]
     },
     "execution_count": 23,
     "metadata": {},
     "output_type": "execute_result"
    }
   ],
   "source": [
    "third_obj.l3"
   ]
  },
  {
   "cell_type": "code",
   "execution_count": null,
   "id": "7b6c5e87",
   "metadata": {},
   "outputs": [],
   "source": []
  },
  {
   "cell_type": "code",
   "execution_count": 30,
   "id": "f363c273",
   "metadata": {},
   "outputs": [],
   "source": [
    "class book:\n",
    "    def __init__(self,name,title,page):\n",
    "        self.name_of_book=name\n",
    "        self.title_of_book=title\n",
    "        self.page_no=page\n",
    "        \n",
    "    def exract_details(self):\n",
    "        print(self.name_of_book,\"\\n\",self.title_of_book)\n",
    "        \n",
    "    def print_page_no(self):\n",
    "        print(self.page_no)"
   ]
  },
  {
   "cell_type": "code",
   "execution_count": 31,
   "id": "cca39f9c",
   "metadata": {},
   "outputs": [],
   "source": [
    "shivam=book(\"dsa\",\"pratical dsa\",99)\n",
    "ronik=book(\"data science\",\"emplemention of data science\",77)"
   ]
  },
  {
   "cell_type": "code",
   "execution_count": 32,
   "id": "b5046ed6",
   "metadata": {},
   "outputs": [
    {
     "name": "stdout",
     "output_type": "stream",
     "text": [
      "dsa \n",
      " pratical dsa\n"
     ]
    }
   ],
   "source": [
    "shivam.exract_details()"
   ]
  },
  {
   "cell_type": "code",
   "execution_count": 33,
   "id": "86e49232",
   "metadata": {},
   "outputs": [
    {
     "name": "stdout",
     "output_type": "stream",
     "text": [
      "data science \n",
      " emplemention of data science\n"
     ]
    }
   ],
   "source": [
    "ronik.exract_details()"
   ]
  },
  {
   "cell_type": "code",
   "execution_count": 35,
   "id": "858e5d2d",
   "metadata": {},
   "outputs": [
    {
     "name": "stdout",
     "output_type": "stream",
     "text": [
      "99\n"
     ]
    }
   ],
   "source": [
    "shivam.print_page_no()"
   ]
  },
  {
   "cell_type": "markdown",
   "id": "fce33f0e",
   "metadata": {},
   "source": [
    "### example"
   ]
  },
  {
   "cell_type": "code",
   "execution_count": 44,
   "id": "f005a008",
   "metadata": {},
   "outputs": [],
   "source": [
    "from functools import reduce\n",
    "class calculator:\n",
    "    def add(self,*args):\n",
    "        return sum(args)\n",
    "    \n",
    "    def substract(self,*args):\n",
    "        return reduce(lambda a,b:a-b,args)\n",
    "    \n",
    "    def multiplication(self,*args):\n",
    "        return reduce(lambda a,b:a*b,args)\n",
    "    \n",
    "    def div(self,*args):\n",
    "        return reduce(lambda a,b:a/b,args)"
   ]
  },
  {
   "cell_type": "code",
   "execution_count": 46,
   "id": "e92caaac",
   "metadata": {},
   "outputs": [],
   "source": [
    "raj=calculator()"
   ]
  },
  {
   "cell_type": "code",
   "execution_count": 39,
   "id": "0eb203a7",
   "metadata": {},
   "outputs": [
    {
     "data": {
      "text/plain": [
       "15"
      ]
     },
     "execution_count": 39,
     "metadata": {},
     "output_type": "execute_result"
    }
   ],
   "source": [
    "raj.add(1,2,3,4,5)"
   ]
  },
  {
   "cell_type": "code",
   "execution_count": 42,
   "id": "008daed2",
   "metadata": {},
   "outputs": [
    {
     "data": {
      "text/plain": [
       "2.0"
      ]
     },
     "execution_count": 42,
     "metadata": {},
     "output_type": "execute_result"
    }
   ],
   "source": [
    "raj.div(16,4,2,1)"
   ]
  },
  {
   "cell_type": "code",
   "execution_count": 47,
   "id": "170b781f",
   "metadata": {},
   "outputs": [
    {
     "data": {
      "text/plain": [
       "120"
      ]
     },
     "execution_count": 47,
     "metadata": {},
     "output_type": "execute_result"
    }
   ],
   "source": [
    "raj.multiplication(1,2,3,4,5)"
   ]
  },
  {
   "cell_type": "code",
   "execution_count": null,
   "id": "655aaf42",
   "metadata": {},
   "outputs": [],
   "source": []
  }
 ],
 "metadata": {
  "kernelspec": {
   "display_name": "Python 3 (ipykernel)",
   "language": "python",
   "name": "python3"
  },
  "language_info": {
   "codemirror_mode": {
    "name": "ipython",
    "version": 3
   },
   "file_extension": ".py",
   "mimetype": "text/x-python",
   "name": "python",
   "nbconvert_exporter": "python",
   "pygments_lexer": "ipython3",
   "version": "3.11.5"
  }
 },
 "nbformat": 4,
 "nbformat_minor": 5
}
