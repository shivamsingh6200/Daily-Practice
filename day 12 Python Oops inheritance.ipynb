{
 "cells": [
  {
   "cell_type": "markdown",
   "id": "1d667717",
   "metadata": {},
   "source": [
    "# class inheritance"
   ]
  },
  {
   "cell_type": "code",
   "execution_count": 1,
   "id": "949294c0",
   "metadata": {},
   "outputs": [],
   "source": [
    "class a :\n",
    "    \n",
    "    def test(self):\n",
    "        print(\"this test method is a part of class a\")\n",
    "        \n",
    "    def test1(self):\n",
    "        print(\"this is test1 from class a \")"
   ]
  },
  {
   "cell_type": "code",
   "execution_count": 2,
   "id": "66f0fdbc",
   "metadata": {},
   "outputs": [],
   "source": [
    "obj1=a()"
   ]
  },
  {
   "cell_type": "code",
   "execution_count": 5,
   "id": "bf77b1c9",
   "metadata": {},
   "outputs": [
    {
     "name": "stdout",
     "output_type": "stream",
     "text": [
      "this test method is a part of class a\n"
     ]
    }
   ],
   "source": [
    "obj1.test()"
   ]
  },
  {
   "cell_type": "code",
   "execution_count": 6,
   "id": "46f4d633",
   "metadata": {},
   "outputs": [
    {
     "name": "stdout",
     "output_type": "stream",
     "text": [
      "this is test1 from class a \n"
     ]
    }
   ],
   "source": [
    "obj1.test1()"
   ]
  },
  {
   "cell_type": "code",
   "execution_count": 8,
   "id": "466682aa",
   "metadata": {},
   "outputs": [],
   "source": [
    "class b(a):\n",
    "    def test2(self):\n",
    "        print(\"this is test2 from class b\")"
   ]
  },
  {
   "cell_type": "code",
   "execution_count": 9,
   "id": "d6bc2c85",
   "metadata": {},
   "outputs": [],
   "source": [
    "obj2=b()"
   ]
  },
  {
   "cell_type": "code",
   "execution_count": 10,
   "id": "6bd97fb1",
   "metadata": {},
   "outputs": [
    {
     "name": "stdout",
     "output_type": "stream",
     "text": [
      "this is test2 from class b\n"
     ]
    }
   ],
   "source": [
    "obj2.test2()"
   ]
  },
  {
   "cell_type": "code",
   "execution_count": 12,
   "id": "226860c1",
   "metadata": {},
   "outputs": [
    {
     "name": "stdout",
     "output_type": "stream",
     "text": [
      "this is test1 from class a \n"
     ]
    }
   ],
   "source": [
    "obj2.test1()"
   ]
  },
  {
   "cell_type": "code",
   "execution_count": null,
   "id": "207f955f",
   "metadata": {},
   "outputs": [],
   "source": []
  },
  {
   "cell_type": "markdown",
   "id": "26494371",
   "metadata": {},
   "source": [
    "### multiple inheritance"
   ]
  },
  {
   "cell_type": "code",
   "execution_count": 13,
   "id": "3955e89f",
   "metadata": {},
   "outputs": [],
   "source": [
    "class lecture:\n",
    "    \n",
    "    def topic(self):\n",
    "        print(\"todays class we are discussing about inheritance condept in oops\")\n",
    "        \n",
    "    def timing(self):\n",
    "        print(\"timing for todays class is 9 AM IST\")\n",
    "        \n",
    "    def end_time(self):\n",
    "        print(\"today i will try to end class bit early\")"
   ]
  },
  {
   "cell_type": "code",
   "execution_count": 14,
   "id": "021cea85",
   "metadata": {},
   "outputs": [],
   "source": [
    "class student(lecture):\n",
    "    \n",
    "    def student_details(self):\n",
    "        print(\"this class will give you a student details\")"
   ]
  },
  {
   "cell_type": "code",
   "execution_count": 15,
   "id": "1fec28b0",
   "metadata": {},
   "outputs": [],
   "source": [
    "shivam=student()"
   ]
  },
  {
   "cell_type": "code",
   "execution_count": 16,
   "id": "81e88f6b",
   "metadata": {},
   "outputs": [
    {
     "name": "stdout",
     "output_type": "stream",
     "text": [
      "today i will try to end class bit early\n"
     ]
    }
   ],
   "source": [
    "shivam.end_time()"
   ]
  },
  {
   "cell_type": "code",
   "execution_count": 17,
   "id": "fbd33a6f",
   "metadata": {},
   "outputs": [
    {
     "name": "stdout",
     "output_type": "stream",
     "text": [
      "this class will give you a student details\n"
     ]
    }
   ],
   "source": [
    "shivam.student_details()"
   ]
  },
  {
   "cell_type": "code",
   "execution_count": 19,
   "id": "d49fdc01",
   "metadata": {},
   "outputs": [
    {
     "name": "stdout",
     "output_type": "stream",
     "text": [
      "timing for todays class is 9 AM IST\n"
     ]
    }
   ],
   "source": [
    "shivam.timing()"
   ]
  },
  {
   "cell_type": "code",
   "execution_count": 20,
   "id": "1d48fc71",
   "metadata": {},
   "outputs": [
    {
     "name": "stdout",
     "output_type": "stream",
     "text": [
      "todays class we are discussing about inheritance condept in oops\n"
     ]
    }
   ],
   "source": [
    "shivam.topic()"
   ]
  },
  {
   "cell_type": "code",
   "execution_count": 21,
   "id": "cb131437",
   "metadata": {},
   "outputs": [],
   "source": [
    "class teacher(student):\n",
    "    def details(self):\n",
    "        print(\"this will give you a details about teacher\")"
   ]
  },
  {
   "cell_type": "code",
   "execution_count": 22,
   "id": "334d6302",
   "metadata": {},
   "outputs": [],
   "source": [
    "sudhanshu=teacher()"
   ]
  },
  {
   "cell_type": "code",
   "execution_count": 24,
   "id": "aa64b5c2",
   "metadata": {},
   "outputs": [
    {
     "name": "stdout",
     "output_type": "stream",
     "text": [
      "this will give you a details about teacher\n"
     ]
    }
   ],
   "source": [
    "sudhanshu.details()"
   ]
  },
  {
   "cell_type": "code",
   "execution_count": 26,
   "id": "00699be0",
   "metadata": {},
   "outputs": [
    {
     "name": "stdout",
     "output_type": "stream",
     "text": [
      "today i will try to end class bit early\n"
     ]
    }
   ],
   "source": [
    "sudhanshu.end_time()"
   ]
  },
  {
   "cell_type": "code",
   "execution_count": 27,
   "id": "1cf89e19",
   "metadata": {},
   "outputs": [
    {
     "name": "stdout",
     "output_type": "stream",
     "text": [
      "timing for todays class is 9 AM IST\n"
     ]
    }
   ],
   "source": [
    "sudhanshu.timing()"
   ]
  },
  {
   "cell_type": "code",
   "execution_count": 28,
   "id": "adbf40dd",
   "metadata": {},
   "outputs": [],
   "source": [
    "class lecture:\n",
    "    def topic(self):\n",
    "        print(\"todays class we are discussing about inheritance condept in oops\")\n",
    "        \n",
    "    def timing(self):\n",
    "        print(\"timing for todays class is 9 AM IST\")\n",
    "        \n",
    "    def end_time(self):\n",
    "        print(\"today i will try to end class bit early\")"
   ]
  },
  {
   "cell_type": "code",
   "execution_count": null,
   "id": "4a1069b0",
   "metadata": {},
   "outputs": [],
   "source": []
  },
  {
   "cell_type": "code",
   "execution_count": null,
   "id": "0d26ccdf",
   "metadata": {},
   "outputs": [],
   "source": []
  },
  {
   "cell_type": "code",
   "execution_count": 42,
   "id": "d0f14f56",
   "metadata": {},
   "outputs": [],
   "source": [
    "class lecture1:\n",
    "    \n",
    "    def topic(self):\n",
    "        print(\"todays class we are discussing about inheritance condept in oops\")\n",
    "        \n",
    "    def timing(self):\n",
    "        print(\"timing for todays class is 9 AM IST\")\n",
    "        \n",
    "    def end_time(self):\n",
    "        print(\"today i will try to end class bit early\")"
   ]
  },
  {
   "cell_type": "code",
   "execution_count": 43,
   "id": "7681c605",
   "metadata": {},
   "outputs": [],
   "source": [
    "class student1:\n",
    "    \n",
    "    def student_details(self):\n",
    "        print(\"this class will give you a student details\")\n",
    "    def timing(self):\n",
    "        print(\"this is a timing fun from student class\")"
   ]
  },
  {
   "cell_type": "code",
   "execution_count": 44,
   "id": "4a52a58e",
   "metadata": {},
   "outputs": [],
   "source": [
    "class teacher1(lecture1,student1):\n",
    "    def details(self):\n",
    "        print(\"this will give you a details about teacher\")"
   ]
  },
  {
   "cell_type": "code",
   "execution_count": 45,
   "id": "dba6b220",
   "metadata": {},
   "outputs": [],
   "source": [
    "obj3=teacher1()"
   ]
  },
  {
   "cell_type": "code",
   "execution_count": 50,
   "id": "f788db86",
   "metadata": {},
   "outputs": [
    {
     "name": "stdout",
     "output_type": "stream",
     "text": [
      "timing for todays class is 9 AM IST\n"
     ]
    }
   ],
   "source": [
    "obj3.timing()"
   ]
  },
  {
   "cell_type": "code",
   "execution_count": 46,
   "id": "cdbaa575",
   "metadata": {},
   "outputs": [
    {
     "name": "stdout",
     "output_type": "stream",
     "text": [
      "this will give you a details about teacher\n"
     ]
    }
   ],
   "source": [
    "obj3.details()"
   ]
  },
  {
   "cell_type": "code",
   "execution_count": 47,
   "id": "4207c718",
   "metadata": {},
   "outputs": [
    {
     "name": "stdout",
     "output_type": "stream",
     "text": [
      "this class will give you a student details\n"
     ]
    }
   ],
   "source": [
    "obj3.student_details()"
   ]
  },
  {
   "cell_type": "code",
   "execution_count": 48,
   "id": "012d780e",
   "metadata": {},
   "outputs": [
    {
     "name": "stdout",
     "output_type": "stream",
     "text": [
      "todays class we are discussing about inheritance condept in oops\n"
     ]
    }
   ],
   "source": [
    "obj3.topic()"
   ]
  },
  {
   "cell_type": "code",
   "execution_count": null,
   "id": "6620427e",
   "metadata": {},
   "outputs": [],
   "source": []
  }
 ],
 "metadata": {
  "kernelspec": {
   "display_name": "Python 3 (ipykernel)",
   "language": "python",
   "name": "python3"
  },
  "language_info": {
   "codemirror_mode": {
    "name": "ipython",
    "version": 3
   },
   "file_extension": ".py",
   "mimetype": "text/x-python",
   "name": "python",
   "nbconvert_exporter": "python",
   "pygments_lexer": "ipython3",
   "version": "3.11.5"
  }
 },
 "nbformat": 4,
 "nbformat_minor": 5
}
