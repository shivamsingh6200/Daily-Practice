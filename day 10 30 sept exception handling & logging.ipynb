{
 "cells": [
  {
   "cell_type": "markdown",
   "id": "80d796b4",
   "metadata": {},
   "source": [
    "# exception handling"
   ]
  },
  {
   "cell_type": "code",
   "execution_count": 1,
   "id": "e9081017",
   "metadata": {},
   "outputs": [],
   "source": [
    "a=10\n",
    "b=0"
   ]
  },
  {
   "cell_type": "code",
   "execution_count": 2,
   "id": "bbf88560",
   "metadata": {},
   "outputs": [
    {
     "data": {
      "text/plain": [
       "0"
      ]
     },
     "execution_count": 2,
     "metadata": {},
     "output_type": "execute_result"
    }
   ],
   "source": [
    "a*b"
   ]
  },
  {
   "cell_type": "code",
   "execution_count": 5,
   "id": "9a7d6003",
   "metadata": {},
   "outputs": [
    {
     "ename": "ZeroDivisionError",
     "evalue": "division by zero",
     "output_type": "error",
     "traceback": [
      "\u001b[1;31m---------------------------------------------------------------------------\u001b[0m",
      "\u001b[1;31mZeroDivisionError\u001b[0m                         Traceback (most recent call last)",
      "\u001b[1;32m~\\AppData\\Local\\Temp\\ipykernel_12132\\2014519158.py\u001b[0m in \u001b[0;36m<module>\u001b[1;34m\u001b[0m\n\u001b[1;32m----> 1\u001b[1;33m \u001b[0ma\u001b[0m\u001b[1;33m/\u001b[0m\u001b[0mb\u001b[0m\u001b[1;33m\u001b[0m\u001b[1;33m\u001b[0m\u001b[0m\n\u001b[0m\u001b[0;32m      2\u001b[0m \u001b[0mprint\u001b[0m\u001b[1;33m(\u001b[0m\u001b[1;34m\"print something\"\u001b[0m\u001b[1;33m)\u001b[0m\u001b[1;33m\u001b[0m\u001b[1;33m\u001b[0m\u001b[0m\n",
      "\u001b[1;31mZeroDivisionError\u001b[0m: division by zero"
     ]
    }
   ],
   "source": [
    "a/b\n",
    "print(\"print something\")"
   ]
  },
  {
   "cell_type": "code",
   "execution_count": 9,
   "id": "cf1faf7c",
   "metadata": {},
   "outputs": [
    {
     "name": "stdout",
     "output_type": "stream",
     "text": [
      "Enter the value of a : 5\n",
      "Enter the value of b : 0\n",
      "print something\n"
     ]
    }
   ],
   "source": [
    "try:\n",
    "    a=int(input(\"Enter the value of a : \"))\n",
    "    b=int(input(\"Enter the value of b : \"))\n",
    "    c=a/b\n",
    "    print(c)\n",
    "except:\n",
    "    pass\n",
    "print(\"print something\")"
   ]
  },
  {
   "cell_type": "code",
   "execution_count": 10,
   "id": "bd07c79f",
   "metadata": {},
   "outputs": [
    {
     "name": "stdout",
     "output_type": "stream",
     "text": [
      "Enter the value of a : shivam\n",
      "print something\n"
     ]
    }
   ],
   "source": [
    "try:\n",
    "    a=int(input(\"Enter the value of a : \"))\n",
    "    b=int(input(\"Enter the value of b : \"))\n",
    "    c=a/b\n",
    "    print(c)\n",
    "except:\n",
    "    pass\n",
    "print(\"print something\")"
   ]
  },
  {
   "cell_type": "markdown",
   "id": "17565f39",
   "metadata": {},
   "source": [
    "### printing the error"
   ]
  },
  {
   "cell_type": "code",
   "execution_count": 22,
   "id": "0b300934",
   "metadata": {},
   "outputs": [
    {
     "name": "stdout",
     "output_type": "stream",
     "text": [
      "Enter the value of a : 5\n",
      "Enter the value of b : 0\n",
      "division by zero\n"
     ]
    }
   ],
   "source": [
    "try:\n",
    "    a=int(input(\"Enter the value of a : \"))\n",
    "    b=int(input(\"Enter the value of b : \"))\n",
    "    c=a/b\n",
    "    print(c)\n",
    "except Exception as e:\n",
    "    print(e)"
   ]
  },
  {
   "cell_type": "code",
   "execution_count": 27,
   "id": "0ef37657",
   "metadata": {},
   "outputs": [
    {
     "name": "stdout",
     "output_type": "stream",
     "text": [
      "Enter the value of a : shivam\n",
      "invalid literal for int() with base 10: 'shivam'\n"
     ]
    }
   ],
   "source": [
    "try:\n",
    "    a=int(input(\"Enter the value of a : \"))\n",
    "    b=int(input(\"Enter the value of b : \"))\n",
    "    c=a/b\n",
    "    print(c)\n",
    "except ValueError as v:\n",
    "    print(v)\n",
    "except ZeroDivisionError as z:\n",
    "    print(z)\n",
    "except TypeError as t:\n",
    "    print(t)"
   ]
  },
  {
   "cell_type": "markdown",
   "id": "f83fc8a4",
   "metadata": {},
   "source": [
    "### nested error"
   ]
  },
  {
   "cell_type": "code",
   "execution_count": 28,
   "id": "f53adc42",
   "metadata": {},
   "outputs": [
    {
     "name": "stdout",
     "output_type": "stream",
     "text": [
      "division by zero\n",
      "invalid literal for int() with base 10: 'SHIVAM'\n"
     ]
    }
   ],
   "source": [
    "try:\n",
    "    x=5/0\n",
    "except ZeroDivisionError as z:\n",
    "    print(z)\n",
    "    try:\n",
    "        y=int(\"SHIVAM\")\n",
    "    except ValueError as v:\n",
    "        print(v)"
   ]
  },
  {
   "cell_type": "markdown",
   "id": "fb529c58",
   "metadata": {},
   "source": [
    "### else block"
   ]
  },
  {
   "cell_type": "code",
   "execution_count": 32,
   "id": "320f4833",
   "metadata": {},
   "outputs": [
    {
     "name": "stdout",
     "output_type": "stream",
     "text": [
      "Enter the value of a : 6\n",
      "Enter the value of b : 3\n",
      "Value of a/b is :  2.0\n",
      "else block will execute itself once try will execute without error \n"
     ]
    }
   ],
   "source": [
    "try:\n",
    "    a=int(input(\"Enter the value of a : \"))\n",
    "    b=int(input(\"Enter the value of b : \"))\n",
    "    c=a/b\n",
    "except ZeroDivisionError as z:\n",
    "    print(z)\n",
    "except ValueError as v:\n",
    "    print(v)\n",
    "else:\n",
    "    print(\"Value of a/b is : \",c)\n",
    "    print(\"else block will execute itself once try will execute without error \")"
   ]
  },
  {
   "cell_type": "markdown",
   "id": "a06fe8f2",
   "metadata": {},
   "source": [
    "### finally block"
   ]
  },
  {
   "cell_type": "code",
   "execution_count": 35,
   "id": "2c9932a5",
   "metadata": {},
   "outputs": [
    {
     "name": "stdout",
     "output_type": "stream",
     "text": [
      "Enter the value of a : 6\n",
      "Enter the value of b : 3\n",
      "Value of a/b is :  2.0\n",
      "else block will execute itself once try will execute without error \n",
      "finally block will executed always\n"
     ]
    }
   ],
   "source": [
    "try:\n",
    "    a=int(input(\"Enter the value of a : \"))\n",
    "    b=int(input(\"Enter the value of b : \"))\n",
    "    c=a/b\n",
    "except ZeroDivisionError as z:\n",
    "    print(z)\n",
    "except ValueError as v:\n",
    "    print(v)\n",
    "else:\n",
    "    print(\"Value of a/b is : \",c)\n",
    "    print(\"else block will execute itself once try will execute without error \")\n",
    "finally:\n",
    "    print(\"finally block will executed always\")"
   ]
  },
  {
   "cell_type": "markdown",
   "id": "347f9dc7",
   "metadata": {},
   "source": [
    "### examples"
   ]
  },
  {
   "cell_type": "code",
   "execution_count": 37,
   "id": "6c2d8bd9",
   "metadata": {},
   "outputs": [
    {
     "name": "stdout",
     "output_type": "stream",
     "text": [
      "This is a key error\n"
     ]
    }
   ],
   "source": [
    "dic1={\"name\":\"shivam\",\"mob_no\":625515165,\"email\":\"shivam@gmail.com\"}\n",
    "try:\n",
    "    dic1[\"course\"]\n",
    "except Exception:\n",
    "    print(\"This is a key error\")"
   ]
  },
  {
   "cell_type": "code",
   "execution_count": 40,
   "id": "b181a87e",
   "metadata": {},
   "outputs": [
    {
     "name": "stdout",
     "output_type": "stream",
     "text": [
      "list index out of range\n"
     ]
    }
   ],
   "source": [
    "list1=[3,34,1,6,3,4]\n",
    "try:\n",
    "    list1[10]\n",
    "except Exception as e:\n",
    "    print(e)"
   ]
  },
  {
   "cell_type": "code",
   "execution_count": 50,
   "id": "552a1c3f",
   "metadata": {},
   "outputs": [
    {
     "name": "stdout",
     "output_type": "stream",
     "text": [
      " Volume in drive C is Windows-SSD\n",
      " Volume Serial Number is 744E-F815\n",
      "\n",
      " Directory of C:\\Users\\SHIVAM SINGH\\Desktop\\Pw Skills\n",
      "\n",
      "01-10-2023  04:59 PM    <DIR>          .\n",
      "29-09-2023  09:13 PM    <DIR>          ..\n",
      "01-10-2023  03:13 PM    <DIR>          .ipynb_checkpoints\n",
      "23-09-2023  10:25 PM             2,197 23 sept class.ipynb\n",
      "18-09-2023  07:15 PM    <DIR>          Assigments Questions\n",
      "25-09-2023  09:09 PM    <DIR>          Assigments sol\n",
      "30-08-2023  12:48 PM            13,505 Day 1 Python basic variable.ipynb\n",
      "01-10-2023  04:59 PM            10,574 day 10 30 sept exception handling & logging.ipynb\n",
      "31-08-2023  12:49 AM            27,813 Day 2 Python Basic Data Type.ipynb\n",
      "02-09-2023  11:46 PM            14,586 day 3.ipynb\n",
      "05-09-2023  08:46 PM             9,750 day 4-1 operators.ipynb\n",
      "05-09-2023  08:46 PM            11,061 day 4-2 else if, range,loop.ipynb\n",
      "14-09-2023  12:26 AM             9,448 day 5 introduction to functions.ipynb\n",
      "27-09-2023  10:25 PM            16,197 day 6 functions.ipynb\n",
      "17-09-2023  10:59 PM             5,055 day 7 conditional statement and loops.ipynb\n",
      "18-09-2023  04:27 PM            23,012 day 8 revision class.ipynb\n",
      "25-09-2023  10:39 PM            18,837 day 9 24 sept.ipynb\n",
      "25-09-2023  10:11 PM             1,542 test1.txt\n",
      "01-10-2023  05:00 PM    <DIR>          Untitled Folder\n",
      "              13 File(s)        163,577 bytes\n",
      "               6 Dir(s)  77,902,589,952 bytes free\n"
     ]
    }
   ],
   "source": [
    "ls"
   ]
  },
  {
   "cell_type": "code",
   "execution_count": 48,
   "id": "7a394e89",
   "metadata": {},
   "outputs": [
    {
     "data": {
      "text/plain": [
       "'C:\\\\Users\\\\SHIVAM SINGH\\\\Desktop\\\\Pw Skills'"
      ]
     },
     "execution_count": 48,
     "metadata": {},
     "output_type": "execute_result"
    }
   ],
   "source": [
    "pwd"
   ]
  },
  {
   "cell_type": "code",
   "execution_count": 64,
   "id": "405b744c",
   "metadata": {},
   "outputs": [
    {
     "name": "stdout",
     "output_type": "stream",
     "text": [
      "asdibsajkdbkjasbdhiabsiudbasol\n"
     ]
    }
   ],
   "source": [
    "file_name=\"C:\\\\Users\\\\SHIVAM SINGH\\\\Desktop\\\\Pw Skills\\\\Untitled Folder\\\\test2.txt\"\n",
    "f=open(file_name)\n",
    "d=f.read()\n",
    "print(d)\n",
    "f.close()"
   ]
  },
  {
   "cell_type": "code",
   "execution_count": 55,
   "id": "d99dca2b",
   "metadata": {},
   "outputs": [
    {
     "name": "stdout",
     "output_type": "stream",
     "text": [
      "Enter the value of b : shivam\n",
      "User has entered zero or invalid input\n"
     ]
    }
   ],
   "source": [
    "try:\n",
    "    b=int(input(\"Enter the value of b : \"))\n",
    "    c=50/b\n",
    "except (ValueError, ZeroDivisionError):\n",
    "    print(\"User has entered zero or invalid input\")\n",
    "else:\n",
    "    print(c)"
   ]
  },
  {
   "cell_type": "code",
   "execution_count": 60,
   "id": "20e96753",
   "metadata": {},
   "outputs": [
    {
     "name": "stdout",
     "output_type": "stream",
     "text": [
      "Enter the value of b : shivam\n",
      "User has entered invalid input\n"
     ]
    }
   ],
   "source": [
    "try:\n",
    "    try:\n",
    "        b=int(input(\"Enter the value of b : \"))\n",
    "        c=50/b\n",
    "    except ZeroDivisionError:\n",
    "        print(\"user has entered zero\")\n",
    "except ValueError:\n",
    "    print(\"User has entered invalid input\")\n",
    "else:\n",
    "    print(c)"
   ]
  },
  {
   "cell_type": "markdown",
   "id": "7f6e75a6",
   "metadata": {},
   "source": [
    "### creating own error"
   ]
  },
  {
   "cell_type": "code",
   "execution_count": 68,
   "id": "7c3df16f",
   "metadata": {},
   "outputs": [
    {
     "name": "stdout",
     "output_type": "stream",
     "text": [
      "Enter the height of wall : -50\n",
      "Entered height is negative\n"
     ]
    }
   ],
   "source": [
    "try:\n",
    "    height1=int(input(\"Enter the height of wall : \"))\n",
    "    if height1<0:\n",
    "        raise ValueError(\"Entered height is negative\")\n",
    "except ValueError as v:\n",
    "    print(v)"
   ]
  },
  {
   "cell_type": "markdown",
   "id": "1cab2dca",
   "metadata": {},
   "source": [
    "# logging"
   ]
  },
  {
   "cell_type": "code",
   "execution_count": 1,
   "id": "9fb553b6",
   "metadata": {},
   "outputs": [],
   "source": [
    "import logging as log"
   ]
  },
  {
   "cell_type": "code",
   "execution_count": 2,
   "id": "7b666f70",
   "metadata": {},
   "outputs": [],
   "source": [
    "log.basicConfig(filename= \"test.log\" , level = log.INFO)"
   ]
  },
  {
   "cell_type": "code",
   "execution_count": 3,
   "id": "81952ffa",
   "metadata": {},
   "outputs": [],
   "source": [
    "log.info(\"store a message\")"
   ]
  },
  {
   "cell_type": "code",
   "execution_count": 4,
   "id": "e11e29f6",
   "metadata": {},
   "outputs": [],
   "source": [
    "log.debug(\"this is a debug msg\")"
   ]
  },
  {
   "cell_type": "code",
   "execution_count": 5,
   "id": "7025ca9e",
   "metadata": {},
   "outputs": [],
   "source": [
    "log.warning(\"this is a warning msg\")"
   ]
  },
  {
   "cell_type": "code",
   "execution_count": 6,
   "id": "03761d09",
   "metadata": {},
   "outputs": [],
   "source": [
    "log.error(\"this is an error msg\")"
   ]
  },
  {
   "cell_type": "code",
   "execution_count": 7,
   "id": "c19500fa",
   "metadata": {},
   "outputs": [],
   "source": [
    "log.critical(\"this is an critical msg\")"
   ]
  },
  {
   "cell_type": "code",
   "execution_count": 1,
   "id": "29857dba",
   "metadata": {},
   "outputs": [
    {
     "name": "stdout",
     "output_type": "stream",
     "text": [
      "Enter the height of wall : -25\n"
     ]
    }
   ],
   "source": [
    "import logging\n",
    "logging.basicConfig(filename=\"trytest.log\",level=logging.DEBUG,format='%(asctime)s- %(levelname)s- %(message)s')\n",
    "try:\n",
    "    logging.info(\"This is the start of my program\")\n",
    "    logging.info(\"Asking user to enter height\")\n",
    "    height1=int(input(\"Enter the height of wall : \"))\n",
    "    logging.info(\"user has entered the height\")\n",
    "    if height1<0:\n",
    "        logging.info(\"i am checking negative condition\")\n",
    "        raise ValueError(\"Entered height is negative\")\n",
    "except ValueError as v:\n",
    "    logging.error(v)"
   ]
  },
  {
   "cell_type": "code",
   "execution_count": null,
   "id": "9f51827d",
   "metadata": {},
   "outputs": [],
   "source": []
  },
  {
   "cell_type": "code",
   "execution_count": null,
   "id": "749e6496",
   "metadata": {},
   "outputs": [],
   "source": []
  }
 ],
 "metadata": {
  "kernelspec": {
   "display_name": "Python 3 (ipykernel)",
   "language": "python",
   "name": "python3"
  },
  "language_info": {
   "codemirror_mode": {
    "name": "ipython",
    "version": 3
   },
   "file_extension": ".py",
   "mimetype": "text/x-python",
   "name": "python",
   "nbconvert_exporter": "python",
   "pygments_lexer": "ipython3",
   "version": "3.9.13"
  }
 },
 "nbformat": 4,
 "nbformat_minor": 5
}
