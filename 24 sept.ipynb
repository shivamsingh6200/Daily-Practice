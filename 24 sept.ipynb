{
 "cells": [
  {
   "cell_type": "markdown",
   "id": "1389193a",
   "metadata": {},
   "source": [
    "# recursion"
   ]
  },
  {
   "cell_type": "markdown",
   "id": "81e1361d",
   "metadata": {},
   "source": [
    "### find len of string"
   ]
  },
  {
   "cell_type": "code",
   "execution_count": 4,
   "id": "b52aed92",
   "metadata": {},
   "outputs": [
    {
     "name": "stdout",
     "output_type": "stream",
     "text": [
      "Enter the word : singh\n"
     ]
    },
    {
     "data": {
      "text/plain": [
       "5"
      ]
     },
     "execution_count": 4,
     "metadata": {},
     "output_type": "execute_result"
    }
   ],
   "source": [
    "def find_len(s):\n",
    "    if s==\"\":\n",
    "        return 0\n",
    "    else:\n",
    "        return 1+find_len(s[1:])\n",
    "str_1=input(\"Enter the word : \")\n",
    "find_len(str_1)"
   ]
  },
  {
   "cell_type": "markdown",
   "id": "4ec122e0",
   "metadata": {},
   "source": [
    "### find reverse of  string"
   ]
  },
  {
   "cell_type": "code",
   "execution_count": 8,
   "id": "6ebb95c1",
   "metadata": {},
   "outputs": [
    {
     "name": "stdout",
     "output_type": "stream",
     "text": [
      "Enter the word : shivam\n"
     ]
    },
    {
     "data": {
      "text/plain": [
       "'mavihs'"
      ]
     },
     "execution_count": 8,
     "metadata": {},
     "output_type": "execute_result"
    }
   ],
   "source": [
    "def find_reverse(s):\n",
    "    if s==\"\":\n",
    "        return \"\"\n",
    "    else:\n",
    "        return find_reverse(s[1:]) + s[0]\n",
    "str_2=input(\"Enter the word : \")\n",
    "find_reverse(str_2)"
   ]
  },
  {
   "cell_type": "markdown",
   "id": "5c6b4f3a",
   "metadata": {},
   "source": [
    "### find total no. of times a char is repeated"
   ]
  },
  {
   "cell_type": "code",
   "execution_count": 9,
   "id": "1e450806",
   "metadata": {},
   "outputs": [],
   "source": [
    "def find_char_count(s,c):\n",
    "    if s==\"\":\n",
    "        return 0\n",
    "    elif s[0]==c:\n",
    "        return 1+find_char_count(s[1:],c)\n",
    "    else:\n",
    "        return find_char_count(s[1:],c)"
   ]
  },
  {
   "cell_type": "code",
   "execution_count": 13,
   "id": "41340337",
   "metadata": {},
   "outputs": [
    {
     "data": {
      "text/plain": [
       "4"
      ]
     },
     "execution_count": 13,
     "metadata": {},
     "output_type": "execute_result"
    }
   ],
   "source": [
    "find_char_count(\"shiaassahiasacchh\",\"s\")"
   ]
  },
  {
   "cell_type": "markdown",
   "id": "3187dcaf",
   "metadata": {},
   "source": [
    "### check list is shorted or not"
   ]
  },
  {
   "cell_type": "code",
   "execution_count": 14,
   "id": "9dae36ad",
   "metadata": {},
   "outputs": [],
   "source": [
    "def list_check(list1):\n",
    "    if len(list1)<=1:\n",
    "        return True\n",
    "    elif list1[0]>list1[1]:\n",
    "        return False\n",
    "    else:\n",
    "        return list_check(list1[1:])"
   ]
  },
  {
   "cell_type": "code",
   "execution_count": 17,
   "id": "77ab6ad4",
   "metadata": {},
   "outputs": [
    {
     "data": {
      "text/plain": [
       "True"
      ]
     },
     "execution_count": 17,
     "metadata": {},
     "output_type": "execute_result"
    }
   ],
   "source": [
    "list1=[1,2,3,4,5,6,7,8]\n",
    "list_check(list1)"
   ]
  },
  {
   "cell_type": "markdown",
   "id": "6416e565",
   "metadata": {},
   "source": [
    "### check a number is a prefect square"
   ]
  },
  {
   "cell_type": "code",
   "execution_count": 22,
   "id": "977363d5",
   "metadata": {},
   "outputs": [],
   "source": [
    "def check_per_suare(n,start=1):\n",
    "    if n==start**2:\n",
    "        return True\n",
    "    elif n<start**2:\n",
    "        return False\n",
    "    else:\n",
    "        return check_per_suare(n,start+1)"
   ]
  },
  {
   "cell_type": "code",
   "execution_count": 28,
   "id": "5e208720",
   "metadata": {},
   "outputs": [
    {
     "data": {
      "text/plain": [
       "True"
      ]
     },
     "execution_count": 28,
     "metadata": {},
     "output_type": "execute_result"
    }
   ],
   "source": [
    "check_per_suare(64)"
   ]
  },
  {
   "cell_type": "markdown",
   "id": "5dd95c38",
   "metadata": {},
   "source": [
    "# iterator and iterable"
   ]
  },
  {
   "cell_type": "code",
   "execution_count": 38,
   "id": "9fa2e937",
   "metadata": {},
   "outputs": [],
   "source": [
    "str_3=\"hlw\""
   ]
  },
  {
   "cell_type": "code",
   "execution_count": 39,
   "id": "800e386b",
   "metadata": {},
   "outputs": [
    {
     "data": {
      "text/plain": [
       "<str_iterator at 0x212d8fccb20>"
      ]
     },
     "execution_count": 39,
     "metadata": {},
     "output_type": "execute_result"
    }
   ],
   "source": [
    "iter(str_3)"
   ]
  },
  {
   "cell_type": "code",
   "execution_count": 40,
   "id": "ef068052",
   "metadata": {},
   "outputs": [],
   "source": [
    "s1=iter(str_3)"
   ]
  },
  {
   "cell_type": "code",
   "execution_count": 41,
   "id": "2c1e3aff",
   "metadata": {},
   "outputs": [
    {
     "data": {
      "text/plain": [
       "<str_iterator at 0x212d8fccf70>"
      ]
     },
     "execution_count": 41,
     "metadata": {},
     "output_type": "execute_result"
    }
   ],
   "source": [
    "s1"
   ]
  },
  {
   "cell_type": "code",
   "execution_count": 42,
   "id": "305d3769",
   "metadata": {},
   "outputs": [
    {
     "data": {
      "text/plain": [
       "'h'"
      ]
     },
     "execution_count": 42,
     "metadata": {},
     "output_type": "execute_result"
    }
   ],
   "source": [
    "next(s1)"
   ]
  },
  {
   "cell_type": "code",
   "execution_count": 43,
   "id": "1c0415ec",
   "metadata": {},
   "outputs": [
    {
     "data": {
      "text/plain": [
       "'l'"
      ]
     },
     "execution_count": 43,
     "metadata": {},
     "output_type": "execute_result"
    }
   ],
   "source": [
    "next(s1)"
   ]
  },
  {
   "cell_type": "code",
   "execution_count": 44,
   "id": "da509aca",
   "metadata": {},
   "outputs": [
    {
     "data": {
      "text/plain": [
       "'w'"
      ]
     },
     "execution_count": 44,
     "metadata": {},
     "output_type": "execute_result"
    }
   ],
   "source": [
    "next(s1)"
   ]
  },
  {
   "cell_type": "code",
   "execution_count": 45,
   "id": "73f28685",
   "metadata": {},
   "outputs": [
    {
     "ename": "StopIteration",
     "evalue": "",
     "output_type": "error",
     "traceback": [
      "\u001b[1;31m---------------------------------------------------------------------------\u001b[0m",
      "\u001b[1;31mStopIteration\u001b[0m                             Traceback (most recent call last)",
      "\u001b[1;32m~\\AppData\\Local\\Temp\\ipykernel_24076\\1205934168.py\u001b[0m in \u001b[0;36m<module>\u001b[1;34m\u001b[0m\n\u001b[1;32m----> 1\u001b[1;33m \u001b[0mnext\u001b[0m\u001b[1;33m(\u001b[0m\u001b[0ms1\u001b[0m\u001b[1;33m)\u001b[0m\u001b[1;33m\u001b[0m\u001b[1;33m\u001b[0m\u001b[0m\n\u001b[0m",
      "\u001b[1;31mStopIteration\u001b[0m: "
     ]
    }
   ],
   "source": [
    "next(s1)"
   ]
  },
  {
   "cell_type": "markdown",
   "id": "f369d8b0",
   "metadata": {},
   "source": [
    "# yield\n"
   ]
  },
  {
   "cell_type": "markdown",
   "id": "0d9e80b9",
   "metadata": {},
   "source": [
    "### return like function"
   ]
  },
  {
   "cell_type": "code",
   "execution_count": 47,
   "id": "feb32f27",
   "metadata": {},
   "outputs": [],
   "source": [
    "def count_func(n):\n",
    "    i=0\n",
    "    while i <n:\n",
    "        yield i\n",
    "        i+=1"
   ]
  },
  {
   "cell_type": "code",
   "execution_count": 48,
   "id": "e986bda6",
   "metadata": {},
   "outputs": [
    {
     "data": {
      "text/plain": [
       "<generator object count_func at 0x00000212D9847580>"
      ]
     },
     "execution_count": 48,
     "metadata": {},
     "output_type": "execute_result"
    }
   ],
   "source": [
    "count_func(5)"
   ]
  },
  {
   "cell_type": "code",
   "execution_count": 49,
   "id": "134725a6",
   "metadata": {},
   "outputs": [
    {
     "name": "stdout",
     "output_type": "stream",
     "text": [
      "0\n",
      "1\n",
      "2\n",
      "3\n",
      "4\n"
     ]
    }
   ],
   "source": [
    "for i in count_func(5):\n",
    "    print(i)"
   ]
  },
  {
   "cell_type": "code",
   "execution_count": 50,
   "id": "6cfd99be",
   "metadata": {},
   "outputs": [],
   "source": [
    "j=iter(count_func(5))"
   ]
  },
  {
   "cell_type": "code",
   "execution_count": 51,
   "id": "90e4b356",
   "metadata": {},
   "outputs": [
    {
     "data": {
      "text/plain": [
       "<generator object count_func at 0x00000212D9847900>"
      ]
     },
     "execution_count": 51,
     "metadata": {},
     "output_type": "execute_result"
    }
   ],
   "source": [
    "j"
   ]
  },
  {
   "cell_type": "code",
   "execution_count": 52,
   "id": "68f89cad",
   "metadata": {},
   "outputs": [
    {
     "data": {
      "text/plain": [
       "0"
      ]
     },
     "execution_count": 52,
     "metadata": {},
     "output_type": "execute_result"
    }
   ],
   "source": [
    "next(j)"
   ]
  },
  {
   "cell_type": "code",
   "execution_count": 53,
   "id": "39fd1d4b",
   "metadata": {},
   "outputs": [
    {
     "data": {
      "text/plain": [
       "1"
      ]
     },
     "execution_count": 53,
     "metadata": {},
     "output_type": "execute_result"
    }
   ],
   "source": [
    "next(j)"
   ]
  },
  {
   "cell_type": "code",
   "execution_count": 54,
   "id": "08da2efc",
   "metadata": {},
   "outputs": [
    {
     "data": {
      "text/plain": [
       "2"
      ]
     },
     "execution_count": 54,
     "metadata": {},
     "output_type": "execute_result"
    }
   ],
   "source": [
    "next(j)"
   ]
  },
  {
   "cell_type": "code",
   "execution_count": 55,
   "id": "50e6f785",
   "metadata": {},
   "outputs": [
    {
     "data": {
      "text/plain": [
       "3"
      ]
     },
     "execution_count": 55,
     "metadata": {},
     "output_type": "execute_result"
    }
   ],
   "source": [
    "next(j)"
   ]
  },
  {
   "cell_type": "code",
   "execution_count": 56,
   "id": "00d715cc",
   "metadata": {},
   "outputs": [
    {
     "data": {
      "text/plain": [
       "4"
      ]
     },
     "execution_count": 56,
     "metadata": {},
     "output_type": "execute_result"
    }
   ],
   "source": [
    "next(j)"
   ]
  },
  {
   "cell_type": "code",
   "execution_count": 57,
   "id": "d9380df4",
   "metadata": {},
   "outputs": [
    {
     "ename": "StopIteration",
     "evalue": "",
     "output_type": "error",
     "traceback": [
      "\u001b[1;31m---------------------------------------------------------------------------\u001b[0m",
      "\u001b[1;31mStopIteration\u001b[0m                             Traceback (most recent call last)",
      "\u001b[1;32m~\\AppData\\Local\\Temp\\ipykernel_24076\\1355655587.py\u001b[0m in \u001b[0;36m<module>\u001b[1;34m\u001b[0m\n\u001b[1;32m----> 1\u001b[1;33m \u001b[0mnext\u001b[0m\u001b[1;33m(\u001b[0m\u001b[0mj\u001b[0m\u001b[1;33m)\u001b[0m\u001b[1;33m\u001b[0m\u001b[1;33m\u001b[0m\u001b[0m\n\u001b[0m",
      "\u001b[1;31mStopIteration\u001b[0m: "
     ]
    }
   ],
   "source": [
    "next(j)"
   ]
  },
  {
   "cell_type": "markdown",
   "id": "3fda2038",
   "metadata": {},
   "source": [
    "### fibo series"
   ]
  },
  {
   "cell_type": "code",
   "execution_count": 58,
   "id": "e5f3bc36",
   "metadata": {},
   "outputs": [],
   "source": [
    "def fibo_series(n):\n",
    "    a,b=0,1\n",
    "    for i in range(n):\n",
    "        yield a\n",
    "        c=a+b\n",
    "        a=b\n",
    "        b=c"
   ]
  },
  {
   "cell_type": "code",
   "execution_count": 60,
   "id": "29f258cd",
   "metadata": {},
   "outputs": [
    {
     "name": "stdout",
     "output_type": "stream",
     "text": [
      "0\n",
      "1\n",
      "1\n",
      "2\n",
      "3\n",
      "5\n",
      "8\n",
      "13\n",
      "21\n"
     ]
    }
   ],
   "source": [
    "for i in fibo_series(9):\n",
    "    print(i)"
   ]
  },
  {
   "cell_type": "markdown",
   "id": "2dff0525",
   "metadata": {},
   "source": [
    "### read txt file"
   ]
  },
  {
   "cell_type": "code",
   "execution_count": 65,
   "id": "5c3e6a25",
   "metadata": {},
   "outputs": [
    {
     "data": {
      "text/plain": [
       "'C:\\\\Users\\\\SHIVAM SINGH\\\\Desktop\\\\Pw Skills'"
      ]
     },
     "execution_count": 65,
     "metadata": {},
     "output_type": "execute_result"
    }
   ],
   "source": [
    "pwd"
   ]
  },
  {
   "cell_type": "code",
   "execution_count": 66,
   "id": "bae39175",
   "metadata": {},
   "outputs": [
    {
     "data": {
      "text/plain": [
       "<_io.TextIOWrapper name='test1.txt' mode='r' encoding='cp1252'>"
      ]
     },
     "execution_count": 66,
     "metadata": {},
     "output_type": "execute_result"
    }
   ],
   "source": [
    "open(\"test1.txt\")"
   ]
  },
  {
   "cell_type": "code",
   "execution_count": 70,
   "id": "6c61f669",
   "metadata": {},
   "outputs": [
    {
     "name": "stdout",
     "output_type": "stream",
     "text": [
      "Once upon a time, in a quaint village nestled among rolling hills, there lived a reclusive artist named Luna. Her cottage was adorned with ivy, and a white cat named Whiskers was her only companion. Luna's days were spent lost in the vibrant swirls of her canvases, painting the dreams that danced through her mind.\n",
      "\n",
      "\n",
      "\n",
      "One crisp autumn morning, a mysterious letter arrived on Luna's doorstep, sealed with an ornate wax insignia. It was an invitation to the grand art exhibition in the bustling city, where her work had been discovered by a renowned curator. Initially hesitant, Luna's curiosity overcame her fears, and she embarked on a journey to the unknown.\n",
      "\n",
      "\n",
      "\n",
      "As Luna arrived at the city, the cacophony of life overwhelmed her senses. She was a stranger in a vibrant, bustling world. However, as her paintings were unveiled, a hush descended upon the crowd. Luna's art seemed to capture the essence of forgotten dreams and unspoken desires.\n",
      "\n",
      "\n",
      "\n",
      "Among the attendees was a gentle-hearted musician named Leo, who was moved by Luna's artistry. They struck up a conversation and found a deep connection through their shared appreciation for the beauty in the world. Luna's world expanded as she discovered love and friendship, and Leo found inspiration in her art.\n",
      "\n",
      "\n",
      "\n",
      "The grand exhibition marked a new beginning for Luna. She continued to paint, now with the colors of life and love. And as for Whiskers, he watched over the two souls who had found each other amidst the colors and canvases, knowing that their stories were only just beginning.\n"
     ]
    }
   ],
   "source": [
    "for i in open(\"test1.txt\"):\n",
    "    print(i)"
   ]
  },
  {
   "cell_type": "markdown",
   "id": "4cd313c0",
   "metadata": {},
   "source": [
    "### read and return using yield"
   ]
  },
  {
   "cell_type": "code",
   "execution_count": 73,
   "id": "31132a00",
   "metadata": {},
   "outputs": [],
   "source": [
    "def read_file(file_name):\n",
    "    with open(file_name) as file:\n",
    "        for i in file:\n",
    "            yield i"
   ]
  },
  {
   "cell_type": "code",
   "execution_count": 74,
   "id": "17c572ed",
   "metadata": {},
   "outputs": [
    {
     "data": {
      "text/plain": [
       "<generator object read_file at 0x00000212D8F44970>"
      ]
     },
     "execution_count": 74,
     "metadata": {},
     "output_type": "execute_result"
    }
   ],
   "source": [
    "read_file(\"test1.txt\")"
   ]
  },
  {
   "cell_type": "code",
   "execution_count": 75,
   "id": "23081719",
   "metadata": {},
   "outputs": [
    {
     "name": "stdout",
     "output_type": "stream",
     "text": [
      "Once upon a time, in a quaint village nestled among rolling hills, there lived a reclusive artist named Luna. Her cottage was adorned with ivy, and a white cat named Whiskers was her only companion. Luna's days were spent lost in the vibrant swirls of her canvases, painting the dreams that danced through her mind.\n",
      "\n",
      "\n",
      "\n",
      "One crisp autumn morning, a mysterious letter arrived on Luna's doorstep, sealed with an ornate wax insignia. It was an invitation to the grand art exhibition in the bustling city, where her work had been discovered by a renowned curator. Initially hesitant, Luna's curiosity overcame her fears, and she embarked on a journey to the unknown.\n",
      "\n",
      "\n",
      "\n",
      "As Luna arrived at the city, the cacophony of life overwhelmed her senses. She was a stranger in a vibrant, bustling world. However, as her paintings were unveiled, a hush descended upon the crowd. Luna's art seemed to capture the essence of forgotten dreams and unspoken desires.\n",
      "\n",
      "\n",
      "\n",
      "Among the attendees was a gentle-hearted musician named Leo, who was moved by Luna's artistry. They struck up a conversation and found a deep connection through their shared appreciation for the beauty in the world. Luna's world expanded as she discovered love and friendship, and Leo found inspiration in her art.\n",
      "\n",
      "\n",
      "\n",
      "The grand exhibition marked a new beginning for Luna. She continued to paint, now with the colors of life and love. And as for Whiskers, he watched over the two souls who had found each other amidst the colors and canvases, knowing that their stories were only just beginning.\n"
     ]
    }
   ],
   "source": [
    "for i in read_file(\"test1.txt\"):\n",
    "    print(i)"
   ]
  },
  {
   "cell_type": "code",
   "execution_count": null,
   "id": "b41b97ec",
   "metadata": {},
   "outputs": [],
   "source": []
  },
  {
   "cell_type": "code",
   "execution_count": null,
   "id": "5578d5ed",
   "metadata": {},
   "outputs": [],
   "source": []
  },
  {
   "cell_type": "code",
   "execution_count": null,
   "id": "4c1a9ef3",
   "metadata": {},
   "outputs": [],
   "source": []
  },
  {
   "cell_type": "code",
   "execution_count": null,
   "id": "3f709c60",
   "metadata": {},
   "outputs": [],
   "source": []
  }
 ],
 "metadata": {
  "kernelspec": {
   "display_name": "Python 3 (ipykernel)",
   "language": "python",
   "name": "python3"
  },
  "language_info": {
   "codemirror_mode": {
    "name": "ipython",
    "version": 3
   },
   "file_extension": ".py",
   "mimetype": "text/x-python",
   "name": "python",
   "nbconvert_exporter": "python",
   "pygments_lexer": "ipython3",
   "version": "3.9.13"
  }
 },
 "nbformat": 4,
 "nbformat_minor": 5
}
