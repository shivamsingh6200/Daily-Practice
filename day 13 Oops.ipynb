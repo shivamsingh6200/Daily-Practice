{
 "cells": [
  {
   "cell_type": "code",
   "execution_count": 7,
   "id": "e7999989",
   "metadata": {},
   "outputs": [],
   "source": [
    "class pwskills:\n",
    "    \n",
    "    def __init__(self,mentor):\n",
    "        self.mentor=mentor\n",
    "    \n",
    "    def show_mentor(self):\n",
    "        print(self.mentor)\n",
    "\n",
    "class data_science(pwskills):\n",
    "    \n",
    "    def __init__(self,mentor,mentor_email):\n",
    "        self.mentor=mentor\n",
    "        self.mentor_email=mentor_email\n",
    "        \n",
    "    def show_details(self):\n",
    "        print(self.mentor,self.mentor_email)"
   ]
  },
  {
   "cell_type": "code",
   "execution_count": 8,
   "id": "9195c083",
   "metadata": {},
   "outputs": [],
   "source": [
    "python_basic=data_science(\"shivam\",\"shivam@gmail.com\")"
   ]
  },
  {
   "cell_type": "code",
   "execution_count": 9,
   "id": "c2d1607a",
   "metadata": {},
   "outputs": [
    {
     "name": "stdout",
     "output_type": "stream",
     "text": [
      "shivam shivam@gmail.com\n"
     ]
    }
   ],
   "source": [
    "python_basic.show_details()"
   ]
  },
  {
   "cell_type": "code",
   "execution_count": 11,
   "id": "0cc366bf",
   "metadata": {},
   "outputs": [
    {
     "name": "stdout",
     "output_type": "stream",
     "text": [
      "shivam\n"
     ]
    }
   ],
   "source": [
    "python_basic.show_mentor()"
   ]
  },
  {
   "cell_type": "code",
   "execution_count": null,
   "id": "b267ee30",
   "metadata": {},
   "outputs": [],
   "source": []
  },
  {
   "cell_type": "code",
   "execution_count": null,
   "id": "b19b038a",
   "metadata": {},
   "outputs": [],
   "source": []
  },
  {
   "cell_type": "code",
   "execution_count": 16,
   "id": "24f59ce6",
   "metadata": {},
   "outputs": [],
   "source": [
    "class pwskills:\n",
    "    \n",
    "    def __init__(self,mentor):\n",
    "        self.mentor=mentor\n",
    "    \n",
    "    def show_mentor(self):\n",
    "        print(self.mentor)\n",
    "\n",
    "class data_science(pwskills):\n",
    "    \n",
    "    def __init__(self,mentor,mentor_email):\n",
    "        super().__init__(mentor)\n",
    "        self.mentor_email=mentor_email\n",
    "        \n",
    "    def show_details(self):\n",
    "        super().show_mentor()\n",
    "        print(self.mentor,self.mentor_email)"
   ]
  },
  {
   "cell_type": "code",
   "execution_count": 17,
   "id": "752c25ff",
   "metadata": {},
   "outputs": [],
   "source": [
    "python_basic=data_science(\"shivam\",\"shivam@gmail.com\")"
   ]
  },
  {
   "cell_type": "code",
   "execution_count": 18,
   "id": "6866daa7",
   "metadata": {},
   "outputs": [
    {
     "name": "stdout",
     "output_type": "stream",
     "text": [
      "shivam\n",
      "shivam shivam@gmail.com\n"
     ]
    }
   ],
   "source": [
    "python_basic.show_details()"
   ]
  },
  {
   "cell_type": "code",
   "execution_count": 15,
   "id": "0b9d5347",
   "metadata": {},
   "outputs": [
    {
     "name": "stdout",
     "output_type": "stream",
     "text": [
      "shivam\n"
     ]
    }
   ],
   "source": [
    "python_basic.show_mentor()"
   ]
  },
  {
   "cell_type": "code",
   "execution_count": null,
   "id": "30a8a583",
   "metadata": {},
   "outputs": [],
   "source": []
  },
  {
   "cell_type": "code",
   "execution_count": null,
   "id": "ade6e2ef",
   "metadata": {},
   "outputs": [],
   "source": []
  },
  {
   "cell_type": "code",
   "execution_count": 14,
   "id": "14d78f67",
   "metadata": {},
   "outputs": [],
   "source": [
    "class human():\n",
    "    \n",
    "    def __init__(self):\n",
    "        pass\n",
    "    \n",
    "    def eat(self):\n",
    "        print(\"print the eat method from human class\")"
   ]
  },
  {
   "cell_type": "code",
   "execution_count": 22,
   "id": "f6b8624d",
   "metadata": {},
   "outputs": [],
   "source": [
    "class male(human):\n",
    "    def __init__(self,name):\n",
    "        self.name=name\n",
    "    \n",
    "    def eat(self):\n",
    "        super().eat()\n",
    "        print(self.name)\n",
    "        \n",
    "    def __str__(self):\n",
    "        return \"We are in male class\""
   ]
  },
  {
   "cell_type": "code",
   "execution_count": 23,
   "id": "463e7399",
   "metadata": {},
   "outputs": [],
   "source": [
    "shiv=male(\"shivam\")"
   ]
  },
  {
   "cell_type": "code",
   "execution_count": 24,
   "id": "4b050251",
   "metadata": {},
   "outputs": [
    {
     "name": "stdout",
     "output_type": "stream",
     "text": [
      "print the eat method from human class\n",
      "shivam\n"
     ]
    }
   ],
   "source": [
    "shiv.eat()"
   ]
  },
  {
   "cell_type": "code",
   "execution_count": 25,
   "id": "506b1a2f",
   "metadata": {},
   "outputs": [
    {
     "name": "stdout",
     "output_type": "stream",
     "text": [
      "We are in male class\n"
     ]
    }
   ],
   "source": [
    "print(shiv)"
   ]
  },
  {
   "cell_type": "code",
   "execution_count": null,
   "id": "33e02ba0",
   "metadata": {},
   "outputs": [],
   "source": []
  },
  {
   "cell_type": "code",
   "execution_count": null,
   "id": "5f71fcbe",
   "metadata": {},
   "outputs": [],
   "source": []
  },
  {
   "cell_type": "markdown",
   "id": "f48bafc1",
   "metadata": {},
   "source": [
    "# Decorator"
   ]
  },
  {
   "cell_type": "code",
   "execution_count": 27,
   "id": "c2b88e1e",
   "metadata": {},
   "outputs": [],
   "source": [
    "def test(func):\n",
    "    def inner_test():\n",
    "        print(\"this is the start of my inner test\")\n",
    "        func()\n",
    "        print(\"this is the end of my inner test\")\n",
    "    return inner_test\n",
    "\n",
    "@test\n",
    "def test1():\n",
    "    print(\"this is my test 1\")"
   ]
  },
  {
   "cell_type": "code",
   "execution_count": 28,
   "id": "6a97dacf",
   "metadata": {},
   "outputs": [
    {
     "name": "stdout",
     "output_type": "stream",
     "text": [
      "this is the start of my inner test\n",
      "this is my test 1\n",
      "this is the end of my inner test\n"
     ]
    }
   ],
   "source": [
    "test1()"
   ]
  },
  {
   "cell_type": "code",
   "execution_count": 38,
   "id": "bfbfe703",
   "metadata": {},
   "outputs": [
    {
     "name": "stdout",
     "output_type": "stream",
     "text": [
      "my name is shivam\n",
      "my roll is 22\n"
     ]
    }
   ],
   "source": [
    "def my_name(func):\n",
    "    def class1():\n",
    "        print(\"i m in 3rd year\")\n",
    "    print(\"my name is shivam\")\n",
    "    func()\n",
    "    return class1\n",
    "    \n",
    "@my_name\n",
    "def roll():\n",
    "    print(\"my roll is 22\")"
   ]
  },
  {
   "cell_type": "code",
   "execution_count": 39,
   "id": "048332f0",
   "metadata": {},
   "outputs": [
    {
     "name": "stdout",
     "output_type": "stream",
     "text": [
      "i m in 3rd year\n"
     ]
    }
   ],
   "source": [
    "roll()"
   ]
  },
  {
   "cell_type": "code",
   "execution_count": null,
   "id": "0a3c2951",
   "metadata": {},
   "outputs": [],
   "source": []
  },
  {
   "cell_type": "code",
   "execution_count": 43,
   "id": "4d6b7e87",
   "metadata": {},
   "outputs": [],
   "source": [
    "def print_list(l):\n",
    "    start_time=time.time()\n",
    "    for i in l:\n",
    "        print(i)\n",
    "    end_time=time.time()\n",
    "    total_time=end_time-start_time\n",
    "    print(total_time)"
   ]
  },
  {
   "cell_type": "code",
   "execution_count": 44,
   "id": "72e080db",
   "metadata": {},
   "outputs": [],
   "source": [
    "def print_key(d):\n",
    "    print(d.keys())"
   ]
  },
  {
   "cell_type": "code",
   "execution_count": 48,
   "id": "f28a5cca",
   "metadata": {},
   "outputs": [],
   "source": [
    "import time\n",
    "def find_time(func):\n",
    "    def cal_time(*args):\n",
    "        start_time=time.time()\n",
    "        func(*args)\n",
    "        end_time=time.time()\n",
    "        total_time=end_time-start_time\n",
    "        print(\"start time =\",start_time,\"end time =\",end_time,\"total time =\",total_time)\n",
    "    return cal_time"
   ]
  },
  {
   "cell_type": "code",
   "execution_count": 49,
   "id": "b0ff0043",
   "metadata": {},
   "outputs": [],
   "source": [
    "@find_time\n",
    "def print_key(d):\n",
    "    print(d.keys())"
   ]
  },
  {
   "cell_type": "code",
   "execution_count": 50,
   "id": "bcb4013f",
   "metadata": {},
   "outputs": [
    {
     "name": "stdout",
     "output_type": "stream",
     "text": [
      "dict_keys(['key', 'name'])\n",
      "start time = 1697449004.2490091 end time = 1697449004.2490091 total time = 0.0\n"
     ]
    }
   ],
   "source": [
    "print_key({\"key\":\"value\",\"name\":\"shivam\"})"
   ]
  },
  {
   "cell_type": "code",
   "execution_count": 51,
   "id": "7ec06295",
   "metadata": {},
   "outputs": [],
   "source": [
    "@find_time\n",
    "def print_list(l):\n",
    "    for i in l:\n",
    "        print(i)"
   ]
  },
  {
   "cell_type": "code",
   "execution_count": 52,
   "id": "d1e65bc8",
   "metadata": {},
   "outputs": [
    {
     "name": "stdout",
     "output_type": "stream",
     "text": [
      "1\n",
      "2\n",
      "3\n",
      "4\n",
      "start time = 1697449008.8066683 end time = 1697449008.8066683 total time = 0.0\n"
     ]
    }
   ],
   "source": [
    "print_list([1,2,3,4])"
   ]
  },
  {
   "cell_type": "code",
   "execution_count": null,
   "id": "167f4b20",
   "metadata": {},
   "outputs": [],
   "source": []
  },
  {
   "cell_type": "markdown",
   "id": "5dfdfe8a",
   "metadata": {},
   "source": [
    "### logging using decorator"
   ]
  },
  {
   "cell_type": "code",
   "execution_count": 43,
   "id": "9678df80",
   "metadata": {},
   "outputs": [],
   "source": [
    "import logging\n",
    "def log_fun(func):\n",
    "    def log_inner(*args):\n",
    "        logging.basicConfig(filename=\"testlog.log\",level=logging.INFO)\n",
    "        logging.info(\"this is the start of my func\")\n",
    "        func(*args)\n",
    "        logging.info(\"this is the end of my func\")\n",
    "    return log_inner"
   ]
  },
  {
   "cell_type": "code",
   "execution_count": 53,
   "id": "77a67423",
   "metadata": {},
   "outputs": [],
   "source": [
    "@find_time\n",
    "@log_fun\n",
    "def print_list(l):\n",
    "    for i in l:\n",
    "        print(i)"
   ]
  },
  {
   "cell_type": "code",
   "execution_count": 54,
   "id": "4ab32b9d",
   "metadata": {},
   "outputs": [
    {
     "name": "stdout",
     "output_type": "stream",
     "text": [
      "1\n",
      "2\n",
      "3\n",
      "4\n",
      "start time = 1697449015.328194 end time = 1697449015.3291984 total time = 0.0010044574737548828\n"
     ]
    }
   ],
   "source": [
    "print_list([1,2,3,4])"
   ]
  },
  {
   "cell_type": "code",
   "execution_count": null,
   "id": "e17a8efb",
   "metadata": {},
   "outputs": [],
   "source": []
  },
  {
   "cell_type": "markdown",
   "id": "fbba4792",
   "metadata": {},
   "source": [
    "## Decorators in classes"
   ]
  },
  {
   "cell_type": "code",
   "execution_count": 61,
   "id": "ae86d274",
   "metadata": {},
   "outputs": [],
   "source": [
    "class shiv:\n",
    "    def __init__(self,subject):\n",
    "        self.__subject=subject\n",
    "    \n",
    "    "
   ]
  },
  {
   "cell_type": "code",
   "execution_count": 62,
   "id": "4dcb9891",
   "metadata": {},
   "outputs": [],
   "source": [
    "s1=shiv(\"dsa\")"
   ]
  },
  {
   "cell_type": "code",
   "execution_count": 63,
   "id": "4f7200b8",
   "metadata": {},
   "outputs": [
    {
     "data": {
      "text/plain": [
       "'dsa'"
      ]
     },
     "execution_count": 63,
     "metadata": {},
     "output_type": "execute_result"
    }
   ],
   "source": [
    "s1._shiv__subject"
   ]
  },
  {
   "cell_type": "code",
   "execution_count": 64,
   "id": "a6bdea36",
   "metadata": {},
   "outputs": [],
   "source": [
    "s1._shiv__subject=\"data science\""
   ]
  },
  {
   "cell_type": "code",
   "execution_count": 65,
   "id": "d3c460f0",
   "metadata": {},
   "outputs": [
    {
     "data": {
      "text/plain": [
       "'data science'"
      ]
     },
     "execution_count": 65,
     "metadata": {},
     "output_type": "execute_result"
    }
   ],
   "source": [
    "s1._shiv__subject"
   ]
  },
  {
   "cell_type": "code",
   "execution_count": null,
   "id": "fee4e73c",
   "metadata": {},
   "outputs": [],
   "source": []
  },
  {
   "cell_type": "code",
   "execution_count": 73,
   "id": "a59dab18",
   "metadata": {},
   "outputs": [],
   "source": [
    "class shiv:\n",
    "    def __init__(self,subject):\n",
    "        self.__subject=subject\n",
    "    \n",
    "    @property\n",
    "    def subject1(self):\n",
    "        return self.__subject\n",
    "    \n",
    "    @subject1.setter\n",
    "    def subject1(self,subject):\n",
    "        self.__subject=subject\n",
    "        \n",
    "    @subject1.getter\n",
    "    def subject1(self):\n",
    "        return self.__subject"
   ]
  },
  {
   "cell_type": "code",
   "execution_count": 74,
   "id": "cf4dd72a",
   "metadata": {},
   "outputs": [],
   "source": [
    "s2=shiv(\"dsa\")"
   ]
  },
  {
   "cell_type": "code",
   "execution_count": 75,
   "id": "80847ba0",
   "metadata": {},
   "outputs": [
    {
     "data": {
      "text/plain": [
       "'dsa'"
      ]
     },
     "execution_count": 75,
     "metadata": {},
     "output_type": "execute_result"
    }
   ],
   "source": [
    "s2.subject1"
   ]
  },
  {
   "cell_type": "code",
   "execution_count": 76,
   "id": "38ceb60a",
   "metadata": {},
   "outputs": [],
   "source": [
    "s2.subject1=\"data science\""
   ]
  },
  {
   "cell_type": "code",
   "execution_count": 77,
   "id": "5ad340f2",
   "metadata": {},
   "outputs": [
    {
     "data": {
      "text/plain": [
       "'data science'"
      ]
     },
     "execution_count": 77,
     "metadata": {},
     "output_type": "execute_result"
    }
   ],
   "source": [
    "s2.subject1"
   ]
  },
  {
   "cell_type": "code",
   "execution_count": null,
   "id": "104975e6",
   "metadata": {},
   "outputs": [],
   "source": []
  }
 ],
 "metadata": {
  "kernelspec": {
   "display_name": "Python 3 (ipykernel)",
   "language": "python",
   "name": "python3"
  },
  "language_info": {
   "codemirror_mode": {
    "name": "ipython",
    "version": 3
   },
   "file_extension": ".py",
   "mimetype": "text/x-python",
   "name": "python",
   "nbconvert_exporter": "python",
   "pygments_lexer": "ipython3",
   "version": "3.11.5"
  }
 },
 "nbformat": 4,
 "nbformat_minor": 5
}
